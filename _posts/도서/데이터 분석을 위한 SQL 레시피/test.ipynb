{
 "cells": [
  {
   "cell_type": "code",
   "execution_count": 42,
   "metadata": {},
   "outputs": [
    {
     "data": {
      "text/plain": [
       "[0, 4, 4]"
      ]
     },
     "execution_count": 42,
     "metadata": {},
     "output_type": "execute_result"
    }
   ],
   "source": [
    "#arr=[[0,1,2],[0,1,2]]\n",
    "arr=[[1,0,2],[2,0,1],[1,0,2]] \n",
    "#arr=[[1,3,2,0],[2,0,1,3],[1,2,0,3]]\n",
    "#arr=\n",
    "answer=0\n",
    "\n",
    "dict_arr={}\n",
    "\n",
    "for j in range(max(arr[0])+1):\n",
    "    standard = j    \n",
    "    mid_arr=[]\n",
    "    for i in range(1,len(arr)):\n",
    "        #절대값 \n",
    "        if arr[i].index(standard) > arr[i-1].index(standard):\n",
    "            mid_arr.append(arr[i].index(standard)-arr[i-1].index(standard))\n",
    "        else:\n",
    "            mid_arr.append(arr[i-1].index(standard)-arr[i].index(standard))\n",
    "    dict_arr[j]=sum(mid_arr)\n",
    "list(dict_arr.values())\n"
   ]
  },
  {
   "cell_type": "code",
   "execution_count": 39,
   "metadata": {},
   "outputs": [
    {
     "data": {
      "text/plain": [
       "[3, 4, 3, 2]"
      ]
     },
     "execution_count": 39,
     "metadata": {},
     "output_type": "execute_result"
    }
   ],
   "source": [
    "rounds = [['b','a','a','d'],['b','c','a','c'],['b','a','d','c']] #2\n",
    "rounds = [['b','a','d','c'], ['b','a','c','d']] #4\n",
    "rounds = [['b','a','d','c'], ['d','c','b','a'], ['b','a','d','c']] #0\n",
    "rounds = [['d','a','a','a'], ['c','a','a','a'], ['b','a','a','a']] #2\n",
    "\n",
    "#규칙 어긴 횟수구하기\n",
    "\n",
    "#직전 라운드에서 자신 지목했던사람 카운트\n",
    "#직전 라운드에서 자신과 커플이 됐던 사람이 또 지목했을 때 카운드\n",
    "\n",
    "#첫번째\n",
    "for i in rounds:\n",
    "    if i!=0:\n",
    "        for j in range(len(rounds[i])):\n",
    "            if  "
   ]
  },
  {
   "cell_type": "code",
   "execution_count": null,
   "metadata": {},
   "outputs": [],
   "source": []
  },
  {
   "cell_type": "code",
   "execution_count": 48,
   "metadata": {},
   "outputs": [
    {
     "ename": "TypeError",
     "evalue": "unsupported operand type(s) for -: 'list' and 'list'",
     "output_type": "error",
     "traceback": [
      "\u001b[1;31m---------------------------------------------------------------------------\u001b[0m",
      "\u001b[1;31mTypeError\u001b[0m                                 Traceback (most recent call last)",
      "Cell \u001b[1;32mIn[48], line 2\u001b[0m\n\u001b[0;32m      1\u001b[0m \u001b[39mimport\u001b[39;00m \u001b[39mmath\u001b[39;00m \n\u001b[1;32m----> 2\u001b[0m test[\u001b[39m0\u001b[39;49m]\u001b[39m-\u001b[39;49mtest[\u001b[39m1\u001b[39;49m]\n",
      "\u001b[1;31mTypeError\u001b[0m: unsupported operand type(s) for -: 'list' and 'list'"
     ]
    }
   ],
   "source": [
    "import math \n",
    "test[0]-test[1]"
   ]
  },
  {
   "cell_type": "code",
   "execution_count": 53,
   "metadata": {},
   "outputs": [],
   "source": [
    "rounds = [['b','a','a','d'],['b','c','a','c'],['b','a','d','c']] #2\n",
    "dict_arr={'a':0, 'b':0,'c':0, 'd':0}\n",
    " \n",
    "#자기자신 지목 \n",
    "for i in range(len(rounds)):\n",
    "    if i !=0:\n",
    "        #지목한 사람 기준 풀 생성\n",
    "        mid_arr={'a':[], 'b':[],'c':[], 'd':[]}\n",
    "        for n in range(len(rounds[i])):\n",
    "            if rounds[i][n]==rounds[i-1][n]:\n",
    "                dict_arr[rounds[i][n]]+=1\n",
    "            #지목했던 커플 또 지목 \n",
    "            else:\n",
    "                #이전에 지목했던 커플이라면 \n",
    "                #커플이란걸 어떻게 알지 \n",
    "                if rounds[i-1][n]=='a':\n",
    "                    mid_arr[]\n",
    "                  \n",
    "                if rounds[i-1][n]=='b':\n",
    "                    \n",
    "                if rounds[i-1][n]=='c':\n",
    "                    \n",
    "                if rounds[i-1][n]=='d':\n",
    "                \n",
    "                \n",
    "                    \n",
    "                mid_arr[rounds[i-1][n]].append()\n",
    "                \n",
    "                \n",
    "                if \n",
    "                mid_arr[n]==test[i-1][n]\n",
    "               "
   ]
  },
  {
   "cell_type": "code",
   "execution_count": 61,
   "metadata": {},
   "outputs": [
    {
     "ename": "TypeError",
     "evalue": "set expected at most 1 argument, got 3",
     "output_type": "error",
     "traceback": [
      "\u001b[1;31m---------------------------------------------------------------------------\u001b[0m",
      "\u001b[1;31mTypeError\u001b[0m                                 Traceback (most recent call last)",
      "Cell \u001b[1;32mIn[61], line 1\u001b[0m\n\u001b[1;32m----> 1\u001b[0m \u001b[39mdict\u001b[39m(\u001b[39mset\u001b[39;49m(\u001b[39m'\u001b[39;49m\u001b[39ma\u001b[39;49m\u001b[39m'\u001b[39;49m,\u001b[39m'\u001b[39;49m\u001b[39mb\u001b[39;49m\u001b[39m'\u001b[39;49m,\u001b[39m'\u001b[39;49m\u001b[39md\u001b[39;49m\u001b[39m'\u001b[39;49m))\n",
      "\u001b[1;31mTypeError\u001b[0m: set expected at most 1 argument, got 3"
     ]
    }
   ],
   "source": [
    "set('a','b','d')"
   ]
  },
  {
   "cell_type": "code",
   "execution_count": 59,
   "metadata": {},
   "outputs": [
    {
     "data": {
      "text/plain": [
       "False"
      ]
     },
     "execution_count": 59,
     "metadata": {},
     "output_type": "execute_result"
    }
   ],
   "source": [
    "t={'a':'b', 'b':'a','c':'a', 'd':'f'}\n",
    "#지목한 사람 기준 풀을 만들고 체크 \n",
    "\n",
    "    \n",
    "\n"
   ]
  },
  {
   "cell_type": "code",
   "execution_count": 81,
   "metadata": {},
   "outputs": [],
   "source": [
    "n=2 #콘센트\n",
    "m=2 #가전제품\n",
    "#[소켓아이디, 프로덕트 아이디, 작동여부(0,1)] \n",
    "# 소켓=콘센트?\n",
    "queries=[[1,1,1], [1,2,0],[2,2,0]] #[2,1]\n",
    "\n",
    "n=2\n",
    "m=2\n",
    "#queries=[[1,1,0], [2,2,0]] #[0,0]\n",
    "\n",
    "n=2\n",
    "m=2\n",
    "#queries=[[1,1,1], [1,2,0],[2,2,1]] #[-1,-1]\n"
   ]
  },
  {
   "cell_type": "code",
   "execution_count": 83,
   "metadata": {},
   "outputs": [
    {
     "name": "stdout",
     "output_type": "stream",
     "text": [
      "0 [2, 2]\n",
      "1 [2, 1]\n",
      "2 [1, 1]\n",
      "[1, 1]\n"
     ]
    }
   ],
   "source": [
    "answer=[m,n]\n",
    "\n",
    "#콘센트 되는거 체크 \n",
    "pos_socket = set()\n",
    "#가전제품 되는거 체크 \n",
    "pos_product = set()\n",
    "\n",
    "#콘센트 안되는거 체크 \n",
    "neg_socket = set()\n",
    "#가전제품 안되는거 체크 \n",
    "neg_product = set()\n",
    "\n",
    "for i in range(len(queries)):\n",
    "    if queries[i][-1]==1:\n",
    "        if (queries[i][0] in neg_product) or (queries[i][1] in neg_product):\n",
    "            answer=[-1,-1]\n",
    "            break   \n",
    "        else:\n",
    "            pos_socket.add(queries[i][0])\n",
    "            pos_product.add(queries[i][1])\n",
    "    else:\n",
    "        if (queries[i][0] not in pos_socket) & (queries[i][0] not in neg_socket):\n",
    "           neg_socket.add(queries[i][0])\n",
    "           answer[0]-=1\n",
    "        elif (queries[i][1] not in pos_product) & (queries[i][1] not in neg_product):\n",
    "            neg_product.add(queries[i][1])\n",
    "            answer[1]-=1 \n",
    "    print(i, answer)\n",
    "print(answer)\n"
   ]
  },
  {
   "cell_type": "code",
   "execution_count": null,
   "metadata": {},
   "outputs": [],
   "source": [
    "n=2 #콘센트\n",
    "m=2 #가전제품\n",
    "#[소켓아이디, 프로덕트 아이디, 작동여부(0,1)] \n",
    "# 소켓=콘센트?\n",
    "queries=[[1,1,1], [1,2,0],[2,2,0]] #[2,1]\n",
    "\n",
    "n=2\n",
    "m=2\n",
    "queries=[[1,1,0], [2,2,0]] #[0,0]\n",
    "\n",
    "n=2\n",
    "m=2\n",
    "queries=[[1,1,1], [1,2,0],[2,2,1]] #[-1,-1]\n"
   ]
  },
  {
   "cell_type": "code",
   "execution_count": 70,
   "metadata": {},
   "outputs": [
    {
     "data": {
      "text/plain": [
       "([1, 2], [1, 2])"
      ]
     },
     "execution_count": 70,
     "metadata": {},
     "output_type": "execute_result"
    }
   ],
   "source": [
    "total = [[] for i in range(m)]\n",
    "answer=[n,m]\n",
    "\n",
    "#콘센트 되는거 체크 \n",
    "pos_socket = set()\n",
    "#가전제품 되는거 체크 \n",
    "pos_product = set()\n",
    "\n",
    "#콘센트 안되는거 체크 \n",
    "neg_socket = set()\n",
    "#가전제품 안되는거 체크 \n",
    "neg_product = set()\n",
    "\n",
    "for i in range(len(queries)):\n",
    "    if queries[i][-1]==1:\n",
    "        if (queries[i][0] in socket) & (queries[i][1] in product):\n",
    "            break \n",
    "    else:\n",
    "        if queries[i][0] not in socket:\n",
    "            socket.append(queries[i][0])\n",
    "            answer[0]-=1\n",
    "           \n",
    "        elif queries[i][1] not in product:\n",
    "            product.append(queries[i][1])\n",
    "            answer[1]-=1 \n",
    "            \n"
   ]
  },
  {
   "cell_type": "code",
   "execution_count": 90,
   "metadata": {},
   "outputs": [],
   "source": [
    "set(['1',2,3,56]).remove(56)"
   ]
  }
 ],
 "metadata": {
  "kernelspec": {
   "display_name": "Python 3",
   "language": "python",
   "name": "python3"
  },
  "language_info": {
   "codemirror_mode": {
    "name": "ipython",
    "version": 3
   },
   "file_extension": ".py",
   "mimetype": "text/x-python",
   "name": "python",
   "nbconvert_exporter": "python",
   "pygments_lexer": "ipython3",
   "version": "3.10.9"
  },
  "orig_nbformat": 4
 },
 "nbformat": 4,
 "nbformat_minor": 2
}
