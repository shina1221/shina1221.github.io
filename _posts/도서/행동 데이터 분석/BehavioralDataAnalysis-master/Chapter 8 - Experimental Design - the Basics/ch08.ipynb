{
 "cells": [
  {
   "cell_type": "markdown",
   "id": "decent-playback",
   "metadata": {},
   "source": [
    "# Chapter 8: Experimental design - the basics"
   ]
  },
  {
   "cell_type": "markdown",
   "id": "published-skirt",
   "metadata": {},
   "source": [
    "## Libraries and data"
   ]
  },
  {
   "cell_type": "markdown",
   "id": "vocational-running",
   "metadata": {},
   "source": [
    "### Libraries"
   ]
  },
  {
   "cell_type": "code",
   "execution_count": 4,
   "id": "twelve-liberty",
   "metadata": {},
   "outputs": [],
   "source": [
    "# Common libraries\n",
    "import pandas as pd\n",
    "import numpy as np\n",
    "import statsmodels.formula.api as smf\n",
    "from statsmodels.formula.api import ols\n",
    "import seaborn as sns\n",
    "\n",
    "# Chapter-specific libraries\n",
    "import statsmodels.stats.proportion as ssprop # To calculate the standardized effect size\n",
    "import statsmodels.stats.power as ssp #To calculate the standard power"
   ]
  },
  {
   "cell_type": "markdown",
   "id": "relative-michigan",
   "metadata": {},
   "source": [
    "### Data"
   ]
  },
  {
   "cell_type": "code",
   "execution_count": 5,
   "id": "daily-teacher",
   "metadata": {},
   "outputs": [],
   "source": [
    "hist_data_df = pd.read_csv('chap8-historical_data.csv')\n",
    "exp_data_df = pd.read_csv('chap8-experimental_data.csv')"
   ]
  },
  {
   "cell_type": "markdown",
   "id": "fundamental-print",
   "metadata": {},
   "source": [
    "## Determining random assignment and sample size/power"
   ]
  },
  {
   "cell_type": "markdown",
   "id": "d3957bb9",
   "metadata": {},
   "source": [
    "### Random assignment"
   ]
  },
  {
   "cell_type": "code",
   "execution_count": 6,
   "id": "skilled-accreditation",
   "metadata": {},
   "outputs": [],
   "source": [
    "### Basic random assignment\n",
    "K = 2\n",
    "assgnt = np.random.uniform(0,1,1)\n",
    "group = \"control\" if assgnt <= 1/K else \"treatment\""
   ]
  },
  {
   "cell_type": "markdown",
   "id": "8209a1db",
   "metadata": {},
   "source": [
    "### Sample size and power analysis"
   ]
  },
  {
   "cell_type": "code",
   "execution_count": 7,
   "id": "played-preparation",
   "metadata": {},
   "outputs": [
    {
     "data": {
      "text/plain": [
       "18950.818821558503"
      ]
     },
     "execution_count": 7,
     "metadata": {},
     "output_type": "execute_result"
    }
   ],
   "source": [
    "effect_size = ssprop.proportion_effectsize(0.194, 0.184)\n",
    "ssp.tt_ind_solve_power(effect_size = effect_size, \n",
    "                       alpha = 0.05, \n",
    "                       nobs1 = None, \n",
    "                       alternative = 'larger', \n",
    "                       power=0.8)"
   ]
  },
  {
   "cell_type": "code",
   "execution_count": 8,
   "id": "interested-ontario",
   "metadata": {},
   "outputs": [
    {
     "data": {
      "text/html": [
       "<table class=\"simpletable\">\n",
       "<caption>Logit Regression Results</caption>\n",
       "<tr>\n",
       "  <th>Dep. Variable:</th>        <td>booked</td>      <th>  No. Observations:  </th>   <td>  2000</td>  \n",
       "</tr>\n",
       "<tr>\n",
       "  <th>Model:</th>                 <td>Logit</td>      <th>  Df Residuals:      </th>   <td>  1996</td>  \n",
       "</tr>\n",
       "<tr>\n",
       "  <th>Method:</th>                 <td>MLE</td>       <th>  Df Model:          </th>   <td>     3</td>  \n",
       "</tr>\n",
       "<tr>\n",
       "  <th>Date:</th>            <td>Thu, 11 May 2023</td> <th>  Pseudo R-squ.:     </th>   <td>0.2893</td>  \n",
       "</tr>\n",
       "<tr>\n",
       "  <th>Time:</th>                <td>14:45:38</td>     <th>  Log-Likelihood:    </th>  <td> -685.96</td> \n",
       "</tr>\n",
       "<tr>\n",
       "  <th>converged:</th>             <td>True</td>       <th>  LL-Null:           </th>  <td> -965.16</td> \n",
       "</tr>\n",
       "<tr>\n",
       "  <th>Covariance Type:</th>     <td>nonrobust</td>    <th>  LLR p-value:       </th> <td>1.053e-120</td>\n",
       "</tr>\n",
       "</table>\n",
       "<table class=\"simpletable\">\n",
       "<tr>\n",
       "         <td></td>           <th>coef</th>     <th>std err</th>      <th>z</th>      <th>P>|z|</th>  <th>[0.025</th>    <th>0.975]</th>  \n",
       "</tr>\n",
       "<tr>\n",
       "  <th>Intercept</th>      <td>   10.7353</td> <td>    0.659</td> <td>   16.287</td> <td> 0.000</td> <td>    9.443</td> <td>   12.027</td>\n",
       "</tr>\n",
       "<tr>\n",
       "  <th>gender[T.male]</th> <td>    0.0387</td> <td>    0.138</td> <td>    0.280</td> <td> 0.779</td> <td>   -0.231</td> <td>    0.309</td>\n",
       "</tr>\n",
       "<tr>\n",
       "  <th>oneclick</th>       <td>    0.0221</td> <td>    0.137</td> <td>    0.162</td> <td> 0.872</td> <td>   -0.246</td> <td>    0.290</td>\n",
       "</tr>\n",
       "<tr>\n",
       "  <th>age</th>            <td>   -0.3292</td> <td>    0.018</td> <td>  -18.200</td> <td> 0.000</td> <td>   -0.365</td> <td>   -0.294</td>\n",
       "</tr>\n",
       "</table>"
      ],
      "text/plain": [
       "<class 'statsmodels.iolib.summary.Summary'>\n",
       "\"\"\"\n",
       "                           Logit Regression Results                           \n",
       "==============================================================================\n",
       "Dep. Variable:                 booked   No. Observations:                 2000\n",
       "Model:                          Logit   Df Residuals:                     1996\n",
       "Method:                           MLE   Df Model:                            3\n",
       "Date:                Thu, 11 May 2023   Pseudo R-squ.:                  0.2893\n",
       "Time:                        14:45:38   Log-Likelihood:                -685.96\n",
       "converged:                       True   LL-Null:                       -965.16\n",
       "Covariance Type:            nonrobust   LLR p-value:                1.053e-120\n",
       "==================================================================================\n",
       "                     coef    std err          z      P>|z|      [0.025      0.975]\n",
       "----------------------------------------------------------------------------------\n",
       "Intercept         10.7353      0.659     16.287      0.000       9.443      12.027\n",
       "gender[T.male]     0.0387      0.138      0.280      0.779      -0.231       0.309\n",
       "oneclick           0.0221      0.137      0.162      0.872      -0.246       0.290\n",
       "age               -0.3292      0.018    -18.200      0.000      -0.365      -0.294\n",
       "==================================================================================\n",
       "\"\"\""
      ]
     },
     "execution_count": 8,
     "metadata": {},
     "output_type": "execute_result"
    }
   ],
   "source": [
    "### Null experimental dataset\n",
    "exp_null_data_df = hist_data_df.copy().sample(2000)\n",
    "exp_null_data_df['oneclick'] = np.where(np.random.uniform(0,1,2000)>0.5, 1, 0)\n",
    "mod = smf.logit('booked ~ oneclick + age + gender', data = exp_null_data_df)\n",
    "mod.fit(disp=0).summary()"
   ]
  },
  {
   "cell_type": "code",
   "execution_count": 9,
   "id": "posted-deputy",
   "metadata": {},
   "outputs": [],
   "source": [
    "### Function definitions\n",
    "\n",
    "## Metric function\n",
    "def log_reg_fun(dat_df):\n",
    "    \n",
    "    model = smf.logit('booked ~ oneclick + age + gender', data = dat_df)\n",
    "    res = model.fit(disp=0)\n",
    "    coeff = res.params['oneclick']\n",
    "    return coeff\n",
    "\n",
    "## Bootstrap CI function\n",
    "def boot_CI_fun(dat_df, metric_fun, B = 100, conf_level = 0.9):\n",
    "  #Setting sample size\n",
    "  N = len(dat_df)\n",
    "  conf_level = conf_level\n",
    "  coeffs = []\n",
    "  \n",
    "  for i in range(B):\n",
    "      sim_data_df = dat_df.sample(n=N, replace = True)\n",
    "      coeff = metric_fun(sim_data_df)\n",
    "      coeffs.append(coeff)\n",
    "  \n",
    "  coeffs.sort()\n",
    "  start_idx = round(B * (1 - conf_level) / 2)\n",
    "  end_idx = - round(B * (1 - conf_level) / 2)\n",
    "  confint = [coeffs[start_idx], coeffs[end_idx]]  \n",
    "  return confint\n",
    "\n",
    "## decision function\n",
    "def decision_fun(dat_df, metric_fun, B = 100, conf_level = 0.9):\n",
    "    boot_CI = boot_CI_fun(dat_df, metric_fun, B = B, conf_level = conf_level)\n",
    "    decision = 1 if boot_CI[0] > 0  else 0\n",
    "    return decision \n",
    "\n",
    "## Function for single simulation\n",
    "def single_sim_fun(Nexp, dat_df = hist_data_df, metric_fun = log_reg_fun, \n",
    "                   eff_size = 0.01, B = 100, conf_level = 0.9):\n",
    "    \n",
    "    #Adding predicted probability of booking\n",
    "    hist_model = smf.logit('booked ~ age + gender + period', data = dat_df)\n",
    "    res = hist_model.fit(disp=0)\n",
    "    sim_data_df = dat_df.copy()\n",
    "    sim_data_df['pred_prob_bkg'] = res.predict()\n",
    "    #Filtering down to desired sample size\n",
    "    sim_data_df = sim_data_df.sample(Nexp)\n",
    "    #Random assignment of experimental groups\n",
    "    sim_data_df['oneclick'] = np.where(np.random.uniform(size=Nexp) <= 0.5, 0, 1)\n",
    "    # Adding effect to treatment group\n",
    "    sim_data_df['pred_prob_bkg'] = np.where(sim_data_df.oneclick == 1, \n",
    "                                            sim_data_df.pred_prob_bkg + eff_size, \n",
    "                                            sim_data_df.pred_prob_bkg)\n",
    "    sim_data_df['booked'] = np.where(sim_data_df.pred_prob_bkg >= \\\n",
    "                                     np.random.uniform(size=Nexp), 1, 0)\n",
    "    \n",
    "    #Calculate the decision (we want it to be 1)\n",
    "    decision = decision_fun(sim_data_df, metric_fun = metric_fun, B = B, \n",
    "                            conf_level = conf_level)\n",
    "     \n",
    "    return decision  \n",
    " \n",
    "## power simulation function\n",
    "def power_sim_fun(dat_df, metric_fun, Nexp, eff_size, Nsim, B = 100, \n",
    "                  conf_level = 0.9):\n",
    "    power_lst = []\n",
    "    for i in range(Nsim):\n",
    "        power_lst.append(single_sim_fun(Nexp = Nexp, dat_df = dat_df, \n",
    "                                        metric_fun = metric_fun, \n",
    "                                        eff_size = eff_size, B = B, \n",
    "                                        conf_level = conf_level))\n",
    "    power = np.mean(power_lst)\n",
    "    return power"
   ]
  },
  {
   "cell_type": "code",
   "execution_count": 10,
   "id": "supported-bhutan",
   "metadata": {},
   "outputs": [
    {
     "data": {
      "text/plain": [
       "0"
      ]
     },
     "execution_count": 10,
     "metadata": {},
     "output_type": "execute_result"
    }
   ],
   "source": [
    "## Single simulation\n",
    "single_sim_fun(Nexp = 1000)"
   ]
  },
  {
   "cell_type": "code",
   "execution_count": 11,
   "id": "boxed-connecticut",
   "metadata": {},
   "outputs": [
    {
     "data": {
      "text/plain": [
       "0.9"
      ]
     },
     "execution_count": 11,
     "metadata": {},
     "output_type": "execute_result"
    }
   ],
   "source": [
    "## Power simulation\n",
    "power_sim_fun(dat_df=hist_data_df, metric_fun = log_reg_fun, Nexp = int(4e4), \n",
    "              eff_size=0.01, Nsim=20)"
   ]
  },
  {
   "cell_type": "code",
   "execution_count": 12,
   "id": "downtown-nature",
   "metadata": {},
   "outputs": [
    {
     "data": {
      "text/plain": [
       "0.2"
      ]
     },
     "execution_count": 12,
     "metadata": {},
     "output_type": "execute_result"
    }
   ],
   "source": [
    "#Alternative parallelized function for higher speed\n",
    "from joblib import Parallel, delayed\n",
    "import psutil\n",
    "\n",
    "def opt_power_sim_fun(dat_df, metric_fun, Nexp, eff_size, Nsim, B = 100, conf_level = 0.9):\n",
    "    #Parallelized version with joblib\n",
    "    n_cpu = psutil.cpu_count() #Counting number of cores on machine\n",
    "    counter = [Nexp] * Nsim\n",
    "    res_parallel = Parallel(n_jobs = n_cpu)(delayed(single_sim_fun)(Nexp) for Nexp in counter)\n",
    "    pwr = np.mean(res_parallel)\n",
    "    return pwr \n",
    "opt_power_sim_fun(dat_df=hist_data_df, metric_fun = log_reg_fun, Nexp = int(1e3), eff_size=0.01, Nsim=10)"
   ]
  },
  {
   "cell_type": "markdown",
   "id": "changing-carter",
   "metadata": {},
   "source": [
    "## Analyzing and interpreting experimental results"
   ]
  },
  {
   "cell_type": "code",
   "execution_count": 13,
   "id": "naughty-wright",
   "metadata": {},
   "outputs": [
    {
     "name": "stdout",
     "output_type": "stream",
     "text": [
      "Optimization terminated successfully.\n",
      "         Current function value: 0.161220\n",
      "         Iterations 9\n"
     ]
    },
    {
     "data": {
      "text/html": [
       "<table class=\"simpletable\">\n",
       "<caption>Logit Regression Results</caption>\n",
       "<tr>\n",
       "  <th>Dep. Variable:</th>        <td>booked</td>      <th>  No. Observations:  </th>  <td> 40160</td> \n",
       "</tr>\n",
       "<tr>\n",
       "  <th>Model:</th>                 <td>Logit</td>      <th>  Df Residuals:      </th>  <td> 40156</td> \n",
       "</tr>\n",
       "<tr>\n",
       "  <th>Method:</th>                 <td>MLE</td>       <th>  Df Model:          </th>  <td>     3</td> \n",
       "</tr>\n",
       "<tr>\n",
       "  <th>Date:</th>            <td>Thu, 11 May 2023</td> <th>  Pseudo R-squ.:     </th>  <td>0.3311</td> \n",
       "</tr>\n",
       "<tr>\n",
       "  <th>Time:</th>                <td>14:53:21</td>     <th>  Log-Likelihood:    </th> <td> -6474.6</td>\n",
       "</tr>\n",
       "<tr>\n",
       "  <th>converged:</th>             <td>True</td>       <th>  LL-Null:           </th> <td> -9679.1</td>\n",
       "</tr>\n",
       "<tr>\n",
       "  <th>Covariance Type:</th>     <td>nonrobust</td>    <th>  LLR p-value:       </th>  <td> 0.000</td> \n",
       "</tr>\n",
       "</table>\n",
       "<table class=\"simpletable\">\n",
       "<tr>\n",
       "         <td></td>           <th>coef</th>     <th>std err</th>      <th>z</th>      <th>P>|z|</th>  <th>[0.025</th>    <th>0.975]</th>  \n",
       "</tr>\n",
       "<tr>\n",
       "  <th>Intercept</th>      <td>   11.6928</td> <td>    0.226</td> <td>   51.819</td> <td> 0.000</td> <td>   11.251</td> <td>   12.135</td>\n",
       "</tr>\n",
       "<tr>\n",
       "  <th>gender[T.male]</th> <td>    0.2542</td> <td>    0.049</td> <td>    5.182</td> <td> 0.000</td> <td>    0.158</td> <td>    0.350</td>\n",
       "</tr>\n",
       "<tr>\n",
       "  <th>age</th>            <td>   -0.3941</td> <td>    0.006</td> <td>  -61.282</td> <td> 0.000</td> <td>   -0.407</td> <td>   -0.381</td>\n",
       "</tr>\n",
       "<tr>\n",
       "  <th>oneclick</th>       <td>    0.1578</td> <td>    0.047</td> <td>    3.357</td> <td> 0.001</td> <td>    0.066</td> <td>    0.250</td>\n",
       "</tr>\n",
       "</table>"
      ],
      "text/plain": [
       "<class 'statsmodels.iolib.summary.Summary'>\n",
       "\"\"\"\n",
       "                           Logit Regression Results                           \n",
       "==============================================================================\n",
       "Dep. Variable:                 booked   No. Observations:                40160\n",
       "Model:                          Logit   Df Residuals:                    40156\n",
       "Method:                           MLE   Df Model:                            3\n",
       "Date:                Thu, 11 May 2023   Pseudo R-squ.:                  0.3311\n",
       "Time:                        14:53:21   Log-Likelihood:                -6474.6\n",
       "converged:                       True   LL-Null:                       -9679.1\n",
       "Covariance Type:            nonrobust   LLR p-value:                     0.000\n",
       "==================================================================================\n",
       "                     coef    std err          z      P>|z|      [0.025      0.975]\n",
       "----------------------------------------------------------------------------------\n",
       "Intercept         11.6928      0.226     51.819      0.000      11.251      12.135\n",
       "gender[T.male]     0.2542      0.049      5.182      0.000       0.158       0.350\n",
       "age               -0.3941      0.006    -61.282      0.000      -0.407      -0.381\n",
       "oneclick           0.1578      0.047      3.357      0.001       0.066       0.250\n",
       "==================================================================================\n",
       "\"\"\""
      ]
     },
     "execution_count": 13,
     "metadata": {},
     "output_type": "execute_result"
    }
   ],
   "source": [
    "### Logistic regression\n",
    "log_mod_exp = smf.logit('booked ~ age + gender + oneclick', data = exp_data_df)\n",
    "res = log_mod_exp.fit()\n",
    "res.summary()"
   ]
  },
  {
   "cell_type": "code",
   "execution_count": 14,
   "id": "entertaining-dutch",
   "metadata": {},
   "outputs": [
    {
     "data": {
      "text/plain": [
       "0.007129714313551981"
      ]
     },
     "execution_count": 14,
     "metadata": {},
     "output_type": "execute_result"
    }
   ],
   "source": [
    "### Calculating average difference in probabilities\n",
    "def diff_prob_fun(dat_df, reg_model = log_mod_exp):\n",
    "    \n",
    "    #Creating new copies of data\n",
    "    no_button_df = dat_df.loc[:, 'age':'gender']\n",
    "    no_button_df.loc[:, 'oneclick'] = 0\n",
    "    button_df = dat_df.loc[:,'age':'gender']\n",
    "    button_df.loc[:, 'oneclick'] = 1\n",
    "    \n",
    "    #Adding the predictions of the model \n",
    "    no_button_df.loc[:, 'pred_bkg_rate'] = res.predict(no_button_df)\n",
    "    button_df.loc[:, 'pred_bkg_rate'] = res.predict(button_df)\n",
    "    \n",
    "    diff = button_df.loc[:,'pred_bkg_rate'] \\\n",
    "    - no_button_df.loc[:,'pred_bkg_rate']\n",
    "    return diff.mean()\n",
    "    \n",
    "diff_prob_fun(exp_data_df, reg_model = log_mod_exp)"
   ]
  },
  {
   "cell_type": "code",
   "execution_count": 15,
   "id": "affecting-hydrogen",
   "metadata": {},
   "outputs": [
    {
     "data": {
      "text/plain": [
       "[0.007052339400072432, 0.007208817552411363]"
      ]
     },
     "execution_count": 15,
     "metadata": {},
     "output_type": "execute_result"
    }
   ],
   "source": [
    "#Calculating Bootstrap 90%-CI for this difference\n",
    "boot_CI_fun(exp_data_df, diff_prob_fun, B = 100, conf_level = 0.9)"
   ]
  },
  {
   "cell_type": "code",
   "execution_count": null,
   "id": "333eb057",
   "metadata": {},
   "outputs": [],
   "source": []
  },
  {
   "cell_type": "code",
   "execution_count": null,
   "id": "965b32d5",
   "metadata": {},
   "outputs": [],
   "source": []
  }
 ],
 "metadata": {
  "kernelspec": {
   "display_name": "Python 3",
   "language": "python",
   "name": "python3"
  },
  "language_info": {
   "codemirror_mode": {
    "name": "ipython",
    "version": 3
   },
   "file_extension": ".py",
   "mimetype": "text/x-python",
   "name": "python",
   "nbconvert_exporter": "python",
   "pygments_lexer": "ipython3",
   "version": "3.7.9"
  }
 },
 "nbformat": 4,
 "nbformat_minor": 5
}
