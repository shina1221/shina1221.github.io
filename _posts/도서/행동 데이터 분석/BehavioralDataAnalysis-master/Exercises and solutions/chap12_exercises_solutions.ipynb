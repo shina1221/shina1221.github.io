{
 "cells": [
  {
   "cell_type": "markdown",
   "id": "decent-playback",
   "metadata": {},
   "source": [
    "# Solutions for chapter 12 exercises"
   ]
  },
  {
   "cell_type": "markdown",
   "id": "comprehensive-batman",
   "metadata": {},
   "source": [
    "## Set up"
   ]
  },
  {
   "cell_type": "code",
   "execution_count": 14,
   "id": "reserved-labor",
   "metadata": {},
   "outputs": [],
   "source": [
    "# Common libraries\n",
    "import pandas as pd\n",
    "import numpy as np\n",
    "from statsmodels.formula.api import ols\n",
    "import seaborn as sns"
   ]
  },
  {
   "cell_type": "code",
   "execution_count": 15,
   "id": "hollow-edinburgh",
   "metadata": {},
   "outputs": [
    {
     "data": {
      "text/html": [
       "<div>\n",
       "<style scoped>\n",
       "    .dataframe tbody tr th:only-of-type {\n",
       "        vertical-align: middle;\n",
       "    }\n",
       "\n",
       "    .dataframe tbody tr th {\n",
       "        vertical-align: top;\n",
       "    }\n",
       "\n",
       "    .dataframe thead th {\n",
       "        text-align: right;\n",
       "    }\n",
       "</style>\n",
       "<table border=\"1\" class=\"dataframe\">\n",
       "  <thead>\n",
       "    <tr style=\"text-align: right;\">\n",
       "      <th></th>\n",
       "      <th>gave</th>\n",
       "      <th>amount</th>\n",
       "      <th>freq</th>\n",
       "      <th>dormant</th>\n",
       "    </tr>\n",
       "  </thead>\n",
       "  <tbody>\n",
       "    <tr>\n",
       "      <th>count</th>\n",
       "      <td>50083.000000</td>\n",
       "      <td>50083.000000</td>\n",
       "      <td>50083.000000</td>\n",
       "      <td>50083.000000</td>\n",
       "    </tr>\n",
       "    <tr>\n",
       "      <th>mean</th>\n",
       "      <td>0.020646</td>\n",
       "      <td>0.915694</td>\n",
       "      <td>8.039355</td>\n",
       "      <td>0.523471</td>\n",
       "    </tr>\n",
       "    <tr>\n",
       "      <th>std</th>\n",
       "      <td>0.142197</td>\n",
       "      <td>8.709199</td>\n",
       "      <td>11.394454</td>\n",
       "      <td>0.499454</td>\n",
       "    </tr>\n",
       "    <tr>\n",
       "      <th>min</th>\n",
       "      <td>0.000000</td>\n",
       "      <td>0.000000</td>\n",
       "      <td>0.000000</td>\n",
       "      <td>0.000000</td>\n",
       "    </tr>\n",
       "    <tr>\n",
       "      <th>25%</th>\n",
       "      <td>0.000000</td>\n",
       "      <td>0.000000</td>\n",
       "      <td>2.000000</td>\n",
       "      <td>0.000000</td>\n",
       "    </tr>\n",
       "    <tr>\n",
       "      <th>50%</th>\n",
       "      <td>0.000000</td>\n",
       "      <td>0.000000</td>\n",
       "      <td>4.000000</td>\n",
       "      <td>1.000000</td>\n",
       "    </tr>\n",
       "    <tr>\n",
       "      <th>75%</th>\n",
       "      <td>0.000000</td>\n",
       "      <td>0.000000</td>\n",
       "      <td>10.000000</td>\n",
       "      <td>1.000000</td>\n",
       "    </tr>\n",
       "    <tr>\n",
       "      <th>max</th>\n",
       "      <td>1.000000</td>\n",
       "      <td>400.000000</td>\n",
       "      <td>218.000000</td>\n",
       "      <td>1.000000</td>\n",
       "    </tr>\n",
       "  </tbody>\n",
       "</table>\n",
       "</div>"
      ],
      "text/plain": [
       "               gave        amount          freq       dormant\n",
       "count  50083.000000  50083.000000  50083.000000  50083.000000\n",
       "mean       0.020646      0.915694      8.039355      0.523471\n",
       "std        0.142197      8.709199     11.394454      0.499454\n",
       "min        0.000000      0.000000      0.000000      0.000000\n",
       "25%        0.000000      0.000000      2.000000      0.000000\n",
       "50%        0.000000      0.000000      4.000000      1.000000\n",
       "75%        0.000000      0.000000     10.000000      1.000000\n",
       "max        1.000000    400.000000    218.000000      1.000000"
      ]
     },
     "execution_count": 15,
     "metadata": {},
     "output_type": "execute_result"
    }
   ],
   "source": [
    "# Reading the data\n",
    "dat_df = pd.read_csv(\"Karlan_List_exercises_data.csv\")\n",
    "dat_df.describe()"
   ]
  },
  {
   "cell_type": "code",
   "execution_count": 16,
   "id": "scheduled-cattle",
   "metadata": {},
   "outputs": [],
   "source": [
    "#Reformating variables as factor\n",
    "dat_df['group'] = pd.Categorical(dat_df['group'], ordered = True, \n",
    "                                 categories = ['ctrl', 'treat1', 'treat2', 'treat3'])\n",
    "dat_df['gender'] = pd.Categorical(dat_df['gender'], ordered = True, \n",
    "                                  categories = ['male', 'female', 'couple'])\n",
    "dat_df['state_pol'] = pd.Categorical(dat_df['state_pol'], ordered = True, \n",
    "                                     categories = ['red', 'blue'])\n",
    "dat_df['county_pol'] = pd.Categorical(dat_df['county_pol'], ordered = True, \n",
    "                                     categories = ['red', 'blue'])"
   ]
  },
  {
   "cell_type": "markdown",
   "id": "connected-fleet",
   "metadata": {},
   "source": [
    "1. Build a 90%-CI for the total effect of gender == female on the amount given by running a regression including other covariates but excluding the tentative mediator."
   ]
  },
  {
   "cell_type": "code",
   "execution_count": 17,
   "id": "grateful-cricket",
   "metadata": {},
   "outputs": [
    {
     "name": "stdout",
     "output_type": "stream",
     "text": [
      "the central value for the total effect of female donors is  -0.11025975826346435\n",
      "the CI for the total effect of female donors is  [-0.26433472172808126, 0.02259294608256681]\n"
     ]
    }
   ],
   "source": [
    "def tot_metric_fun(dat_df):\n",
    "    mod = ols(\"amount~group+gender+state_pol+county_pol\", data=dat_df)\n",
    "    res = mod.fit(disp=0)\n",
    "    coeff = res.params['gender[T.female]']\n",
    "    return coeff\n",
    "\n",
    "def boot_CI_fun(dat_df, metric_fun, B = 100):\n",
    "  #Setting sample size\n",
    "  N = len(dat_df)\n",
    "  conf_level = 0.9\n",
    "  coeffs = []\n",
    "  \n",
    "  \n",
    "  for i in range(B):\n",
    "      sim_data_df = dat_df.sample(n=N, replace = True)\n",
    "      coeff = metric_fun(sim_data_df)\n",
    "      coeffs.append(coeff)\n",
    "  \n",
    "  coeffs.sort()\n",
    "  start_idx = round(B * (1 - conf_level) / 2)\n",
    "  end_idx = - round(B * (1 - conf_level) / 2)\n",
    "  \n",
    "  confint = [coeffs[start_idx], coeffs[end_idx]]  \n",
    "  \n",
    "  return(confint)\n",
    "\n",
    "tot_eff = tot_metric_fun(dat_df)\n",
    "print(\"the central value for the total effect of female donors is \", tot_eff)\n",
    "\n",
    "tot_boot_CI = boot_CI_fun(dat_df, tot_metric_fun, B = 100)\n",
    "print(\"the CI for the total effect of female donors is \", tot_boot_CI)"
   ]
  },
  {
   "cell_type": "markdown",
   "id": "specific-negotiation",
   "metadata": {},
   "source": [
    "2. Build a 90%-CI for the direct effect of gender == female on the amount given by running a regression including other covariates and the tentative mediator."
   ]
  },
  {
   "cell_type": "code",
   "execution_count": 18,
   "id": "known-dividend",
   "metadata": {},
   "outputs": [
    {
     "name": "stdout",
     "output_type": "stream",
     "text": [
      "the central value for the direct effect of female donors is  -0.14654594242382069\n",
      "[-0.30145335059161216, -0.006358189970027166]\n"
     ]
    }
   ],
   "source": [
    "def dir_metric_fun(dat_df):\n",
    "    mod = ols(\"amount~group+gender+state_pol+county_pol+freq\", data=dat_df)\n",
    "    res = mod.fit(disp=0)\n",
    "    coeff = res.params['gender[T.female]']\n",
    "    return coeff\n",
    "\n",
    "dir_eff = dir_metric_fun(dat_df)\n",
    "print(\"The central value for the direct effect of female donors is \", dir_eff)\n",
    "\n",
    "dir_boot_CI = boot_CI_fun(dat_df, dir_metric_fun, B = 100)\n",
    "print(\"The 90%-CI for the direct effect of female donors is \", dir_boot_CI)"
   ]
  },
  {
   "cell_type": "markdown",
   "id": "female-whale",
   "metadata": {},
   "source": [
    "3.\tBuild a 90%-CI for the indirect (mediated) effect of gender == female on the amount given by running the regression of the mediator on gender == female and a regression of the final effect on the mediator, the original cause of interest and relevant covariates, then multiplying the relevant coefficients (warning: do this multiplication inside the Bootstrap loop, not outside of it) "
   ]
  },
  {
   "cell_type": "code",
   "execution_count": 19,
   "id": "abroad-lighting",
   "metadata": {},
   "outputs": [
    {
     "name": "stdout",
     "output_type": "stream",
     "text": [
      "the central value for the indirect effect of female donors is  0.03624812062074483\n",
      "the CI for the indirect effect of female donors is  [0.025771158390007716, 0.053955302891071366]\n"
     ]
    }
   ],
   "source": [
    "def ind_metric_fun(dat_df):\n",
    "    mod1 = ols(\"freq~gender+state_pol+county_pol\", data=dat_df)\n",
    "    res1 = mod1.fit(disp=0)\n",
    "    coeff1 = res1.params['gender[T.female]']\n",
    "    \n",
    "    mod2 = ols(\"amount~group+gender+state_pol+county_pol+freq\", data=dat_df)\n",
    "    res2 = mod2.fit(disp=0)\n",
    "    coeff2 = res2.params['freq']\n",
    "    \n",
    "    coeff = coeff1 * coeff2\n",
    "    \n",
    "    return coeff\n",
    "\n",
    "ind_eff = ind_metric_fun(dat_df)\n",
    "print(\"The central value for the indirect effect of female donors is \", ind_eff)\n",
    "\n",
    "ind_boot_CI = boot_CI_fun(dat_df, ind_metric_fun, B = 100)\n",
    "print(\"The 90%-CI for the indirect effect of female donors is \", ind_boot_CI)"
   ]
  },
  {
   "cell_type": "markdown",
   "id": "third-korean",
   "metadata": {},
   "source": [
    "4.\tBuild a 90%-CI for the percentage mediated by running the same regressions as in 3 but also the regression for the total effect and determining the percentage mediated in each loop. What is your conclusion?"
   ]
  },
  {
   "cell_type": "code",
   "execution_count": 22,
   "id": "looking-screw",
   "metadata": {},
   "outputs": [
    {
     "name": "stdout",
     "output_type": "stream",
     "text": [
      "The central value for the percentage mediated effect of female donors is  -0.3287520414667552\n",
      "The 90%-CI for the percentage mediated effect of female donors is  [-1.7571573844588422, 0.9462565154481545]\n"
     ]
    }
   ],
   "source": [
    "def perc_med_metric_fun(dat_df):\n",
    "    mod1 = ols(\"freq~gender+state_pol+county_pol\", data=dat_df)\n",
    "    res1 = mod1.fit(disp=0)\n",
    "    coeff1 = res1.params['gender[T.female]']\n",
    "    \n",
    "    mod2 = ols(\"amount~group+gender+state_pol+county_pol+freq\", data=dat_df)\n",
    "    res2 = mod2.fit(disp=0)\n",
    "    coeff2 = res2.params['freq']\n",
    "    \n",
    "    mod_tot = ols(\"amount~group+gender+state_pol+county_pol\", data=dat_df)\n",
    "    res_tot = mod_tot.fit(disp=0)\n",
    "    coeff_tot = res_tot.params['gender[T.female]']\n",
    "    \n",
    "    coeff = coeff1 * coeff2 / coeff_tot\n",
    "    \n",
    "    return coeff\n",
    "\n",
    "perc_med = perc_med_metric_fun(dat_df)\n",
    "print(\"The central value for the percentage mediated effect of female donors is \", perc_med)\n",
    "perc_med_boot_CI = boot_CI_fun(dat_df, perc_med_metric_fun, B = 1000)\n",
    "print(\"The 90%-CI for the percentage mediated effect of female donors is \", perc_med_boot_CI)"
   ]
  },
  {
   "cell_type": "markdown",
   "id": "governmental-essex",
   "metadata": {},
   "source": [
    "The 90%-CI for the percentage mediated effect of female donors is approx. [-164%; 85%], with a central value of -30%. The direct and indirect effect are going in opposite directions and mostly cancel each other (a complete cancellation would be a percentage mediated of -100%)"
   ]
  }
 ],
 "metadata": {
  "kernelspec": {
   "display_name": "Python 3",
   "language": "python",
   "name": "python3"
  },
  "language_info": {
   "codemirror_mode": {
    "name": "ipython",
    "version": 3
   },
   "file_extension": ".py",
   "mimetype": "text/x-python",
   "name": "python",
   "nbconvert_exporter": "python",
   "pygments_lexer": "ipython3",
   "version": "3.7.9"
  }
 },
 "nbformat": 4,
 "nbformat_minor": 5
}
