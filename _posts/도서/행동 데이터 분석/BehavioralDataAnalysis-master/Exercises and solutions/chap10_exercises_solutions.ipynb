{
 "cells": [
  {
   "cell_type": "markdown",
   "id": "decent-playback",
   "metadata": {},
   "source": [
    "# Solutions for chapter 10 exercises"
   ]
  },
  {
   "cell_type": "markdown",
   "id": "4f788d6c",
   "metadata": {},
   "source": [
    "## Setup"
   ]
  },
  {
   "cell_type": "code",
   "execution_count": 3,
   "id": "e48d657c",
   "metadata": {},
   "outputs": [],
   "source": [
    "# Common libraries\n",
    "import pandas as pd\n",
    "import numpy as np\n",
    "import statsmodels.formula.api as smf\n",
    "from statsmodels.formula.api import ols\n",
    "import seaborn as sns\n",
    "\n",
    "# To rescale numeric variables\n",
    "from sklearn.preprocessing import MinMaxScaler\n",
    "# To one-hot encode cat. variables\n",
    "from sklearn.preprocessing import OneHotEncoder"
   ]
  },
  {
   "cell_type": "markdown",
   "id": "327b71d6",
   "metadata": {},
   "source": [
    "## Exercise 2 – Hierarchical regression, guided. "
   ]
  },
  {
   "cell_type": "markdown",
   "id": "9475fe28",
   "metadata": {},
   "source": [
    "### 1) Traditional regression."
   ]
  },
  {
   "cell_type": "markdown",
   "id": "0c15e783",
   "metadata": {},
   "source": [
    "a)\tLoad the data in chap4-hotel_booking_case_study.csv and create a copy of it where all countries representing less than 1% of the data are lumped under “Other”."
   ]
  },
  {
   "cell_type": "code",
   "execution_count": 15,
   "id": "60ec4e24",
   "metadata": {},
   "outputs": [
    {
     "data": {
      "text/html": [
       "<div>\n",
       "<style scoped>\n",
       "    .dataframe tbody tr th:only-of-type {\n",
       "        vertical-align: middle;\n",
       "    }\n",
       "\n",
       "    .dataframe tbody tr th {\n",
       "        vertical-align: top;\n",
       "    }\n",
       "\n",
       "    .dataframe thead th {\n",
       "        text-align: right;\n",
       "    }\n",
       "</style>\n",
       "<table border=\"1\" class=\"dataframe\">\n",
       "  <thead>\n",
       "    <tr style=\"text-align: right;\">\n",
       "      <th></th>\n",
       "      <th>NRDeposit</th>\n",
       "      <th>IsCanceled</th>\n",
       "      <th>DistributionChannel</th>\n",
       "      <th>MarketSegment</th>\n",
       "      <th>CustomerType</th>\n",
       "      <th>Children</th>\n",
       "      <th>ADR</th>\n",
       "      <th>PreviousCancellations</th>\n",
       "      <th>IsRepeatedGuest</th>\n",
       "      <th>Country</th>\n",
       "      <th>Quarter</th>\n",
       "      <th>Year</th>\n",
       "    </tr>\n",
       "  </thead>\n",
       "  <tbody>\n",
       "    <tr>\n",
       "      <th>0</th>\n",
       "      <td>0</td>\n",
       "      <td>0</td>\n",
       "      <td>Direct</td>\n",
       "      <td>Direct</td>\n",
       "      <td>Transient</td>\n",
       "      <td>0</td>\n",
       "      <td>0.0</td>\n",
       "      <td>0</td>\n",
       "      <td>0</td>\n",
       "      <td>PRT</td>\n",
       "      <td>Q3</td>\n",
       "      <td>2015</td>\n",
       "    </tr>\n",
       "    <tr>\n",
       "      <th>1</th>\n",
       "      <td>0</td>\n",
       "      <td>0</td>\n",
       "      <td>Direct</td>\n",
       "      <td>Direct</td>\n",
       "      <td>Transient</td>\n",
       "      <td>0</td>\n",
       "      <td>0.0</td>\n",
       "      <td>0</td>\n",
       "      <td>0</td>\n",
       "      <td>PRT</td>\n",
       "      <td>Q3</td>\n",
       "      <td>2015</td>\n",
       "    </tr>\n",
       "    <tr>\n",
       "      <th>2</th>\n",
       "      <td>0</td>\n",
       "      <td>0</td>\n",
       "      <td>Direct</td>\n",
       "      <td>Direct</td>\n",
       "      <td>Transient</td>\n",
       "      <td>0</td>\n",
       "      <td>75.0</td>\n",
       "      <td>0</td>\n",
       "      <td>0</td>\n",
       "      <td>GBR</td>\n",
       "      <td>Q3</td>\n",
       "      <td>2015</td>\n",
       "    </tr>\n",
       "    <tr>\n",
       "      <th>3</th>\n",
       "      <td>0</td>\n",
       "      <td>0</td>\n",
       "      <td>Corporate</td>\n",
       "      <td>Corporate</td>\n",
       "      <td>Transient</td>\n",
       "      <td>0</td>\n",
       "      <td>75.0</td>\n",
       "      <td>0</td>\n",
       "      <td>0</td>\n",
       "      <td>GBR</td>\n",
       "      <td>Q3</td>\n",
       "      <td>2015</td>\n",
       "    </tr>\n",
       "    <tr>\n",
       "      <th>4</th>\n",
       "      <td>0</td>\n",
       "      <td>0</td>\n",
       "      <td>TA/TO</td>\n",
       "      <td>Online TA</td>\n",
       "      <td>Transient</td>\n",
       "      <td>0</td>\n",
       "      <td>98.0</td>\n",
       "      <td>0</td>\n",
       "      <td>0</td>\n",
       "      <td>GBR</td>\n",
       "      <td>Q3</td>\n",
       "      <td>2015</td>\n",
       "    </tr>\n",
       "  </tbody>\n",
       "</table>\n",
       "</div>"
      ],
      "text/plain": [
       "   NRDeposit  IsCanceled DistributionChannel MarketSegment CustomerType  \\\n",
       "0          0           0              Direct        Direct    Transient   \n",
       "1          0           0              Direct        Direct    Transient   \n",
       "2          0           0              Direct        Direct    Transient   \n",
       "3          0           0           Corporate     Corporate    Transient   \n",
       "4          0           0               TA/TO     Online TA    Transient   \n",
       "\n",
       "   Children   ADR  PreviousCancellations  IsRepeatedGuest Country Quarter  \\\n",
       "0         0   0.0                      0                0     PRT      Q3   \n",
       "1         0   0.0                      0                0     PRT      Q3   \n",
       "2         0  75.0                      0                0     GBR      Q3   \n",
       "3         0  75.0                      0                0     GBR      Q3   \n",
       "4         0  98.0                      0                0     GBR      Q3   \n",
       "\n",
       "   Year  \n",
       "0  2015  \n",
       "1  2015  \n",
       "2  2015  \n",
       "3  2015  \n",
       "4  2015  "
      ]
     },
     "execution_count": 15,
     "metadata": {},
     "output_type": "execute_result"
    }
   ],
   "source": [
    "#Loading the data\n",
    "dat_df = pd.read_csv(\"chap4-hotel_booking_case_study.csv\")\n",
    "#Removing NA's for the relevant variables\n",
    "dat_df = dat_df.dropna(subset = ['Country', 'ADR', 'MarketSegment'])\n",
    "dat_df.head(5)"
   ]
  },
  {
   "cell_type": "code",
   "execution_count": 16,
   "id": "3dd407fb",
   "metadata": {},
   "outputs": [
    {
     "name": "stdout",
     "output_type": "stream",
     "text": [
      "['PRT', 'GBR', 'FRA', 'ESP', 'DEU', 'ITA', 'IRL', 'BEL', 'BRA', 'NLD', 'USA', 'CHE', 'CN', 'AUT']\n"
     ]
    }
   ],
   "source": [
    "#Reducing the number of values for Country of origin by keeping most frequent countries only\n",
    "#and aggregating the remaining ones under \"Other\"\n",
    "countries_df = dat_df.groupby('Country').agg(pct = ('NRDeposit', lambda x: len(x)/len(dat_df))).\\\n",
    "sort_values(by=['pct'], ascending = False)\n",
    "top_countries_df = countries_df.loc[countries_df.pct >= 0.01].reset_index()\n",
    "top_countries_lst = top_countries_df['Country'].tolist()\n",
    "print(top_countries_lst)\n",
    "dat_df_agg = dat_df.copy()\n",
    "dat_df_agg['Country'] = np.where(dat_df_agg['Country'].isin(top_countries_lst), dat_df_agg['Country'], 'Other')"
   ]
  },
  {
   "cell_type": "markdown",
   "id": "eef42a69",
   "metadata": {},
   "source": [
    "b) Run a linear regression of ADR on Country and MarketSegment. Save the predicted values for all the rows in the data and calculate the mean absolute difference (MAD1) between the predicted values and the true values."
   ]
  },
  {
   "cell_type": "code",
   "execution_count": 17,
   "id": "48493e32",
   "metadata": {},
   "outputs": [
    {
     "data": {
      "text/html": [
       "<table class=\"simpletable\">\n",
       "<caption>OLS Regression Results</caption>\n",
       "<tr>\n",
       "  <th>Dep. Variable:</th>           <td>ADR</td>       <th>  R-squared:         </th>  <td>   0.157</td>  \n",
       "</tr>\n",
       "<tr>\n",
       "  <th>Model:</th>                   <td>OLS</td>       <th>  Adj. R-squared:    </th>  <td>   0.157</td>  \n",
       "</tr>\n",
       "<tr>\n",
       "  <th>Method:</th>             <td>Least Squares</td>  <th>  F-statistic:       </th>  <td>   851.1</td>  \n",
       "</tr>\n",
       "<tr>\n",
       "  <th>Date:</th>             <td>Wed, 23 Jun 2021</td> <th>  Prob (F-statistic):</th>   <td>  0.00</td>   \n",
       "</tr>\n",
       "<tr>\n",
       "  <th>Time:</th>                 <td>10:03:53</td>     <th>  Log-Likelihood:    </th> <td>-4.5939e+05</td>\n",
       "</tr>\n",
       "<tr>\n",
       "  <th>No. Observations:</th>      <td> 86943</td>      <th>  AIC:               </th>  <td>9.188e+05</td> \n",
       "</tr>\n",
       "<tr>\n",
       "  <th>Df Residuals:</th>          <td> 86923</td>      <th>  BIC:               </th>  <td>9.190e+05</td> \n",
       "</tr>\n",
       "<tr>\n",
       "  <th>Df Model:</th>              <td>    19</td>      <th>                     </th>      <td> </td>     \n",
       "</tr>\n",
       "<tr>\n",
       "  <th>Covariance Type:</th>      <td>nonrobust</td>    <th>                     </th>      <td> </td>     \n",
       "</tr>\n",
       "</table>\n",
       "<table class=\"simpletable\">\n",
       "<tr>\n",
       "                 <td></td>                   <th>coef</th>     <th>std err</th>      <th>t</th>      <th>P>|t|</th>  <th>[0.025</th>    <th>0.975]</th>  \n",
       "</tr>\n",
       "<tr>\n",
       "  <th>Intercept</th>                      <td>   76.9789</td> <td>    1.727</td> <td>   44.583</td> <td> 0.000</td> <td>   73.595</td> <td>   80.363</td>\n",
       "</tr>\n",
       "<tr>\n",
       "  <th>Country[T.BEL]</th>                 <td>   -0.4602</td> <td>    1.871</td> <td>   -0.246</td> <td> 0.806</td> <td>   -4.127</td> <td>    3.207</td>\n",
       "</tr>\n",
       "<tr>\n",
       "  <th>Country[T.BRA]</th>                 <td>   -5.5452</td> <td>    1.884</td> <td>   -2.943</td> <td> 0.003</td> <td>   -9.238</td> <td>   -1.852</td>\n",
       "</tr>\n",
       "<tr>\n",
       "  <th>Country[T.CHE]</th>                 <td>    5.3397</td> <td>    1.964</td> <td>    2.718</td> <td> 0.007</td> <td>    1.490</td> <td>    9.190</td>\n",
       "</tr>\n",
       "<tr>\n",
       "  <th>Country[T.CN]</th>                  <td>    1.7780</td> <td>    2.119</td> <td>    0.839</td> <td> 0.401</td> <td>   -2.375</td> <td>    5.931</td>\n",
       "</tr>\n",
       "<tr>\n",
       "  <th>Country[T.DEU]</th>                 <td>   -6.2456</td> <td>    1.682</td> <td>   -3.713</td> <td> 0.000</td> <td>   -9.542</td> <td>   -2.949</td>\n",
       "</tr>\n",
       "<tr>\n",
       "  <th>Country[T.ESP]</th>                 <td>    7.0743</td> <td>    1.649</td> <td>    4.289</td> <td> 0.000</td> <td>    3.842</td> <td>   10.307</td>\n",
       "</tr>\n",
       "<tr>\n",
       "  <th>Country[T.FRA]</th>                 <td>   -1.0628</td> <td>    1.632</td> <td>   -0.651</td> <td> 0.515</td> <td>   -4.262</td> <td>    2.137</td>\n",
       "</tr>\n",
       "<tr>\n",
       "  <th>Country[T.GBR]</th>                 <td>  -10.8968</td> <td>    1.620</td> <td>   -6.724</td> <td> 0.000</td> <td>  -14.073</td> <td>   -7.721</td>\n",
       "</tr>\n",
       "<tr>\n",
       "  <th>Country[T.IRL]</th>                 <td>  -13.5276</td> <td>    1.778</td> <td>   -7.607</td> <td> 0.000</td> <td>  -17.013</td> <td>  -10.042</td>\n",
       "</tr>\n",
       "<tr>\n",
       "  <th>Country[T.ITA]</th>                 <td>    0.8739</td> <td>    1.774</td> <td>    0.493</td> <td> 0.622</td> <td>   -2.604</td> <td>    4.351</td>\n",
       "</tr>\n",
       "<tr>\n",
       "  <th>Country[T.NLD]</th>                 <td>   -7.4581</td> <td>    1.897</td> <td>   -3.932</td> <td> 0.000</td> <td>  -11.176</td> <td>   -3.740</td>\n",
       "</tr>\n",
       "<tr>\n",
       "  <th>Country[T.Other]</th>               <td>    1.2024</td> <td>    1.623</td> <td>    0.741</td> <td> 0.459</td> <td>   -1.978</td> <td>    4.383</td>\n",
       "</tr>\n",
       "<tr>\n",
       "  <th>Country[T.PRT]</th>                 <td>   -9.5227</td> <td>    1.580</td> <td>   -6.026</td> <td> 0.000</td> <td>  -12.620</td> <td>   -6.425</td>\n",
       "</tr>\n",
       "<tr>\n",
       "  <th>Country[T.USA]</th>                 <td>    7.8292</td> <td>    1.904</td> <td>    4.113</td> <td> 0.000</td> <td>    4.098</td> <td>   11.560</td>\n",
       "</tr>\n",
       "<tr>\n",
       "  <th>MarketSegment[T.Direct]</th>        <td>   45.3631</td> <td>    0.881</td> <td>   51.501</td> <td> 0.000</td> <td>   43.637</td> <td>   47.089</td>\n",
       "</tr>\n",
       "<tr>\n",
       "  <th>MarketSegment[T.Groups]</th>        <td>    4.0599</td> <td>    1.022</td> <td>    3.972</td> <td> 0.000</td> <td>    2.056</td> <td>    6.064</td>\n",
       "</tr>\n",
       "<tr>\n",
       "  <th>MarketSegment[T.Offline TA/TO]</th> <td>   10.5627</td> <td>    0.874</td> <td>   12.090</td> <td> 0.000</td> <td>    8.850</td> <td>   12.275</td>\n",
       "</tr>\n",
       "<tr>\n",
       "  <th>MarketSegment[T.Online TA]</th>     <td>   44.7428</td> <td>    0.810</td> <td>   55.233</td> <td> 0.000</td> <td>   43.155</td> <td>   46.331</td>\n",
       "</tr>\n",
       "<tr>\n",
       "  <th>MarketSegment[T.Other]</th>         <td>  -42.3838</td> <td>    1.738</td> <td>  -24.389</td> <td> 0.000</td> <td>  -45.790</td> <td>  -38.978</td>\n",
       "</tr>\n",
       "</table>\n",
       "<table class=\"simpletable\">\n",
       "<tr>\n",
       "  <th>Omnibus:</th>       <td>13152.420</td> <th>  Durbin-Watson:     </th> <td>   0.927</td> \n",
       "</tr>\n",
       "<tr>\n",
       "  <th>Prob(Omnibus):</th>  <td> 0.000</td>   <th>  Jarque-Bera (JB):  </th> <td>26887.407</td>\n",
       "</tr>\n",
       "<tr>\n",
       "  <th>Skew:</th>           <td> 0.925</td>   <th>  Prob(JB):          </th> <td>    0.00</td> \n",
       "</tr>\n",
       "<tr>\n",
       "  <th>Kurtosis:</th>       <td> 5.000</td>   <th>  Cond. No.          </th> <td>    47.3</td> \n",
       "</tr>\n",
       "</table><br/><br/>Notes:<br/>[1] Standard Errors assume that the covariance matrix of the errors is correctly specified."
      ],
      "text/plain": [
       "<class 'statsmodels.iolib.summary.Summary'>\n",
       "\"\"\"\n",
       "                            OLS Regression Results                            \n",
       "==============================================================================\n",
       "Dep. Variable:                    ADR   R-squared:                       0.157\n",
       "Model:                            OLS   Adj. R-squared:                  0.157\n",
       "Method:                 Least Squares   F-statistic:                     851.1\n",
       "Date:                Wed, 23 Jun 2021   Prob (F-statistic):               0.00\n",
       "Time:                        10:03:53   Log-Likelihood:            -4.5939e+05\n",
       "No. Observations:               86943   AIC:                         9.188e+05\n",
       "Df Residuals:                   86923   BIC:                         9.190e+05\n",
       "Df Model:                          19                                         \n",
       "Covariance Type:            nonrobust                                         \n",
       "==================================================================================================\n",
       "                                     coef    std err          t      P>|t|      [0.025      0.975]\n",
       "--------------------------------------------------------------------------------------------------\n",
       "Intercept                         76.9789      1.727     44.583      0.000      73.595      80.363\n",
       "Country[T.BEL]                    -0.4602      1.871     -0.246      0.806      -4.127       3.207\n",
       "Country[T.BRA]                    -5.5452      1.884     -2.943      0.003      -9.238      -1.852\n",
       "Country[T.CHE]                     5.3397      1.964      2.718      0.007       1.490       9.190\n",
       "Country[T.CN]                      1.7780      2.119      0.839      0.401      -2.375       5.931\n",
       "Country[T.DEU]                    -6.2456      1.682     -3.713      0.000      -9.542      -2.949\n",
       "Country[T.ESP]                     7.0743      1.649      4.289      0.000       3.842      10.307\n",
       "Country[T.FRA]                    -1.0628      1.632     -0.651      0.515      -4.262       2.137\n",
       "Country[T.GBR]                   -10.8968      1.620     -6.724      0.000     -14.073      -7.721\n",
       "Country[T.IRL]                   -13.5276      1.778     -7.607      0.000     -17.013     -10.042\n",
       "Country[T.ITA]                     0.8739      1.774      0.493      0.622      -2.604       4.351\n",
       "Country[T.NLD]                    -7.4581      1.897     -3.932      0.000     -11.176      -3.740\n",
       "Country[T.Other]                   1.2024      1.623      0.741      0.459      -1.978       4.383\n",
       "Country[T.PRT]                    -9.5227      1.580     -6.026      0.000     -12.620      -6.425\n",
       "Country[T.USA]                     7.8292      1.904      4.113      0.000       4.098      11.560\n",
       "MarketSegment[T.Direct]           45.3631      0.881     51.501      0.000      43.637      47.089\n",
       "MarketSegment[T.Groups]            4.0599      1.022      3.972      0.000       2.056       6.064\n",
       "MarketSegment[T.Offline TA/TO]    10.5627      0.874     12.090      0.000       8.850      12.275\n",
       "MarketSegment[T.Online TA]        44.7428      0.810     55.233      0.000      43.155      46.331\n",
       "MarketSegment[T.Other]           -42.3838      1.738    -24.389      0.000     -45.790     -38.978\n",
       "==============================================================================\n",
       "Omnibus:                    13152.420   Durbin-Watson:                   0.927\n",
       "Prob(Omnibus):                  0.000   Jarque-Bera (JB):            26887.407\n",
       "Skew:                           0.925   Prob(JB):                         0.00\n",
       "Kurtosis:                       5.000   Cond. No.                         47.3\n",
       "==============================================================================\n",
       "\n",
       "Notes:\n",
       "[1] Standard Errors assume that the covariance matrix of the errors is correctly specified.\n",
       "\"\"\""
      ]
     },
     "execution_count": 17,
     "metadata": {},
     "output_type": "execute_result"
    }
   ],
   "source": [
    "model = ols(\"ADR~Country+MarketSegment\", data=dat_df_agg)\n",
    "res = model.fit(disp=0)\n",
    "res.summary()"
   ]
  },
  {
   "cell_type": "code",
   "execution_count": 22,
   "id": "bd9a587d",
   "metadata": {},
   "outputs": [
    {
     "data": {
      "text/plain": [
       "0    112.819243\n",
       "1    112.819243\n",
       "2    111.445144\n",
       "3     66.082078\n",
       "4    110.824898\n",
       "dtype: float64"
      ]
     },
     "execution_count": 22,
     "metadata": {},
     "output_type": "execute_result"
    }
   ],
   "source": [
    "#Calculating the predicted values from the model\n",
    "predicted_values1 = res.predict(dat_df_agg)\n",
    "predicted_values1.head(5)"
   ]
  },
  {
   "cell_type": "code",
   "execution_count": 23,
   "id": "4c90de45",
   "metadata": {},
   "outputs": [
    {
     "data": {
      "text/plain": [
       "35.98010182376623"
      ]
     },
     "execution_count": 23,
     "metadata": {},
     "output_type": "execute_result"
    }
   ],
   "source": [
    "#Calculating the mean absolute difference\n",
    "MAD1 = np.mean(abs(predicted_values1 - dat_df['ADR']))\n",
    "MAD1"
   ]
  },
  {
   "cell_type": "markdown",
   "id": "97043878",
   "metadata": {},
   "source": [
    "### 2) Hierarchical regression.\n",
    "\n",
    "Run a hierarchical linear regression of ADR on Country and MarketSegment, with Country as the clustering variable. Save the predicted values for all the rows in the data and calculate the mean absolute difference (MAD2) between the predicted values and the true values."
   ]
  },
  {
   "cell_type": "code",
   "execution_count": 20,
   "id": "74b2911d",
   "metadata": {},
   "outputs": [
    {
     "name": "stderr",
     "output_type": "stream",
     "text": [
      "C:\\Users\\Florent\\Anaconda3\\lib\\site-packages\\statsmodels\\regression\\mixed_linear_model.py:2261: ConvergenceWarning: The Hessian matrix at the estimated parameter values is not positive definite.\n",
      "  warnings.warn(msg, ConvergenceWarning)\n"
     ]
    },
    {
     "name": "stdout",
     "output_type": "stream",
     "text": [
      "                     Mixed Linear Model Regression Results\n",
      "===============================================================================\n",
      "Model:                   MixedLM        Dependent Variable:        ADR         \n",
      "No. Observations:        86943          Method:                    REML        \n",
      "No. Groups:              177            Scale:                     2268.9227   \n",
      "Min. group size:         1              Log-Likelihood:            -458581.7347\n",
      "Max. group size:         27452          Converged:                 Yes         \n",
      "Mean group size:         491.2                                                 \n",
      "-------------------------------------------------------------------------------\n",
      "                                Coef.   Std.Err.    z    P>|z|  [0.025   0.975]\n",
      "-------------------------------------------------------------------------------\n",
      "Intercept                        83.671   58.344   1.434 0.152  -30.681 198.024\n",
      "Country[T.AGO]                   -7.818   75.359  -0.104 0.917 -155.519 139.883\n",
      "Country[T.AIA]                  136.660   89.114   1.534 0.125  -37.999 311.319\n",
      "Country[T.ALB]                  -29.669   76.672  -0.387 0.699 -179.943 120.606\n",
      "Country[T.AND]                   74.212   77.437   0.958 0.338  -77.561 225.985\n",
      "Country[T.ARE]                    9.337   75.628   0.123 0.902 -138.891 157.565\n",
      "Country[T.ARG]                   -6.627   75.389  -0.088 0.930 -154.386 141.133\n",
      "Country[T.ARM]                  -14.336   77.175  -0.186 0.853 -165.596 136.924\n",
      "Country[T.ASM]                  -56.270   89.114  -0.631 0.528 -230.929 118.389\n",
      "Country[T.ATA]                    5.558   82.504   0.067 0.946 -156.146 167.261\n",
      "Country[T.ATF]                   -2.340   89.114  -0.026 0.979 -176.999 172.319\n",
      "Country[T.AUS]                   -3.405   75.355  -0.045 0.964 -151.097 144.287\n",
      "Country[T.AUT]                   -6.638   75.331  -0.088 0.930 -154.284 141.007\n",
      "Country[T.AZE]                  -12.618   76.250  -0.165 0.869 -162.066 136.830\n",
      "Country[T.BDI]                  -41.648   89.116  -0.467 0.640 -216.313 133.017\n",
      "Country[T.BEL]                   -7.099   75.322  -0.094 0.925 -154.727 140.530\n",
      "Country[T.BEN]                   -5.140   80.179  -0.064 0.949 -162.287 152.007\n",
      "Country[T.BFA]                  -48.040   89.114  -0.539 0.590 -222.699 126.619\n",
      "Country[T.BGD]                   25.753   76.806   0.335 0.737 -124.785 176.290\n",
      "Country[T.BGR]                   -9.317   75.536  -0.123 0.902 -157.365 138.731\n",
      "Country[T.BHR]                   16.990   78.269   0.217 0.828 -136.415 170.395\n",
      "Country[T.BHS]                  -43.404   89.115  -0.487 0.626 -218.066 131.257\n",
      "Country[T.BIH]                  -16.513   76.560  -0.216 0.829 -166.568 133.541\n",
      "Country[T.BLR]                  -24.211   75.940  -0.319 0.750 -173.050 124.629\n",
      "Country[T.BOL]                  -45.007   80.179  -0.561 0.575 -202.154 112.141\n",
      "Country[T.BRA]                  -12.178   75.322  -0.162 0.872 -159.807 135.451\n",
      "Country[T.BRB]                    0.746   82.504   0.009 0.993 -160.960 162.451\n",
      "Country[T.BWA]                   -9.840   89.114  -0.110 0.912 -184.499 164.819\n",
      "Country[T.CAF]                  -26.903   78.270  -0.344 0.731 -180.309 126.503\n",
      "Country[T.CHE]                   -1.298   75.324  -0.017 0.986 -148.931 146.335\n",
      "Country[T.CHL]                   -4.052   75.546  -0.054 0.957 -152.119 144.016\n",
      "Country[T.CHN]                  -12.314   75.333  -0.163 0.870 -159.964 135.336\n",
      "Country[T.CIV]                   -2.977   77.785  -0.038 0.969 -155.433 149.478\n",
      "Country[T.CMR]                  -29.127   76.806  -0.379 0.705 -179.664 121.411\n",
      "Country[T.CN]                    -4.870   75.329  -0.065 0.948 -152.512 142.771\n",
      "Country[T.COL]                   -4.998   75.533  -0.066 0.947 -153.039 143.044\n",
      "Country[T.COM]                   36.965   82.503   0.448 0.654 -124.738 198.668\n",
      "Country[T.CPV]                  -33.070   75.967  -0.435 0.663 -181.963 115.822\n",
      "Country[T.CRI]                  -20.704   76.147  -0.272 0.786 -169.949 128.542\n",
      "Country[T.CUB]                  -24.977   77.175  -0.324 0.746 -176.237 126.283\n",
      "Country[T.CYM]                  -87.840   89.114  -0.986 0.324 -262.499  86.819\n",
      "Country[T.CYP]                   -9.844   75.649  -0.130 0.896 -158.114 138.425\n",
      "Country[T.CZE]                   -4.980   75.425  -0.066 0.947 -152.811 142.851\n",
      "Country[T.DEU]                  -12.890   75.318  -0.171 0.864 -160.510 134.729\n",
      "Country[T.DJI]                  144.660   89.114   1.623 0.105  -29.999 319.319\n",
      "Country[T.DMA]                  -23.040   89.114  -0.259 0.796 -197.699 151.619\n",
      "Country[T.DNK]                   -4.154   75.354  -0.055 0.956 -151.845 143.537\n",
      "Country[T.DOM]                   -4.103   76.560  -0.054 0.957 -154.157 145.952\n",
      "Country[T.DZA]                    2.090   75.498   0.028 0.978 -145.884 150.064\n",
      "Country[T.ECU]                    2.224   75.915   0.029 0.977 -146.567 151.015\n",
      "Country[T.EGY]                    1.360   75.799   0.018 0.986 -147.203 149.924\n",
      "Country[T.ESP]                    0.433   75.317   0.006 0.995 -147.185 148.051\n",
      "Country[T.EST]                   -4.763   75.505  -0.063 0.950 -152.751 143.224\n",
      "Country[T.ETH]                  -27.315   80.179  -0.341 0.733 -184.463 129.833\n",
      "Country[T.FIN]                  -20.900   75.350  -0.277 0.781 -168.584 126.784\n",
      "Country[T.FJI]                    6.990   89.114   0.078 0.937 -167.669 181.649\n",
      "Country[T.FRA]                   -7.709   75.316  -0.102 0.918 -155.326 139.909\n",
      "Country[T.FRO]                   37.327   80.179   0.466 0.642 -119.821 194.474\n",
      "Country[T.GAB]                   14.859   78.991   0.188 0.851 -139.960 169.678\n",
      "Country[T.GBR]                  -17.547   75.316  -0.233 0.816 -165.164 130.070\n",
      "Country[T.GEO]                   31.730   76.103   0.417 0.677 -117.430 180.890\n",
      "Country[T.GGY]                  -36.890   82.503  -0.447 0.655 -198.593 124.813\n",
      "Country[T.GHA]                   -2.066   78.991  -0.026 0.979 -156.885 152.753\n",
      "Country[T.GIB]                   43.455   76.312   0.569 0.569 -106.114 193.025\n",
      "Country[T.GLP]                   11.660   89.114   0.131 0.896 -162.999 186.319\n",
      "Country[T.GNB]                  -30.340   76.971  -0.394 0.693 -181.200 120.521\n",
      "Country[T.GRC]                   -0.201   75.444  -0.003 0.998 -148.068 147.666\n",
      "Country[T.GTM]                  -48.007   80.179  -0.599 0.549 -205.154 109.141\n",
      "Country[T.GUY]                   25.746   89.115   0.289 0.773 -148.916 200.407\n",
      "Country[T.HKG]                    3.419   75.967   0.045 0.964 -145.474 152.311\n",
      "Country[T.HND]                  -49.340   89.114  -0.554 0.580 -223.999 125.319\n",
      "Country[T.HRV]                   -7.839   75.480  -0.104 0.917 -155.777 140.100\n",
      "Country[T.HUN]                   -8.722   75.389  -0.116 0.908 -156.482 139.039\n",
      "Country[T.IDN]                    5.466   75.915   0.072 0.943 -143.325 154.256\n",
      "Country[T.IMN]                  -10.890   82.503  -0.132 0.895 -172.593 150.813\n",
      "Country[T.IND]                   -8.036   75.420  -0.107 0.915 -155.857 139.784\n",
      "Country[T.IRL]                  -20.175   75.320  -0.268 0.789 -167.799 127.449\n",
      "Country[T.IRN]                    3.779   75.503   0.050 0.960 -144.203 151.762\n",
      "Country[T.IRQ]                  -12.873   76.672  -0.168 0.867 -163.148 137.402\n",
      "Country[T.ISL]                    0.741   75.892   0.010 0.992 -148.004 149.487\n",
      "Country[T.ISR]                    2.486   75.352   0.033 0.974 -145.202 150.173\n",
      "Country[T.ITA]                   -5.761   75.320  -0.076 0.939 -153.385 141.863\n",
      "Country[T.JAM]                   -4.411   77.785  -0.057 0.955 -156.867 148.045\n",
      "Country[T.JEY]                   10.911   77.175   0.141 0.888 -140.348 162.171\n",
      "Country[T.JOR]                  -14.717   76.104  -0.193 0.847 -163.878 134.443\n",
      "Country[T.JPN]                   -2.853   75.397  -0.038 0.970 -150.628 144.923\n",
      "Country[T.KAZ]                   18.703   76.103   0.246 0.806 -130.457 167.863\n",
      "Country[T.KEN]                    5.739   77.785   0.074 0.941 -146.716 158.194\n",
      "Country[T.KHM]                  -29.340   89.114  -0.329 0.742 -203.999 145.319\n",
      "Country[T.KIR]                  -20.340   89.114  -0.228 0.819 -194.999 154.319\n",
      "Country[T.KNA]                    1.249   82.504   0.015 0.988 -160.457 162.955\n",
      "Country[T.KOR]                  -13.480   75.441  -0.179 0.858 -161.342 134.382\n",
      "Country[T.KWT]                    5.532   76.250   0.073 0.942 -143.916 154.980\n",
      "Country[T.LAO]                   53.325   82.503   0.646 0.518 -108.378 215.028\n",
      "Country[T.LBN]                   11.220   75.832   0.148 0.882 -137.408 159.849\n",
      "Country[T.LBY]                   -3.288   77.176  -0.043 0.966 -154.549 147.974\n",
      "Country[T.LCA]                  -13.504   89.115  -0.152 0.880 -188.166 161.157\n",
      "Country[T.LIE]                  -26.073   80.179  -0.325 0.745 -183.221 131.074\n",
      "Country[T.LKA]                  -15.308   77.785  -0.197 0.844 -167.764 137.149\n",
      "Country[T.LTU]                  -18.114   75.521  -0.240 0.810 -166.132 129.904\n",
      "Country[T.LUX]                   11.169   75.372   0.148 0.882 -136.558 158.896\n",
      "Country[T.LVA]                  -20.473   75.610  -0.271 0.787 -168.665 127.719\n",
      "Country[T.MAC]                  -13.777   76.806  -0.179 0.858 -164.314 136.760\n",
      "Country[T.MAR]                   14.760   75.380   0.196 0.845 -132.982 162.501\n",
      "Country[T.MCO]                  -42.600   78.991  -0.539 0.590 -197.419 112.219\n",
      "Country[T.MDG]                  -85.045   89.115  -0.954 0.340 -259.707  89.617\n",
      "Country[T.MDV]                   -1.009   76.560  -0.013 0.989 -151.063 149.046\n",
      "Country[T.MEX]                   -7.355   75.518  -0.097 0.922 -155.368 140.658\n",
      "Country[T.MKD]                  -16.273   76.972  -0.211 0.833 -167.135 134.589\n",
      "Country[T.MLI]                  -39.340   89.114  -0.441 0.659 -213.999 135.319\n",
      "Country[T.MLT]                  -16.261   76.196  -0.213 0.831 -165.602 133.080\n",
      "Country[T.MMR]                   16.660   89.114   0.187 0.852 -157.999 191.319\n",
      "Country[T.MNE]                   -1.904   78.270  -0.024 0.981 -155.310 151.502\n",
      "Country[T.MOZ]                   -4.271   75.583  -0.057 0.955 -152.412 143.870\n",
      "Country[T.MRT]                  -30.690   89.114  -0.344 0.731 -205.349 143.969\n",
      "Country[T.MUS]                  -32.116   77.437  -0.415 0.678 -183.889 119.657\n",
      "Country[T.MWI]                  -45.340   82.503  -0.550 0.583 -207.043 116.363\n",
      "Country[T.MYS]                  -33.765   75.940  -0.445 0.657 -182.604 115.075\n",
      "Country[T.MYT]                   49.410   82.503   0.599 0.549 -112.293 211.113\n",
      "Country[T.NAM]                   -6.730   89.114  -0.076 0.940 -181.389 167.929\n",
      "Country[T.NCL]                   47.160   89.114   0.529 0.597 -127.499 221.819\n",
      "Country[T.NGA]                   -5.156   75.815  -0.068 0.946 -153.752 143.439\n",
      "Country[T.NIC]                   10.660   89.114   0.120 0.905 -163.999 185.319\n",
      "Country[T.NLD]                  -14.093   75.323  -0.187 0.852 -161.723 133.536\n",
      "Country[T.NOR]                   -0.673   75.344  -0.009 0.993 -148.345 146.998\n",
      "Country[T.NPL]                  -43.340   89.114  -0.486 0.627 -217.999 131.319\n",
      "Country[T.NZL]                  -10.012   75.553  -0.133 0.895 -158.095 138.070\n",
      "Country[T.OMN]                  -15.124   76.147  -0.199 0.843 -164.369 134.122\n",
      "Country[T.PAK]                    0.808   76.465   0.011 0.992 -149.060 150.676\n",
      "Country[T.PAN]                  -11.998   77.175  -0.155 0.876 -163.258 139.261\n",
      "Country[T.PER]                    5.335   75.892   0.070 0.944 -143.411 154.080\n",
      "Country[T.PHL]                   19.238   75.784   0.254 0.800 -129.296 167.772\n",
      "Country[T.PLW]                    7.950   89.114   0.089 0.929 -166.709 182.609\n",
      "Country[T.POL]                  -10.911   75.334  -0.145 0.885 -158.564 136.742\n",
      "Country[T.PRI]                  -21.573   76.674  -0.281 0.778 -171.851 128.705\n",
      "Country[T.PRT]                  -16.182   75.316  -0.215 0.830 -163.798 131.434\n",
      "Country[T.PRY]                  -15.740   78.991  -0.199 0.842 -170.559 139.079\n",
      "Country[T.PYF]                   49.746   89.115   0.558 0.577 -124.916 224.407\n",
      "Country[T.QAT]                   20.035   76.383   0.262 0.793 -129.673 169.743\n",
      "Country[T.ROU]                   -4.312   75.348  -0.057 0.954 -151.991 143.366\n",
      "Country[T.RUS]                   -1.170   75.342  -0.016 0.988 -148.837 146.497\n",
      "Country[T.RWA]                  -45.427   82.504  -0.551 0.582 -207.131 116.276\n",
      "Country[T.SAU]                   -0.875   75.649  -0.012 0.991 -149.143 147.394\n",
      "Country[T.SDN]                    4.746   89.115   0.053 0.958 -169.916 179.407\n",
      "Country[T.SEN]                    4.520   76.672   0.059 0.953 -145.754 154.794\n",
      "Country[T.SGP]                  -21.220   75.757  -0.280 0.779 -169.700 127.260\n",
      "Country[T.SLE]                   -6.910   89.114  -0.078 0.938 -181.569 167.749\n",
      "Country[T.SLV]                   20.510   82.503   0.249 0.804 -141.193 182.213\n",
      "Country[T.SMR]                    4.529   89.117   0.051 0.959 -170.138 179.195\n",
      "Country[T.SRB]                   -8.152   75.593  -0.108 0.914 -156.313 140.008\n",
      "Country[T.STP]                  -12.045   82.505  -0.146 0.884 -173.751 149.661\n",
      "Country[T.SUR]                  -27.202   78.269  -0.348 0.728 -180.607 126.204\n",
      "Country[T.SVK]                   -6.115   75.628  -0.081 0.936 -154.343 142.113\n",
      "Country[T.SVN]                    3.050   75.656   0.040 0.968 -145.234 151.334\n",
      "Country[T.SWE]                   -4.687   75.333  -0.062 0.950 -152.337 142.962\n",
      "Country[T.SYC]                   20.828   82.503   0.252 0.801 -140.876 182.532\n",
      "Country[T.SYR]                  -30.242   80.179  -0.377 0.706 -187.389 126.906\n",
      "Country[T.TGO]                   -5.547   82.503  -0.067 0.946 -167.251 156.157\n",
      "Country[T.THA]                    4.576   75.690   0.060 0.952 -143.775 152.926\n",
      "Country[T.TJK]                   -4.290   82.503  -0.052 0.959 -165.993 157.413\n",
      "Country[T.TMP]                   10.727   80.179   0.134 0.894 -146.421 167.874\n",
      "Country[T.TUN]                  -17.441   75.721  -0.230 0.818 -165.851 130.969\n",
      "Country[T.TUR]                   -7.832   75.385  -0.104 0.917 -155.584 139.921\n",
      "Country[T.TWN]                   -3.596   75.664  -0.048 0.962 -151.895 144.703\n",
      "Country[T.TZA]                  -37.440   78.269  -0.478 0.632 -190.845 115.965\n",
      "Country[T.UGA]                  -43.840   82.503  -0.531 0.595 -205.543 117.863\n",
      "Country[T.UKR]                  -22.564   75.557  -0.299 0.765 -170.654 125.526\n",
      "Country[T.UMI]                   71.660   89.114   0.804 0.421 -102.999 246.319\n",
      "Country[T.URY]                   11.038   75.815   0.146 0.884 -137.557 159.633\n",
      "Country[T.USA]                    1.190   75.323   0.016 0.987 -146.440 148.820\n",
      "Country[T.UZB]                  -23.002   78.991  -0.291 0.771 -177.822 131.817\n",
      "Country[T.VEN]                  -16.582   76.029  -0.218 0.827 -165.595 132.432\n",
      "Country[T.VGB]                  -27.840   89.114  -0.312 0.755 -202.499 146.819\n",
      "Country[T.VNM]                   -0.812   77.175  -0.011 0.992 -152.071 150.448\n",
      "Country[T.ZAF]                  -12.879   75.508  -0.171 0.865 -160.872 135.113\n",
      "Country[T.ZMB]                  -26.455   82.503  -0.321 0.748 -188.158 135.248\n",
      "Country[T.ZWE]                  -34.864   78.991  -0.441 0.659 -189.684 119.957\n",
      "MarketSegment[T.Direct]          45.374    0.881  51.523 0.000   43.648  47.100\n",
      "MarketSegment[T.Groups]           3.977    1.022   3.889 0.000    1.973   5.980\n",
      "MarketSegment[T.Offline TA/TO]   10.583    0.874  12.115 0.000    8.871  12.295\n",
      "MarketSegment[T.Online TA]       44.669    0.810  55.150 0.000   43.081  46.256\n",
      "MarketSegment[T.Other]          -42.448    1.737 -24.437 0.000  -45.852 -39.043\n",
      "Group Var                      2268.923                                        \n",
      "===============================================================================\n",
      "\n"
     ]
    }
   ],
   "source": [
    "mixed = smf.mixedlm(\"ADR~Country+MarketSegment\", data = dat_df, \n",
    "                   groups = dat_df[\"Country\"])\n",
    "print(mixed.fit().summary())"
   ]
  },
  {
   "cell_type": "code",
   "execution_count": 27,
   "id": "a05610c7",
   "metadata": {},
   "outputs": [
    {
     "name": "stderr",
     "output_type": "stream",
     "text": [
      "C:\\Users\\Florent\\Anaconda3\\lib\\site-packages\\statsmodels\\regression\\mixed_linear_model.py:2261: ConvergenceWarning: The Hessian matrix at the estimated parameter values is not positive definite.\n",
      "  warnings.warn(msg, ConvergenceWarning)\n"
     ]
    },
    {
     "data": {
      "text/plain": [
       "0    112.862694\n",
       "1    112.862694\n",
       "2    111.497726\n",
       "3     66.124030\n",
       "4    110.792836\n",
       "dtype: float64"
      ]
     },
     "execution_count": 27,
     "metadata": {},
     "output_type": "execute_result"
    }
   ],
   "source": [
    "#Calculating the predicted values from the model\n",
    "predicted_values2 = mixed.fit().predict(dat_df)\n",
    "predicted_values2.head(5)"
   ]
  },
  {
   "cell_type": "code",
   "execution_count": 25,
   "id": "5cc182ea",
   "metadata": {},
   "outputs": [
    {
     "data": {
      "text/plain": [
       "35.892134550353326"
      ]
     },
     "execution_count": 25,
     "metadata": {},
     "output_type": "execute_result"
    }
   ],
   "source": [
    "#Calculating the mean absolute difference\n",
    "MAD2 = np.mean(abs(predicted_values2 - dat_df['ADR']))\n",
    "MAD2"
   ]
  },
  {
   "cell_type": "markdown",
   "id": "dab11d03",
   "metadata": {},
   "source": [
    "### 3) Comparison"
   ]
  },
  {
   "cell_type": "code",
   "execution_count": 26,
   "id": "853acdd0",
   "metadata": {},
   "outputs": [
    {
     "data": {
      "text/plain": [
       "0.08796727341290733"
      ]
     },
     "execution_count": 26,
     "metadata": {},
     "output_type": "execute_result"
    }
   ],
   "source": [
    "diff = MAD1 - MAD2\n",
    "diff"
   ]
  },
  {
   "cell_type": "markdown",
   "id": "fb115a1d",
   "metadata": {},
   "source": [
    "This number means that the hierarchical regression is more accurate by $0.09 on average."
   ]
  }
 ],
 "metadata": {
  "kernelspec": {
   "display_name": "Python 3",
   "language": "python",
   "name": "python3"
  },
  "language_info": {
   "codemirror_mode": {
    "name": "ipython",
    "version": 3
   },
   "file_extension": ".py",
   "mimetype": "text/x-python",
   "name": "python",
   "nbconvert_exporter": "python",
   "pygments_lexer": "ipython3",
   "version": "3.7.9"
  }
 },
 "nbformat": 4,
 "nbformat_minor": 5
}
