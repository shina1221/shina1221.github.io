{
 "cells": [
  {
   "cell_type": "markdown",
   "id": "decent-playback",
   "metadata": {},
   "source": [
    "# Solutions for chapter 6 exercises (WORK IN PROGRESS - UNFINISHED)"
   ]
  },
  {
   "cell_type": "markdown",
   "id": "comprehensive-batman",
   "metadata": {},
   "source": [
    "## Set up"
   ]
  },
  {
   "cell_type": "code",
   "execution_count": 30,
   "id": "extra-negative",
   "metadata": {},
   "outputs": [],
   "source": [
    "# Common libraries\n",
    "import pandas as pd\n",
    "import numpy as np\n",
    "import statsmodels.formula.api as smf\n",
    "from statsmodels.formula.api import ols\n",
    "import matplotlib.pyplot as plt\n",
    "from scipy.stats import pearsonr\n",
    "import seaborn as sns\n",
    "\n",
    "# Chapter-specific libraries\n",
    "from statsmodels.imputation import mice\n",
    "import statsmodels.api as sm # For OLS call in Mice"
   ]
  },
  {
   "cell_type": "code",
   "execution_count": 8,
   "id": "political-government",
   "metadata": {},
   "outputs": [],
   "source": [
    "#Loading the data\n",
    "dat_df = pd.read_csv(\"AirCnC_MnM_exercises_data.csv\")\n",
    "\n",
    "# Adding dummy equal to 1 if and only if a customer books an M&M property\n",
    "dat_df['bkd_mm'] = dat_df['bkd'] * dat_df['mm'] "
   ]
  },
  {
   "cell_type": "markdown",
   "id": "governing-renewal",
   "metadata": {},
   "source": [
    "# 1. Diagnosing the missingness"
   ]
  },
  {
   "cell_type": "markdown",
   "id": "standard-sally",
   "metadata": {},
   "source": [
    "1.a. How many records are missing for income?"
   ]
  },
  {
   "cell_type": "code",
   "execution_count": 6,
   "id": "celtic-concern",
   "metadata": {},
   "outputs": [
    {
     "data": {
      "text/plain": [
       "1511"
      ]
     },
     "execution_count": 6,
     "metadata": {},
     "output_type": "execute_result"
    }
   ],
   "source": [
    "sum(dat_df['income'].isnull())"
   ]
  },
  {
   "cell_type": "markdown",
   "id": "collected-munich",
   "metadata": {},
   "source": [
    "1. b. What is the correlation between the missingness of income and booking an M&M property?"
   ]
  },
  {
   "cell_type": "code",
   "execution_count": 12,
   "id": "several-commerce",
   "metadata": {},
   "outputs": [
    {
     "data": {
      "text/plain": [
       "0.22195411432576273"
      ]
     },
     "execution_count": 12,
     "metadata": {},
     "output_type": "execute_result"
    }
   ],
   "source": [
    "corr, _ = pearsonr(dat_df['bkd_mm'], dat_df['income'].isnull())\n",
    "corr"
   ]
  },
  {
   "cell_type": "markdown",
   "id": "classified-boutique",
   "metadata": {},
   "source": [
    "1.c. Run a logistic regression of bkd_mm on income. How much does the coefficient change if you replace the missing values for income by the minimum income? By the maximum income? \n",
    "\n",
    "The basic coefficient is approx. 1.124\\*1e-5.\n",
    "\n",
    "The coefficient after replacing by the minimum income is approx. 5.89\\*1e-6.\n",
    "\n",
    "The coefficient after replacing by the maximum income is approx. 2.2\\*1e-7."
   ]
  },
  {
   "cell_type": "code",
   "execution_count": 14,
   "id": "unable-tower",
   "metadata": {},
   "outputs": [
    {
     "name": "stdout",
     "output_type": "stream",
     "text": [
      "Optimization terminated successfully.\n",
      "         Current function value: 0.064062\n",
      "         Iterations 9\n"
     ]
    },
    {
     "data": {
      "text/html": [
       "<table class=\"simpletable\">\n",
       "<caption>Logit Regression Results</caption>\n",
       "<tr>\n",
       "  <th>Dep. Variable:</th>        <td>bkd_mm</td>      <th>  No. Observations:  </th>  <td>  8489</td> \n",
       "</tr>\n",
       "<tr>\n",
       "  <th>Model:</th>                 <td>Logit</td>      <th>  Df Residuals:      </th>  <td>  8487</td> \n",
       "</tr>\n",
       "<tr>\n",
       "  <th>Method:</th>                 <td>MLE</td>       <th>  Df Model:          </th>  <td>     1</td> \n",
       "</tr>\n",
       "<tr>\n",
       "  <th>Date:</th>            <td>Fri, 30 Apr 2021</td> <th>  Pseudo R-squ.:     </th>  <td>0.7007</td> \n",
       "</tr>\n",
       "<tr>\n",
       "  <th>Time:</th>                <td>08:21:49</td>     <th>  Log-Likelihood:    </th> <td> -543.82</td>\n",
       "</tr>\n",
       "<tr>\n",
       "  <th>converged:</th>             <td>True</td>       <th>  LL-Null:           </th> <td> -1816.8</td>\n",
       "</tr>\n",
       "<tr>\n",
       "  <th>Covariance Type:</th>     <td>nonrobust</td>    <th>  LLR p-value:       </th>  <td> 0.000</td> \n",
       "</tr>\n",
       "</table>\n",
       "<table class=\"simpletable\">\n",
       "<tr>\n",
       "      <td></td>         <th>coef</th>     <th>std err</th>      <th>z</th>      <th>P>|z|</th>  <th>[0.025</th>    <th>0.975]</th>  \n",
       "</tr>\n",
       "<tr>\n",
       "  <th>Intercept</th> <td>   -5.7611</td> <td>    0.158</td> <td>  -36.478</td> <td> 0.000</td> <td>   -6.071</td> <td>   -5.452</td>\n",
       "</tr>\n",
       "<tr>\n",
       "  <th>income</th>    <td> 1.124e-05</td> <td> 4.17e-07</td> <td>   26.978</td> <td> 0.000</td> <td> 1.04e-05</td> <td> 1.21e-05</td>\n",
       "</tr>\n",
       "</table>"
      ],
      "text/plain": [
       "<class 'statsmodels.iolib.summary.Summary'>\n",
       "\"\"\"\n",
       "                           Logit Regression Results                           \n",
       "==============================================================================\n",
       "Dep. Variable:                 bkd_mm   No. Observations:                 8489\n",
       "Model:                          Logit   Df Residuals:                     8487\n",
       "Method:                           MLE   Df Model:                            1\n",
       "Date:                Fri, 30 Apr 2021   Pseudo R-squ.:                  0.7007\n",
       "Time:                        08:21:49   Log-Likelihood:                -543.82\n",
       "converged:                       True   LL-Null:                       -1816.8\n",
       "Covariance Type:            nonrobust   LLR p-value:                     0.000\n",
       "==============================================================================\n",
       "                 coef    std err          z      P>|z|      [0.025      0.975]\n",
       "------------------------------------------------------------------------------\n",
       "Intercept     -5.7611      0.158    -36.478      0.000      -6.071      -5.452\n",
       "income      1.124e-05   4.17e-07     26.978      0.000    1.04e-05    1.21e-05\n",
       "==============================================================================\n",
       "\"\"\""
      ]
     },
     "execution_count": 14,
     "metadata": {},
     "output_type": "execute_result"
    }
   ],
   "source": [
    "# Basic regression with missing values\n",
    "mod_bkd_mm = smf.logit('bkd_mm ~ income', data = dat_df)\n",
    "res_bkd_mm = mod_bkd_mm.fit()\n",
    "res_bkd_mm.summary()"
   ]
  },
  {
   "cell_type": "code",
   "execution_count": 20,
   "id": "varied-diary",
   "metadata": {},
   "outputs": [
    {
     "name": "stdout",
     "output_type": "stream",
     "text": [
      "Optimization terminated successfully.\n",
      "         Current function value: 0.197621\n",
      "         Iterations 8\n"
     ]
    },
    {
     "data": {
      "text/html": [
       "<table class=\"simpletable\">\n",
       "<caption>Logit Regression Results</caption>\n",
       "<tr>\n",
       "  <th>Dep. Variable:</th>        <td>bkd_mm</td>      <th>  No. Observations:  </th>  <td> 10000</td> \n",
       "</tr>\n",
       "<tr>\n",
       "  <th>Model:</th>                 <td>Logit</td>      <th>  Df Residuals:      </th>  <td>  9998</td> \n",
       "</tr>\n",
       "<tr>\n",
       "  <th>Method:</th>                 <td>MLE</td>       <th>  Df Model:          </th>  <td>     1</td> \n",
       "</tr>\n",
       "<tr>\n",
       "  <th>Date:</th>            <td>Fri, 30 Apr 2021</td> <th>  Pseudo R-squ.:     </th>  <td>0.2966</td> \n",
       "</tr>\n",
       "<tr>\n",
       "  <th>Time:</th>                <td>08:27:30</td>     <th>  Log-Likelihood:    </th> <td> -1976.2</td>\n",
       "</tr>\n",
       "<tr>\n",
       "  <th>converged:</th>             <td>True</td>       <th>  LL-Null:           </th> <td> -2809.6</td>\n",
       "</tr>\n",
       "<tr>\n",
       "  <th>Covariance Type:</th>     <td>nonrobust</td>    <th>  LLR p-value:       </th>  <td> 0.000</td> \n",
       "</tr>\n",
       "</table>\n",
       "<table class=\"simpletable\">\n",
       "<tr>\n",
       "      <td></td>         <th>coef</th>     <th>std err</th>      <th>z</th>      <th>P>|z|</th>  <th>[0.025</th>    <th>0.975]</th>  \n",
       "</tr>\n",
       "<tr>\n",
       "  <th>Intercept</th> <td>   -3.3680</td> <td>    0.056</td> <td>  -60.304</td> <td> 0.000</td> <td>   -3.477</td> <td>   -3.259</td>\n",
       "</tr>\n",
       "<tr>\n",
       "  <th>income</th>    <td> 5.889e-06</td> <td> 2.13e-07</td> <td>   27.583</td> <td> 0.000</td> <td> 5.47e-06</td> <td> 6.31e-06</td>\n",
       "</tr>\n",
       "</table>"
      ],
      "text/plain": [
       "<class 'statsmodels.iolib.summary.Summary'>\n",
       "\"\"\"\n",
       "                           Logit Regression Results                           \n",
       "==============================================================================\n",
       "Dep. Variable:                 bkd_mm   No. Observations:                10000\n",
       "Model:                          Logit   Df Residuals:                     9998\n",
       "Method:                           MLE   Df Model:                            1\n",
       "Date:                Fri, 30 Apr 2021   Pseudo R-squ.:                  0.2966\n",
       "Time:                        08:27:30   Log-Likelihood:                -1976.2\n",
       "converged:                       True   LL-Null:                       -2809.6\n",
       "Covariance Type:            nonrobust   LLR p-value:                     0.000\n",
       "==============================================================================\n",
       "                 coef    std err          z      P>|z|      [0.025      0.975]\n",
       "------------------------------------------------------------------------------\n",
       "Intercept     -3.3680      0.056    -60.304      0.000      -3.477      -3.259\n",
       "income      5.889e-06   2.13e-07     27.583      0.000    5.47e-06    6.31e-06\n",
       "==============================================================================\n",
       "\"\"\""
      ]
     },
     "execution_count": 20,
     "metadata": {},
     "output_type": "execute_result"
    }
   ],
   "source": [
    "# Substituting the minimum income when missing\n",
    "min_dat_df = dat_df.copy()\n",
    "min_dat_df.loc[min_dat_df['income'].isnull(),'income'] = min(min_dat_df['income'])\n",
    "\n",
    "mod_bkd_mm = smf.logit('bkd_mm ~ income', data = min_dat_df)\n",
    "res_bkd_mm = mod_bkd_mm.fit()\n",
    "res_bkd_mm.summary()"
   ]
  },
  {
   "cell_type": "code",
   "execution_count": 21,
   "id": "latin-semester",
   "metadata": {},
   "outputs": [
    {
     "name": "stdout",
     "output_type": "stream",
     "text": [
      "Optimization terminated successfully.\n",
      "         Current function value: 0.252085\n",
      "         Iterations 7\n"
     ]
    },
    {
     "data": {
      "text/html": [
       "<table class=\"simpletable\">\n",
       "<caption>Logit Regression Results</caption>\n",
       "<tr>\n",
       "  <th>Dep. Variable:</th>        <td>bkd_mm</td>      <th>  No. Observations:  </th>   <td> 10000</td>  \n",
       "</tr>\n",
       "<tr>\n",
       "  <th>Model:</th>                 <td>Logit</td>      <th>  Df Residuals:      </th>   <td>  9998</td>  \n",
       "</tr>\n",
       "<tr>\n",
       "  <th>Method:</th>                 <td>MLE</td>       <th>  Df Model:          </th>   <td>     1</td>  \n",
       "</tr>\n",
       "<tr>\n",
       "  <th>Date:</th>            <td>Fri, 30 Apr 2021</td> <th>  Pseudo R-squ.:     </th>   <td>0.1028</td>  \n",
       "</tr>\n",
       "<tr>\n",
       "  <th>Time:</th>                <td>08:29:07</td>     <th>  Log-Likelihood:    </th>  <td> -2520.8</td> \n",
       "</tr>\n",
       "<tr>\n",
       "  <th>converged:</th>             <td>True</td>       <th>  LL-Null:           </th>  <td> -2809.6</td> \n",
       "</tr>\n",
       "<tr>\n",
       "  <th>Covariance Type:</th>     <td>nonrobust</td>    <th>  LLR p-value:       </th> <td>1.280e-127</td>\n",
       "</tr>\n",
       "</table>\n",
       "<table class=\"simpletable\">\n",
       "<tr>\n",
       "      <td></td>         <th>coef</th>     <th>std err</th>      <th>z</th>      <th>P>|z|</th>  <th>[0.025</th>    <th>0.975]</th>  \n",
       "</tr>\n",
       "<tr>\n",
       "  <th>Intercept</th> <td>   -3.0017</td> <td>    0.051</td> <td>  -58.559</td> <td> 0.000</td> <td>   -3.102</td> <td>   -2.901</td>\n",
       "</tr>\n",
       "<tr>\n",
       "  <th>income</th>    <td> 2.212e-07</td> <td> 8.84e-09</td> <td>   25.029</td> <td> 0.000</td> <td> 2.04e-07</td> <td> 2.39e-07</td>\n",
       "</tr>\n",
       "</table>"
      ],
      "text/plain": [
       "<class 'statsmodels.iolib.summary.Summary'>\n",
       "\"\"\"\n",
       "                           Logit Regression Results                           \n",
       "==============================================================================\n",
       "Dep. Variable:                 bkd_mm   No. Observations:                10000\n",
       "Model:                          Logit   Df Residuals:                     9998\n",
       "Method:                           MLE   Df Model:                            1\n",
       "Date:                Fri, 30 Apr 2021   Pseudo R-squ.:                  0.1028\n",
       "Time:                        08:29:07   Log-Likelihood:                -2520.8\n",
       "converged:                       True   LL-Null:                       -2809.6\n",
       "Covariance Type:            nonrobust   LLR p-value:                1.280e-127\n",
       "==============================================================================\n",
       "                 coef    std err          z      P>|z|      [0.025      0.975]\n",
       "------------------------------------------------------------------------------\n",
       "Intercept     -3.0017      0.051    -58.559      0.000      -3.102      -2.901\n",
       "income      2.212e-07   8.84e-09     25.029      0.000    2.04e-07    2.39e-07\n",
       "==============================================================================\n",
       "\"\"\""
      ]
     },
     "execution_count": 21,
     "metadata": {},
     "output_type": "execute_result"
    }
   ],
   "source": [
    "# Substituting the maximum income when missing\n",
    "max_dat_df = dat_df.copy()\n",
    "max_dat_df.loc[max_dat_df['income'].isnull(),'income'] = max(max_dat_df['income'])\n",
    "\n",
    "mod_bkd_mm = smf.logit('bkd_mm ~ income', data = max_dat_df)\n",
    "res_bkd_mm = mod_bkd_mm.fit()\n",
    "res_bkd_mm.summary()"
   ]
  },
  {
   "cell_type": "markdown",
   "id": "intelligent-adjustment",
   "metadata": {},
   "source": [
    "1.d. Plot a scatterplot of the average income in a zip code vs. the percentage of missing values in that zip code. What do you conclude about the missingness of income? (is it likely to be MCAR? MAR? MNAR?) "
   ]
  },
  {
   "cell_type": "code",
   "execution_count": 29,
   "id": "metric-respect",
   "metadata": {},
   "outputs": [
    {
     "data": {
      "text/plain": [
       "<AxesSubplot:xlabel='avg_income', ylabel='msg_prop'>"
      ]
     },
     "execution_count": 29,
     "metadata": {},
     "output_type": "execute_result"
    },
    {
     "data": {
      "image/png": "[encoded data removed]",
      "text/plain": [
       "<Figure size 432x288 with 1 Axes>"
      ]
     },
     "metadata": {
      "needs_background": "light"
     },
     "output_type": "display_data"
    }
   ],
   "source": [
    "msg_dat_summ_df = dat_df.groupby('zip').agg(\n",
    "    {'income' : [lambda x: sum(x.isnull())/np.size(x), np.mean]})\n",
    "msg_dat_summ_df.columns = ['msg_prop', 'avg_income']\n",
    "sns.scatterplot(data=msg_dat_summ_df, x=\"avg_income\", y=\"msg_prop\")"
   ]
  },
  {
   "cell_type": "markdown",
   "id": "contrary-democracy",
   "metadata": {},
   "source": [
    "There appears to be a strong relationship between the two variables. This makes it highly unlikely that income is MCAR. It may be MAR on zip code, or zip code is correlated with income and income is MNAR. We can't distinguish between these two hypotheses based on the data available, but the latter one (MNAR) is the most likely from a behavioral standpoint. "
   ]
  },
  {
   "cell_type": "markdown",
   "id": "covered-material",
   "metadata": {},
   "source": [
    "# 2. Correcting for the missingness"
   ]
  },
  {
   "cell_type": "markdown",
   "id": "vulnerable-wheel",
   "metadata": {},
   "source": [
    "2. a. Run a logistic regression of bkd_mm on income, imputing the missing values with MICE. What is the coefficient for income?"
   ]
  },
  {
   "cell_type": "code",
   "execution_count": 38,
   "id": "leading-insurance",
   "metadata": {},
   "outputs": [
    {
     "name": "stdout",
     "output_type": "stream",
     "text": [
      "Optimization terminated successfully.\n",
      "         Current function value: 0.080538\n",
      "         Iterations 9\n",
      "Optimization terminated successfully.\n",
      "         Current function value: 0.082102\n",
      "         Iterations 4\n",
      "Optimization terminated successfully.\n",
      "         Current function value: 0.075360\n",
      "         Iterations 4\n",
      "Optimization terminated successfully.\n",
      "         Current function value: 0.073272\n",
      "         Iterations 4\n",
      "Optimization terminated successfully.\n",
      "         Current function value: 0.078799\n",
      "         Iterations 4\n",
      "Optimization terminated successfully.\n",
      "         Current function value: 0.080687\n",
      "         Iterations 4\n",
      "Optimization terminated successfully.\n",
      "         Current function value: 0.080741\n",
      "         Iterations 4\n",
      "Optimization terminated successfully.\n",
      "         Current function value: 0.076614\n",
      "         Iterations 5\n",
      "Optimization terminated successfully.\n",
      "         Current function value: 0.078777\n",
      "         Iterations 5\n",
      "Optimization terminated successfully.\n",
      "         Current function value: 0.076561\n",
      "         Iterations 4\n",
      "Optimization terminated successfully.\n",
      "         Current function value: 0.076868\n",
      "         Iterations 4\n",
      "Optimization terminated successfully.\n",
      "         Current function value: 0.082741\n",
      "         Iterations 5\n",
      "Optimization terminated successfully.\n",
      "         Current function value: 0.081485\n",
      "         Iterations 4\n",
      "Optimization terminated successfully.\n",
      "         Current function value: 0.080857\n",
      "         Iterations 4\n",
      "Optimization terminated successfully.\n",
      "         Current function value: 0.077384\n",
      "         Iterations 4\n",
      "Optimization terminated successfully.\n",
      "         Current function value: 0.082128\n",
      "         Iterations 4\n",
      "Optimization terminated successfully.\n",
      "         Current function value: 0.074820\n",
      "         Iterations 5\n",
      "Optimization terminated successfully.\n",
      "         Current function value: 0.077823\n",
      "         Iterations 4\n",
      "Optimization terminated successfully.\n",
      "         Current function value: 0.076083\n",
      "         Iterations 4\n",
      "Optimization terminated successfully.\n",
      "         Current function value: 0.081533\n",
      "         Iterations 4\n"
     ]
    }
   ],
   "source": [
    "#MICE imputation\n",
    "MI_data_df = mice.MICEData(dat_df)     \n",
    "fit =  mice.MICE(model_formula='bkd_mm~income', \n",
    "                model_class=sm.Logit, data=MI_data_df)          \n",
    "MI_fit = fit.fit(n_imputations=20)"
   ]
  },
  {
   "cell_type": "code",
   "execution_count": 39,
   "id": "composed-marketplace",
   "metadata": {},
   "outputs": [
    {
     "data": {
      "text/plain": [
       "array([-5.51168895e+00,  1.13848253e-05])"
      ]
     },
     "execution_count": 39,
     "metadata": {},
     "output_type": "execute_result"
    }
   ],
   "source": [
    "MI_fit.params"
   ]
  },
  {
   "cell_type": "markdown",
   "id": "composite-banner",
   "metadata": {},
   "source": [
    "The coefficient for imputing the missing values with MICE is approx. 4.1*1e-7, pretty close to the coefficient obtained after replacing the missing values by the maximum income. "
   ]
  }
 ],
 "metadata": {
  "kernelspec": {
   "display_name": "Python 3",
   "language": "python",
   "name": "python3"
  },
  "language_info": {
   "codemirror_mode": {
    "name": "ipython",
    "version": 3
   },
   "file_extension": ".py",
   "mimetype": "text/x-python",
   "name": "python",
   "nbconvert_exporter": "python",
   "pygments_lexer": "ipython3",
   "version": "3.7.9"
  }
 },
 "nbformat": 4,
 "nbformat_minor": 5
}
