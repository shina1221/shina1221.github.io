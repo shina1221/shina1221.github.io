{
 "cells": [
  {
   "cell_type": "markdown",
   "id": "decent-playback",
   "metadata": {},
   "source": [
    "# Solutions for chapter 2 exercises"
   ]
  },
  {
   "cell_type": "markdown",
   "id": "comprehensive-batman",
   "metadata": {},
   "source": [
    "## Set up"
   ]
  },
  {
   "cell_type": "code",
   "execution_count": 1,
   "id": "extra-negative",
   "metadata": {},
   "outputs": [],
   "source": [
    "# Common libraries\n",
    "import pandas as pd\n",
    "import numpy as np\n",
    "import statsmodels.formula.api as smf\n",
    "from statsmodels.formula.api import ols\n",
    "import matplotlib.pyplot as plt\n",
    "import seaborn as sns"
   ]
  },
  {
   "cell_type": "code",
   "execution_count": 2,
   "id": "political-government",
   "metadata": {},
   "outputs": [],
   "source": [
    "#Loading the data\n",
    "dat_df = pd.read_csv(\"AirCnC_MnM_exercises_data.csv\")"
   ]
  },
  {
   "cell_type": "markdown",
   "id": "governing-renewal",
   "metadata": {},
   "source": [
    "# 0. The problem as seen by the PM"
   ]
  },
  {
   "cell_type": "markdown",
   "id": "naval-dryer",
   "metadata": {},
   "source": [
    "This preliminary section shows the calculations that the PM ran, for reference."
   ]
  },
  {
   "cell_type": "code",
   "execution_count": 4,
   "id": "radical-portfolio",
   "metadata": {},
   "outputs": [
    {
     "data": {
      "text/html": [
       "<div>\n",
       "<style scoped>\n",
       "    .dataframe tbody tr th:only-of-type {\n",
       "        vertical-align: middle;\n",
       "    }\n",
       "\n",
       "    .dataframe tbody tr th {\n",
       "        vertical-align: top;\n",
       "    }\n",
       "\n",
       "    .dataframe thead th {\n",
       "        text-align: right;\n",
       "    }\n",
       "</style>\n",
       "<table border=\"1\" class=\"dataframe\">\n",
       "  <thead>\n",
       "    <tr style=\"text-align: right;\">\n",
       "      <th></th>\n",
       "      <th>bkg_rate</th>\n",
       "    </tr>\n",
       "    <tr>\n",
       "      <th>ad</th>\n",
       "      <th></th>\n",
       "    </tr>\n",
       "  </thead>\n",
       "  <tbody>\n",
       "    <tr>\n",
       "      <th>0</th>\n",
       "      <td>0.464139</td>\n",
       "    </tr>\n",
       "    <tr>\n",
       "      <th>1</th>\n",
       "      <td>0.448417</td>\n",
       "    </tr>\n",
       "  </tbody>\n",
       "</table>\n",
       "</div>"
      ],
      "text/plain": [
       "    bkg_rate\n",
       "ad          \n",
       "0   0.464139\n",
       "1   0.448417"
      ]
     },
     "execution_count": 4,
     "metadata": {},
     "output_type": "execute_result"
    }
   ],
   "source": [
    "# The booking rate is lower for customers who have seen the ad\n",
    "dat_df.groupby('ad').agg(bkg_rate = ('bkd', lambda x: np.mean(x)))"
   ]
  },
  {
   "cell_type": "markdown",
   "id": "massive-explanation",
   "metadata": {},
   "source": [
    "0.b. What is the booking rate for customers who have seen the ad, restricting to customers considering an M&M property? Customers who haven’t seen the ad, with the same restriction?"
   ]
  },
  {
   "cell_type": "code",
   "execution_count": 7,
   "id": "secondary-liberia",
   "metadata": {},
   "outputs": [
    {
     "data": {
      "text/html": [
       "<div>\n",
       "<style scoped>\n",
       "    .dataframe tbody tr th:only-of-type {\n",
       "        vertical-align: middle;\n",
       "    }\n",
       "\n",
       "    .dataframe tbody tr th {\n",
       "        vertical-align: top;\n",
       "    }\n",
       "\n",
       "    .dataframe thead th {\n",
       "        text-align: right;\n",
       "    }\n",
       "</style>\n",
       "<table border=\"1\" class=\"dataframe\">\n",
       "  <thead>\n",
       "    <tr style=\"text-align: right;\">\n",
       "      <th></th>\n",
       "      <th>bkg_rate</th>\n",
       "    </tr>\n",
       "    <tr>\n",
       "      <th>ad</th>\n",
       "      <th></th>\n",
       "    </tr>\n",
       "  </thead>\n",
       "  <tbody>\n",
       "    <tr>\n",
       "      <th>0</th>\n",
       "      <td>0.932051</td>\n",
       "    </tr>\n",
       "    <tr>\n",
       "      <th>1</th>\n",
       "      <td>0.911111</td>\n",
       "    </tr>\n",
       "  </tbody>\n",
       "</table>\n",
       "</div>"
      ],
      "text/plain": [
       "    bkg_rate\n",
       "ad          \n",
       "0   0.932051\n",
       "1   0.911111"
      ]
     },
     "execution_count": 7,
     "metadata": {},
     "output_type": "execute_result"
    }
   ],
   "source": [
    "# This remains true even when restricting to customers considering an M&M property\n",
    "dat_df[(dat_df['mm']==1)].groupby('ad').agg(bkg_rate = ('bkd', lambda x: np.mean(x)))"
   ]
  },
  {
   "cell_type": "markdown",
   "id": "liable-centre",
   "metadata": {},
   "source": [
    "# 1. Understanding the behaviors"
   ]
  },
  {
   "cell_type": "markdown",
   "id": "spatial-reception",
   "metadata": {},
   "source": [
    "1.a. What are the behavioral categories for the variables in the data (Income, Ad, MM, Bkd)?\n",
    "\n",
    "Income is a personal characteristic.\n",
    "Ad is a business behavior.\n",
    "MM is a customer behavior. \n",
    "Bkd is a customer behavior."
   ]
  },
  {
   "cell_type": "markdown",
   "id": "fundamental-lincoln",
   "metadata": {},
   "source": [
    "1.b. What is (are) the goal(s) of the ad?\n",
    "\n",
    "The goals of the ad are \n",
    "- to increase the percentage of customers who consider an M&M property\n",
    "- to increase the percentage of customers who book an M&M property"
   ]
  },
  {
   "cell_type": "code",
   "execution_count": 8,
   "id": "heard-luxury",
   "metadata": {},
   "outputs": [
    {
     "name": "stdout",
     "output_type": "stream",
     "text": [
      "Optimization terminated successfully.\n",
      "         Current function value: 0.295525\n",
      "         Iterations 6\n"
     ]
    },
    {
     "data": {
      "text/html": [
       "<table class=\"simpletable\">\n",
       "<caption>Logit Regression Results</caption>\n",
       "<tr>\n",
       "  <th>Dep. Variable:</th>          <td>mm</td>        <th>  No. Observations:  </th>  <td> 10000</td>  \n",
       "</tr>\n",
       "<tr>\n",
       "  <th>Model:</th>                 <td>Logit</td>      <th>  Df Residuals:      </th>  <td>  9998</td>  \n",
       "</tr>\n",
       "<tr>\n",
       "  <th>Method:</th>                 <td>MLE</td>       <th>  Df Model:          </th>  <td>     1</td>  \n",
       "</tr>\n",
       "<tr>\n",
       "  <th>Date:</th>            <td>Fri, 30 Apr 2021</td> <th>  Pseudo R-squ.:     </th> <td>5.536e-05</td>\n",
       "</tr>\n",
       "<tr>\n",
       "  <th>Time:</th>                <td>07:55:18</td>     <th>  Log-Likelihood:    </th> <td> -2955.3</td> \n",
       "</tr>\n",
       "<tr>\n",
       "  <th>converged:</th>             <td>True</td>       <th>  LL-Null:           </th> <td> -2955.4</td> \n",
       "</tr>\n",
       "<tr>\n",
       "  <th>Covariance Type:</th>     <td>nonrobust</td>    <th>  LLR p-value:       </th>  <td>0.5673</td>  \n",
       "</tr>\n",
       "</table>\n",
       "<table class=\"simpletable\">\n",
       "<tr>\n",
       "      <td></td>         <th>coef</th>     <th>std err</th>      <th>z</th>      <th>P>|z|</th>  <th>[0.025</th>    <th>0.975]</th>  \n",
       "</tr>\n",
       "<tr>\n",
       "  <th>Intercept</th> <td>   -2.3576</td> <td>    0.037</td> <td>  -62.933</td> <td> 0.000</td> <td>   -2.431</td> <td>   -2.284</td>\n",
       "</tr>\n",
       "<tr>\n",
       "  <th>ad</th>        <td>    0.0673</td> <td>    0.117</td> <td>    0.576</td> <td> 0.564</td> <td>   -0.162</td> <td>    0.296</td>\n",
       "</tr>\n",
       "</table>"
      ],
      "text/plain": [
       "<class 'statsmodels.iolib.summary.Summary'>\n",
       "\"\"\"\n",
       "                           Logit Regression Results                           \n",
       "==============================================================================\n",
       "Dep. Variable:                     mm   No. Observations:                10000\n",
       "Model:                          Logit   Df Residuals:                     9998\n",
       "Method:                           MLE   Df Model:                            1\n",
       "Date:                Fri, 30 Apr 2021   Pseudo R-squ.:               5.536e-05\n",
       "Time:                        07:55:18   Log-Likelihood:                -2955.3\n",
       "converged:                       True   LL-Null:                       -2955.4\n",
       "Covariance Type:            nonrobust   LLR p-value:                    0.5673\n",
       "==============================================================================\n",
       "                 coef    std err          z      P>|z|      [0.025      0.975]\n",
       "------------------------------------------------------------------------------\n",
       "Intercept     -2.3576      0.037    -62.933      0.000      -2.431      -2.284\n",
       "ad             0.0673      0.117      0.576      0.564      -0.162       0.296\n",
       "==============================================================================\n",
       "\"\"\""
      ]
     },
     "execution_count": 8,
     "metadata": {},
     "output_type": "execute_result"
    }
   ],
   "source": [
    "# The ad indeed increases the probability that a customer will consider an M&M property\n",
    "mod_mm = smf.logit('mm ~ ad', data = dat_df)\n",
    "res_mm = mod_mm.fit()\n",
    "res_mm.summary()"
   ]
  },
  {
   "cell_type": "code",
   "execution_count": 9,
   "id": "nervous-denial",
   "metadata": {},
   "outputs": [
    {
     "name": "stdout",
     "output_type": "stream",
     "text": [
      "Optimization terminated successfully.\n",
      "         Current function value: 0.280956\n",
      "         Iterations 6\n"
     ]
    },
    {
     "data": {
      "text/html": [
       "<table class=\"simpletable\">\n",
       "<caption>Logit Regression Results</caption>\n",
       "<tr>\n",
       "  <th>Dep. Variable:</th>        <td>bkd_mm</td>      <th>  No. Observations:  </th>  <td> 10000</td>  \n",
       "</tr>\n",
       "<tr>\n",
       "  <th>Model:</th>                 <td>Logit</td>      <th>  Df Residuals:      </th>  <td>  9998</td>  \n",
       "</tr>\n",
       "<tr>\n",
       "  <th>Method:</th>                 <td>MLE</td>       <th>  Df Model:          </th>  <td>     1</td>  \n",
       "</tr>\n",
       "<tr>\n",
       "  <th>Date:</th>            <td>Fri, 30 Apr 2021</td> <th>  Pseudo R-squ.:     </th> <td>2.103e-05</td>\n",
       "</tr>\n",
       "<tr>\n",
       "  <th>Time:</th>                <td>07:57:20</td>     <th>  Log-Likelihood:    </th> <td> -2809.6</td> \n",
       "</tr>\n",
       "<tr>\n",
       "  <th>converged:</th>             <td>True</td>       <th>  LL-Null:           </th> <td> -2809.6</td> \n",
       "</tr>\n",
       "<tr>\n",
       "  <th>Covariance Type:</th>     <td>nonrobust</td>    <th>  LLR p-value:       </th>  <td>0.7310</td>  \n",
       "</tr>\n",
       "</table>\n",
       "<table class=\"simpletable\">\n",
       "<tr>\n",
       "      <td></td>         <th>coef</th>     <th>std err</th>      <th>z</th>      <th>P>|z|</th>  <th>[0.025</th>    <th>0.975]</th>  \n",
       "</tr>\n",
       "<tr>\n",
       "  <th>Intercept</th> <td>   -2.4344</td> <td>    0.039</td> <td>  -62.937</td> <td> 0.000</td> <td>   -2.510</td> <td>   -2.359</td>\n",
       "</tr>\n",
       "<tr>\n",
       "  <th>ad</th>        <td>    0.0420</td> <td>    0.122</td> <td>    0.345</td> <td> 0.730</td> <td>   -0.196</td> <td>    0.281</td>\n",
       "</tr>\n",
       "</table>"
      ],
      "text/plain": [
       "<class 'statsmodels.iolib.summary.Summary'>\n",
       "\"\"\"\n",
       "                           Logit Regression Results                           \n",
       "==============================================================================\n",
       "Dep. Variable:                 bkd_mm   No. Observations:                10000\n",
       "Model:                          Logit   Df Residuals:                     9998\n",
       "Method:                           MLE   Df Model:                            1\n",
       "Date:                Fri, 30 Apr 2021   Pseudo R-squ.:               2.103e-05\n",
       "Time:                        07:57:20   Log-Likelihood:                -2809.6\n",
       "converged:                       True   LL-Null:                       -2809.6\n",
       "Covariance Type:            nonrobust   LLR p-value:                    0.7310\n",
       "==============================================================================\n",
       "                 coef    std err          z      P>|z|      [0.025      0.975]\n",
       "------------------------------------------------------------------------------\n",
       "Intercept     -2.4344      0.039    -62.937      0.000      -2.510      -2.359\n",
       "ad             0.0420      0.122      0.345      0.730      -0.196       0.281\n",
       "==============================================================================\n",
       "\"\"\""
      ]
     },
     "execution_count": 9,
     "metadata": {},
     "output_type": "execute_result"
    }
   ],
   "source": [
    "#The ad increases the probability that a customer will book an M&M property\n",
    "dat_df['bkd_mm'] = dat_df['bkd'] * dat_df['mm'] # Equal to 1 if and only if a customer books an M&M property\n",
    "\n",
    "mod_bkd_mm = smf.logit('bkd_mm ~ ad', data = dat_df)\n",
    "res_bkd_mm = mod_bkd_mm.fit()\n",
    "res_bkd_mm.summary()"
   ]
  },
  {
   "cell_type": "markdown",
   "id": "exposed-presentation",
   "metadata": {},
   "source": [
    "# 2. Resolving the mystery "
   ]
  },
  {
   "cell_type": "markdown",
   "id": "thrown-disclaimer",
   "metadata": {},
   "source": [
    "2.a. How does income affect these behaviors?"
   ]
  },
  {
   "cell_type": "code",
   "execution_count": 10,
   "id": "labeled-burton",
   "metadata": {},
   "outputs": [
    {
     "name": "stdout",
     "output_type": "stream",
     "text": [
      "Optimization terminated successfully.\n",
      "         Current function value: 0.092007\n",
      "         Iterations 9\n"
     ]
    },
    {
     "data": {
      "text/html": [
       "<table class=\"simpletable\">\n",
       "<caption>Logit Regression Results</caption>\n",
       "<tr>\n",
       "  <th>Dep. Variable:</th>          <td>mm</td>        <th>  No. Observations:  </th>  <td>  8489</td> \n",
       "</tr>\n",
       "<tr>\n",
       "  <th>Model:</th>                 <td>Logit</td>      <th>  Df Residuals:      </th>  <td>  8486</td> \n",
       "</tr>\n",
       "<tr>\n",
       "  <th>Method:</th>                 <td>MLE</td>       <th>  Df Model:          </th>  <td>     2</td> \n",
       "</tr>\n",
       "<tr>\n",
       "  <th>Date:</th>            <td>Fri, 30 Apr 2021</td> <th>  Pseudo R-squ.:     </th>  <td>0.6023</td> \n",
       "</tr>\n",
       "<tr>\n",
       "  <th>Time:</th>                <td>07:58:52</td>     <th>  Log-Likelihood:    </th> <td> -781.04</td>\n",
       "</tr>\n",
       "<tr>\n",
       "  <th>converged:</th>             <td>True</td>       <th>  LL-Null:           </th> <td> -1964.1</td>\n",
       "</tr>\n",
       "<tr>\n",
       "  <th>Covariance Type:</th>     <td>nonrobust</td>    <th>  LLR p-value:       </th>  <td> 0.000</td> \n",
       "</tr>\n",
       "</table>\n",
       "<table class=\"simpletable\">\n",
       "<tr>\n",
       "      <td></td>         <th>coef</th>     <th>std err</th>      <th>z</th>      <th>P>|z|</th>  <th>[0.025</th>    <th>0.975]</th>  \n",
       "</tr>\n",
       "<tr>\n",
       "  <th>Intercept</th> <td>   -5.0019</td> <td>    0.119</td> <td>  -41.925</td> <td> 0.000</td> <td>   -5.236</td> <td>   -4.768</td>\n",
       "</tr>\n",
       "<tr>\n",
       "  <th>income</th>    <td> 9.768e-06</td> <td> 3.47e-07</td> <td>   28.160</td> <td> 0.000</td> <td> 9.09e-06</td> <td> 1.04e-05</td>\n",
       "</tr>\n",
       "<tr>\n",
       "  <th>ad</th>        <td>    0.4934</td> <td>    0.464</td> <td>    1.063</td> <td> 0.288</td> <td>   -0.417</td> <td>    1.403</td>\n",
       "</tr>\n",
       "</table>"
      ],
      "text/plain": [
       "<class 'statsmodels.iolib.summary.Summary'>\n",
       "\"\"\"\n",
       "                           Logit Regression Results                           \n",
       "==============================================================================\n",
       "Dep. Variable:                     mm   No. Observations:                 8489\n",
       "Model:                          Logit   Df Residuals:                     8486\n",
       "Method:                           MLE   Df Model:                            2\n",
       "Date:                Fri, 30 Apr 2021   Pseudo R-squ.:                  0.6023\n",
       "Time:                        07:58:52   Log-Likelihood:                -781.04\n",
       "converged:                       True   LL-Null:                       -1964.1\n",
       "Covariance Type:            nonrobust   LLR p-value:                     0.000\n",
       "==============================================================================\n",
       "                 coef    std err          z      P>|z|      [0.025      0.975]\n",
       "------------------------------------------------------------------------------\n",
       "Intercept     -5.0019      0.119    -41.925      0.000      -5.236      -4.768\n",
       "income      9.768e-06   3.47e-07     28.160      0.000    9.09e-06    1.04e-05\n",
       "ad             0.4934      0.464      1.063      0.288      -0.417       1.403\n",
       "==============================================================================\n",
       "\"\"\""
      ]
     },
     "execution_count": 10,
     "metadata": {},
     "output_type": "execute_result"
    }
   ],
   "source": [
    "# Income increases the probability that a customer will consider an M&M property\n",
    "mod_mm = smf.logit('mm ~ income + ad', data = dat_df)\n",
    "res_mm = mod_mm.fit()\n",
    "res_mm.summary()"
   ]
  },
  {
   "cell_type": "code",
   "execution_count": 11,
   "id": "electrical-architecture",
   "metadata": {},
   "outputs": [
    {
     "name": "stdout",
     "output_type": "stream",
     "text": [
      "Optimization terminated successfully.\n",
      "         Current function value: 0.064053\n",
      "         Iterations 9\n"
     ]
    },
    {
     "data": {
      "text/html": [
       "<table class=\"simpletable\">\n",
       "<caption>Logit Regression Results</caption>\n",
       "<tr>\n",
       "  <th>Dep. Variable:</th>        <td>bkd_mm</td>      <th>  No. Observations:  </th>  <td>  8489</td> \n",
       "</tr>\n",
       "<tr>\n",
       "  <th>Model:</th>                 <td>Logit</td>      <th>  Df Residuals:      </th>  <td>  8486</td> \n",
       "</tr>\n",
       "<tr>\n",
       "  <th>Method:</th>                 <td>MLE</td>       <th>  Df Model:          </th>  <td>     2</td> \n",
       "</tr>\n",
       "<tr>\n",
       "  <th>Date:</th>            <td>Fri, 30 Apr 2021</td> <th>  Pseudo R-squ.:     </th>  <td>0.7007</td> \n",
       "</tr>\n",
       "<tr>\n",
       "  <th>Time:</th>                <td>07:59:37</td>     <th>  Log-Likelihood:    </th> <td> -543.74</td>\n",
       "</tr>\n",
       "<tr>\n",
       "  <th>converged:</th>             <td>True</td>       <th>  LL-Null:           </th> <td> -1816.8</td>\n",
       "</tr>\n",
       "<tr>\n",
       "  <th>Covariance Type:</th>     <td>nonrobust</td>    <th>  LLR p-value:       </th>  <td> 0.000</td> \n",
       "</tr>\n",
       "</table>\n",
       "<table class=\"simpletable\">\n",
       "<tr>\n",
       "      <td></td>         <th>coef</th>     <th>std err</th>      <th>z</th>      <th>P>|z|</th>  <th>[0.025</th>    <th>0.975]</th>  \n",
       "</tr>\n",
       "<tr>\n",
       "  <th>Intercept</th> <td>   -5.7731</td> <td>    0.161</td> <td>  -35.783</td> <td> 0.000</td> <td>   -6.089</td> <td>   -5.457</td>\n",
       "</tr>\n",
       "<tr>\n",
       "  <th>income</th>    <td> 1.127e-05</td> <td> 4.23e-07</td> <td>   26.658</td> <td> 0.000</td> <td> 1.04e-05</td> <td> 1.21e-05</td>\n",
       "</tr>\n",
       "<tr>\n",
       "  <th>ad</th>        <td>    0.2978</td> <td>    0.725</td> <td>    0.411</td> <td> 0.681</td> <td>   -1.124</td> <td>    1.719</td>\n",
       "</tr>\n",
       "</table>"
      ],
      "text/plain": [
       "<class 'statsmodels.iolib.summary.Summary'>\n",
       "\"\"\"\n",
       "                           Logit Regression Results                           \n",
       "==============================================================================\n",
       "Dep. Variable:                 bkd_mm   No. Observations:                 8489\n",
       "Model:                          Logit   Df Residuals:                     8486\n",
       "Method:                           MLE   Df Model:                            2\n",
       "Date:                Fri, 30 Apr 2021   Pseudo R-squ.:                  0.7007\n",
       "Time:                        07:59:37   Log-Likelihood:                -543.74\n",
       "converged:                       True   LL-Null:                       -1816.8\n",
       "Covariance Type:            nonrobust   LLR p-value:                     0.000\n",
       "==============================================================================\n",
       "                 coef    std err          z      P>|z|      [0.025      0.975]\n",
       "------------------------------------------------------------------------------\n",
       "Intercept     -5.7731      0.161    -35.783      0.000      -6.089      -5.457\n",
       "income      1.127e-05   4.23e-07     26.658      0.000    1.04e-05    1.21e-05\n",
       "ad             0.2978      0.725      0.411      0.681      -1.124       1.719\n",
       "==============================================================================\n",
       "\"\"\""
      ]
     },
     "execution_count": 11,
     "metadata": {},
     "output_type": "execute_result"
    }
   ],
   "source": [
    "# Income increases the probability that a customer will book an M&M property\n",
    "mod_bkd_mm = smf.logit('bkd_mm ~ income + ad', data = dat_df)\n",
    "res_bkd_mm = mod_bkd_mm.fit()\n",
    "res_bkd_mm.summary()"
   ]
  },
  {
   "cell_type": "markdown",
   "id": "first-bedroom",
   "metadata": {},
   "source": [
    "2.b. What is the average income of customers considering an M&M property after seeing the ad? Without seeing the ad? "
   ]
  },
  {
   "cell_type": "code",
   "execution_count": 13,
   "id": "constitutional-attempt",
   "metadata": {},
   "outputs": [
    {
     "data": {
      "text/html": [
       "<div>\n",
       "<style scoped>\n",
       "    .dataframe tbody tr th:only-of-type {\n",
       "        vertical-align: middle;\n",
       "    }\n",
       "\n",
       "    .dataframe tbody tr th {\n",
       "        vertical-align: top;\n",
       "    }\n",
       "\n",
       "    .dataframe thead th {\n",
       "        text-align: right;\n",
       "    }\n",
       "</style>\n",
       "<table border=\"1\" class=\"dataframe\">\n",
       "  <thead>\n",
       "    <tr style=\"text-align: right;\">\n",
       "      <th></th>\n",
       "      <th></th>\n",
       "      <th>avg_income</th>\n",
       "    </tr>\n",
       "    <tr>\n",
       "      <th>ad</th>\n",
       "      <th>mm</th>\n",
       "      <th></th>\n",
       "    </tr>\n",
       "  </thead>\n",
       "  <tbody>\n",
       "    <tr>\n",
       "      <th rowspan=\"2\" valign=\"top\">0</th>\n",
       "      <th>0</th>\n",
       "      <td>6.541963e+04</td>\n",
       "    </tr>\n",
       "    <tr>\n",
       "      <th>1</th>\n",
       "      <td>1.098118e+06</td>\n",
       "    </tr>\n",
       "    <tr>\n",
       "      <th rowspan=\"2\" valign=\"top\">1</th>\n",
       "      <th>0</th>\n",
       "      <td>2.236217e+04</td>\n",
       "    </tr>\n",
       "    <tr>\n",
       "      <th>1</th>\n",
       "      <td>1.936380e+04</td>\n",
       "    </tr>\n",
       "  </tbody>\n",
       "</table>\n",
       "</div>"
      ],
      "text/plain": [
       "         avg_income\n",
       "ad mm              \n",
       "0  0   6.541963e+04\n",
       "   1   1.098118e+06\n",
       "1  0   2.236217e+04\n",
       "   1   1.936380e+04"
      ]
     },
     "execution_count": 13,
     "metadata": {},
     "output_type": "execute_result"
    }
   ],
   "source": [
    "# Customers considering an M&M property after seeing the ad have a lower income than customers \n",
    "# considering an M&M property without having seen the ad\n",
    "dat_df.groupby(['ad', 'mm']).agg(avg_income = ('income', lambda x: np.mean(x)))"
   ]
  },
  {
   "cell_type": "markdown",
   "id": "smoking-calcium",
   "metadata": {},
   "source": [
    "2.c. Can you now explain to the PM what happened?\n",
    "\n",
    "The ad was effective at driving more customers to consider an M&M property across the board (i.e. irrespective of income). However, because there are more customers with a lower income than with a higher income, this added proportionately more lower-income customers to the pool of customers considering an M&M property. These lower-income customers have a lower likelihood to book a property, so the average booking rate across customers considering an M&M property decreased. In other words, the mix of customers considering an M&M property changed, but the individual probability that a customer would consider and book an M&M property increased. This ad is a resounding success!"
   ]
  }
 ],
 "metadata": {
  "kernelspec": {
   "display_name": "Python 3",
   "language": "python",
   "name": "python3"
  },
  "language_info": {
   "codemirror_mode": {
    "name": "ipython",
    "version": 3
   },
   "file_extension": ".py",
   "mimetype": "text/x-python",
   "name": "python",
   "nbconvert_exporter": "python",
   "pygments_lexer": "ipython3",
   "version": "3.7.9"
  }
 },
 "nbformat": 4,
 "nbformat_minor": 5
}
