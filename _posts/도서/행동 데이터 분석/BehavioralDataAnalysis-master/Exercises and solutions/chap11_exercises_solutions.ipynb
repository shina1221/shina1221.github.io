{
 "cells": [
  {
   "cell_type": "markdown",
   "id": "decent-playback",
   "metadata": {},
   "source": [
    "# Solutions for chapter 11 exercises"
   ]
  },
  {
   "cell_type": "markdown",
   "id": "comprehensive-batman",
   "metadata": {},
   "source": [
    "## Set up"
   ]
  },
  {
   "cell_type": "code",
   "execution_count": 28,
   "id": "reserved-labor",
   "metadata": {},
   "outputs": [],
   "source": [
    "# Common libraries\n",
    "import pandas as pd\n",
    "import numpy as np\n",
    "import statsmodels.formula.api as smf\n",
    "import statsmodels.api as sm\n",
    "import seaborn as sns"
   ]
  },
  {
   "cell_type": "code",
   "execution_count": 29,
   "id": "adopted-restriction",
   "metadata": {},
   "outputs": [
    {
     "data": {
      "text/html": [
       "<div>\n",
       "<style scoped>\n",
       "    .dataframe tbody tr th:only-of-type {\n",
       "        vertical-align: middle;\n",
       "    }\n",
       "\n",
       "    .dataframe tbody tr th {\n",
       "        vertical-align: top;\n",
       "    }\n",
       "\n",
       "    .dataframe thead th {\n",
       "        text-align: right;\n",
       "    }\n",
       "</style>\n",
       "<table border=\"1\" class=\"dataframe\">\n",
       "  <thead>\n",
       "    <tr style=\"text-align: right;\">\n",
       "      <th></th>\n",
       "      <th>call</th>\n",
       "      <th>education</th>\n",
       "      <th>yearsexp</th>\n",
       "      <th>college</th>\n",
       "      <th>eoe</th>\n",
       "    </tr>\n",
       "  </thead>\n",
       "  <tbody>\n",
       "    <tr>\n",
       "      <th>count</th>\n",
       "      <td>4870.000000</td>\n",
       "      <td>4870.000000</td>\n",
       "      <td>4870.000000</td>\n",
       "      <td>4870.000000</td>\n",
       "      <td>4870.000000</td>\n",
       "    </tr>\n",
       "    <tr>\n",
       "      <th>mean</th>\n",
       "      <td>0.080493</td>\n",
       "      <td>3.618480</td>\n",
       "      <td>7.842916</td>\n",
       "      <td>0.719507</td>\n",
       "      <td>0.291170</td>\n",
       "    </tr>\n",
       "    <tr>\n",
       "      <th>std</th>\n",
       "      <td>0.272083</td>\n",
       "      <td>0.714997</td>\n",
       "      <td>5.044612</td>\n",
       "      <td>0.449286</td>\n",
       "      <td>0.454349</td>\n",
       "    </tr>\n",
       "    <tr>\n",
       "      <th>min</th>\n",
       "      <td>0.000000</td>\n",
       "      <td>0.000000</td>\n",
       "      <td>1.000000</td>\n",
       "      <td>0.000000</td>\n",
       "      <td>0.000000</td>\n",
       "    </tr>\n",
       "    <tr>\n",
       "      <th>25%</th>\n",
       "      <td>0.000000</td>\n",
       "      <td>3.000000</td>\n",
       "      <td>5.000000</td>\n",
       "      <td>0.000000</td>\n",
       "      <td>0.000000</td>\n",
       "    </tr>\n",
       "    <tr>\n",
       "      <th>50%</th>\n",
       "      <td>0.000000</td>\n",
       "      <td>4.000000</td>\n",
       "      <td>6.000000</td>\n",
       "      <td>1.000000</td>\n",
       "      <td>0.000000</td>\n",
       "    </tr>\n",
       "    <tr>\n",
       "      <th>75%</th>\n",
       "      <td>0.000000</td>\n",
       "      <td>4.000000</td>\n",
       "      <td>9.000000</td>\n",
       "      <td>1.000000</td>\n",
       "      <td>1.000000</td>\n",
       "    </tr>\n",
       "    <tr>\n",
       "      <th>max</th>\n",
       "      <td>1.000000</td>\n",
       "      <td>4.000000</td>\n",
       "      <td>44.000000</td>\n",
       "      <td>1.000000</td>\n",
       "      <td>1.000000</td>\n",
       "    </tr>\n",
       "  </tbody>\n",
       "</table>\n",
       "</div>"
      ],
      "text/plain": [
       "              call    education     yearsexp      college          eoe\n",
       "count  4870.000000  4870.000000  4870.000000  4870.000000  4870.000000\n",
       "mean      0.080493     3.618480     7.842916     0.719507     0.291170\n",
       "std       0.272083     0.714997     5.044612     0.449286     0.454349\n",
       "min       0.000000     0.000000     1.000000     0.000000     0.000000\n",
       "25%       0.000000     3.000000     5.000000     0.000000     0.000000\n",
       "50%       0.000000     4.000000     6.000000     1.000000     0.000000\n",
       "75%       0.000000     4.000000     9.000000     1.000000     1.000000\n",
       "max       1.000000     4.000000    44.000000     1.000000     1.000000"
      ]
     },
     "execution_count": 29,
     "metadata": {},
     "output_type": "execute_result"
    }
   ],
   "source": [
    "# Reading the data\n",
    "dat_df = pd.read_csv(\"Bertrand_Mullainathan_exercises_data.csv\")\n",
    "dat_df.describe()"
   ]
  },
  {
   "cell_type": "code",
   "execution_count": 30,
   "id": "painted-marshall",
   "metadata": {},
   "outputs": [],
   "source": [
    "#Reformating variables as factor\n",
    "dat_df['gender'] = pd.Categorical(dat_df['gender'], ordered = True, categories = ['m', 'f'])\n",
    "dat_df['race'] = pd.Categorical(dat_df['race'], ordered = True, categories = ['w', 'b'])\n",
    "dat_df['wanted'] = pd.Categorical(dat_df['wanted'])"
   ]
  },
  {
   "cell_type": "markdown",
   "id": "constitutional-university",
   "metadata": {},
   "source": [
    "## Visualizing the moderation\n",
    "\n",
    "Replicate figure 11-3 with the EOE status as the x-variable, the call rate as the y-variable and gender as the group variable. Interpret the figure."
   ]
  },
  {
   "cell_type": "code",
   "execution_count": 31,
   "id": "caring-landing",
   "metadata": {},
   "outputs": [
    {
     "data": {
      "text/html": [
       "<div>\n",
       "<style scoped>\n",
       "    .dataframe tbody tr th:only-of-type {\n",
       "        vertical-align: middle;\n",
       "    }\n",
       "\n",
       "    .dataframe tbody tr th {\n",
       "        vertical-align: top;\n",
       "    }\n",
       "\n",
       "    .dataframe thead th {\n",
       "        text-align: right;\n",
       "    }\n",
       "</style>\n",
       "<table border=\"1\" class=\"dataframe\">\n",
       "  <thead>\n",
       "    <tr style=\"text-align: right;\">\n",
       "      <th></th>\n",
       "      <th>gender</th>\n",
       "      <th>eoe</th>\n",
       "      <th>call_rate</th>\n",
       "    </tr>\n",
       "  </thead>\n",
       "  <tbody>\n",
       "    <tr>\n",
       "      <th>0</th>\n",
       "      <td>m</td>\n",
       "      <td>0</td>\n",
       "      <td>0.064599</td>\n",
       "    </tr>\n",
       "    <tr>\n",
       "      <th>1</th>\n",
       "      <td>m</td>\n",
       "      <td>1</td>\n",
       "      <td>0.094286</td>\n",
       "    </tr>\n",
       "    <tr>\n",
       "      <th>2</th>\n",
       "      <td>f</td>\n",
       "      <td>0</td>\n",
       "      <td>0.084391</td>\n",
       "    </tr>\n",
       "    <tr>\n",
       "      <th>3</th>\n",
       "      <td>f</td>\n",
       "      <td>1</td>\n",
       "      <td>0.077715</td>\n",
       "    </tr>\n",
       "  </tbody>\n",
       "</table>\n",
       "</div>"
      ],
      "text/plain": [
       "  gender  eoe  call_rate\n",
       "0      m    0   0.064599\n",
       "1      m    1   0.094286\n",
       "2      f    0   0.084391\n",
       "3      f    1   0.077715"
      ]
     },
     "execution_count": 31,
     "metadata": {},
     "output_type": "execute_result"
    }
   ],
   "source": [
    "#Building the summary data first\n",
    "summ_dat_df = dat_df.groupby(['gender','eoe']).agg(call_rate =('call', 'mean')).reset_index()\n",
    "summ_dat_df"
   ]
  },
  {
   "cell_type": "code",
   "execution_count": 33,
   "id": "analyzed-tuner",
   "metadata": {},
   "outputs": [
    {
     "data": {
      "text/plain": [
       "<seaborn.axisgrid.FacetGrid at 0x1cf3fef2548>"
      ]
     },
     "execution_count": 33,
     "metadata": {},
     "output_type": "execute_result"
    },
    {
     "data": {
      "image/png": "[encoded data removed]",
      "text/plain": [
       "<Figure size 405.625x360 with 1 Axes>"
      ]
     },
     "metadata": {
      "needs_background": "light"
     },
     "output_type": "display_data"
    }
   ],
   "source": [
    "# Plotting\n",
    "sns.lmplot(x=\"eoe\", y=\"call_rate\", hue=\"gender\", ci=None, data=summ_dat_df).set(xlim=(-0.05,1.05), ylim=(0,1))"
   ]
  },
  {
   "cell_type": "markdown",
   "id": "accomplished-chassis",
   "metadata": {},
   "source": [
    "Going from EOE=0 to EOE=1, the lines cross, meaning that the gap between genders is reverted. Non-EOE firms call back female candidates more than male candidates whereas EOE firms call back male candidates more than female candidates. But the lines are pretty close to each other. The CI will tell us if that result is robust."
   ]
  },
  {
   "cell_type": "markdown",
   "id": "innocent-archives",
   "metadata": {},
   "source": [
    "## 2. Measuring the moderation\n",
    "\n",
    "a. Run a regression of call on gender and EOE status, with a moderation term between them. "
   ]
  },
  {
   "cell_type": "code",
   "execution_count": 35,
   "id": "protecting-begin",
   "metadata": {},
   "outputs": [
    {
     "name": "stdout",
     "output_type": "stream",
     "text": [
      "Optimization terminated successfully.\n",
      "         Current function value: 0.279527\n",
      "         Iterations 7\n"
     ]
    },
    {
     "data": {
      "text/html": [
       "<table class=\"simpletable\">\n",
       "<caption>Logit Regression Results</caption>\n",
       "<tr>\n",
       "  <th>Dep. Variable:</th>         <td>call</td>       <th>  No. Observations:  </th>  <td>  4870</td> \n",
       "</tr>\n",
       "<tr>\n",
       "  <th>Model:</th>                 <td>Logit</td>      <th>  Df Residuals:      </th>  <td>  4866</td> \n",
       "</tr>\n",
       "<tr>\n",
       "  <th>Method:</th>                 <td>MLE</td>       <th>  Df Model:          </th>  <td>     3</td> \n",
       "</tr>\n",
       "<tr>\n",
       "  <th>Date:</th>            <td>Tue, 11 May 2021</td> <th>  Pseudo R-squ.:     </th> <td>0.001588</td>\n",
       "</tr>\n",
       "<tr>\n",
       "  <th>Time:</th>                <td>08:53:36</td>     <th>  Log-Likelihood:    </th> <td> -1361.3</td>\n",
       "</tr>\n",
       "<tr>\n",
       "  <th>converged:</th>             <td>True</td>       <th>  LL-Null:           </th> <td> -1363.5</td>\n",
       "</tr>\n",
       "<tr>\n",
       "  <th>Covariance Type:</th>     <td>nonrobust</td>    <th>  LLR p-value:       </th>  <td>0.2281</td> \n",
       "</tr>\n",
       "</table>\n",
       "<table class=\"simpletable\">\n",
       "<tr>\n",
       "         <td></td>            <th>coef</th>     <th>std err</th>      <th>z</th>      <th>P>|z|</th>  <th>[0.025</th>    <th>0.975]</th>  \n",
       "</tr>\n",
       "<tr>\n",
       "  <th>Intercept</th>       <td>   -2.6728</td> <td>    0.146</td> <td>  -18.279</td> <td> 0.000</td> <td>   -2.959</td> <td>   -2.386</td>\n",
       "</tr>\n",
       "<tr>\n",
       "  <th>gender[T.f]</th>     <td>    0.2886</td> <td>    0.162</td> <td>    1.783</td> <td> 0.075</td> <td>   -0.029</td> <td>    0.606</td>\n",
       "</tr>\n",
       "<tr>\n",
       "  <th>eoe</th>             <td>    0.4104</td> <td>    0.234</td> <td>    1.752</td> <td> 0.080</td> <td>   -0.049</td> <td>    0.869</td>\n",
       "</tr>\n",
       "<tr>\n",
       "  <th>gender[T.f]:eoe</th> <td>   -0.5001</td> <td>    0.270</td> <td>   -1.854</td> <td> 0.064</td> <td>   -1.029</td> <td>    0.029</td>\n",
       "</tr>\n",
       "</table>"
      ],
      "text/plain": [
       "<class 'statsmodels.iolib.summary.Summary'>\n",
       "\"\"\"\n",
       "                           Logit Regression Results                           \n",
       "==============================================================================\n",
       "Dep. Variable:                   call   No. Observations:                 4870\n",
       "Model:                          Logit   Df Residuals:                     4866\n",
       "Method:                           MLE   Df Model:                            3\n",
       "Date:                Tue, 11 May 2021   Pseudo R-squ.:                0.001588\n",
       "Time:                        08:53:36   Log-Likelihood:                -1361.3\n",
       "converged:                       True   LL-Null:                       -1363.5\n",
       "Covariance Type:            nonrobust   LLR p-value:                    0.2281\n",
       "===================================================================================\n",
       "                      coef    std err          z      P>|z|      [0.025      0.975]\n",
       "-----------------------------------------------------------------------------------\n",
       "Intercept          -2.6728      0.146    -18.279      0.000      -2.959      -2.386\n",
       "gender[T.f]         0.2886      0.162      1.783      0.075      -0.029       0.606\n",
       "eoe                 0.4104      0.234      1.752      0.080      -0.049       0.869\n",
       "gender[T.f]:eoe    -0.5001      0.270     -1.854      0.064      -1.029       0.029\n",
       "===================================================================================\n",
       "\"\"\""
      ]
     },
     "execution_count": 35,
     "metadata": {},
     "output_type": "execute_result"
    }
   ],
   "source": [
    "mod = smf.logit('call~gender+eoe+gender*eoe', data = dat_df)\n",
    "mod.fit().summary()"
   ]
  },
  {
   "cell_type": "markdown",
   "id": "demonstrated-happiness",
   "metadata": {},
   "source": [
    "The moderation term is negative, confirming that the EOE status decreases the relative call back rate for female candidates compared to male. "
   ]
  },
  {
   "cell_type": "markdown",
   "id": "pressed-supplier",
   "metadata": {},
   "source": [
    "b. Create the metric function for the regression in a) and then calculate the corresponding 90%-CI."
   ]
  },
  {
   "cell_type": "code",
   "execution_count": 40,
   "id": "identical-spokesman",
   "metadata": {},
   "outputs": [
    {
     "name": "stdout",
     "output_type": "stream",
     "text": [
      "[-0.9242531270115031, -0.03330478632835458]\n"
     ]
    }
   ],
   "source": [
    "# Determine 90%-CI for moderated moderation coefficient\n",
    "def metric_fun(dat_df):\n",
    "    mod = smf.logit('call~gender+eoe+gender*eoe', data = dat_df)\n",
    "    res = mod.fit(disp=0)\n",
    "    coeff = res.params['gender[T.f]:eoe']\n",
    "    return coeff\n",
    "\n",
    "def boot_CI_fun(dat_df, metric_fun, B = 1000):\n",
    "  #Setting sample size\n",
    "  N = len(dat_df)\n",
    "  conf_level = 0.9\n",
    "  coeffs = []\n",
    "  \n",
    "  \n",
    "  for i in range(B):\n",
    "      sim_data_df = dat_df.sample(n=N, replace = True)\n",
    "      coeff = metric_fun(sim_data_df)\n",
    "      coeffs.append(coeff)\n",
    "  \n",
    "  coeffs.sort()\n",
    "  start_idx = round(B * (1 - conf_level) / 2)\n",
    "  end_idx = - round(B * (1 - conf_level) / 2)\n",
    "  \n",
    "  confint = [coeffs[start_idx], coeffs[end_idx]]  \n",
    "  \n",
    "  return(confint)\n",
    "\n",
    "boot_CI = boot_CI_fun(dat_df, metric_fun)\n",
    "print(boot_CI)"
   ]
  },
  {
   "cell_type": "markdown",
   "id": "coral-picnic",
   "metadata": {},
   "source": [
    "The 90%-CI is approximately [-0.92; -0.03]. The CI doesn't cross zero, even with a large number of Bootstrap samples, so the effect is robust at the 90% level.  "
   ]
  }
 ],
 "metadata": {
  "kernelspec": {
   "display_name": "Python 3",
   "language": "python",
   "name": "python3"
  },
  "language_info": {
   "codemirror_mode": {
    "name": "ipython",
    "version": 3
   },
   "file_extension": ".py",
   "mimetype": "text/x-python",
   "name": "python",
   "nbconvert_exporter": "python",
   "pygments_lexer": "ipython3",
   "version": "3.7.9"
  }
 },
 "nbformat": 4,
 "nbformat_minor": 5
}
