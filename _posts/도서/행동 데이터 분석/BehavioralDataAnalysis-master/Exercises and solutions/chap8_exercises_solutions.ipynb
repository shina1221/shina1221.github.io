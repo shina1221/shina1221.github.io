{
 "cells": [
  {
   "cell_type": "markdown",
   "id": "decent-playback",
   "metadata": {},
   "source": [
    "# Solutions for chapter 8 exercises"
   ]
  },
  {
   "cell_type": "markdown",
   "id": "comprehensive-batman",
   "metadata": {},
   "source": [
    "## Set up"
   ]
  },
  {
   "cell_type": "code",
   "execution_count": 8,
   "id": "extra-negative",
   "metadata": {},
   "outputs": [],
   "source": [
    "# Common libraries\n",
    "import pandas as pd\n",
    "import numpy as np\n",
    "import statsmodels.formula.api as smf\n",
    "from statsmodels.formula.api import ols\n",
    "import matplotlib.pyplot as plt\n",
    "import seaborn as sns"
   ]
  },
  {
   "cell_type": "code",
   "execution_count": 9,
   "id": "political-government",
   "metadata": {},
   "outputs": [
    {
     "data": {
      "text/html": [
       "<div>\n",
       "<style scoped>\n",
       "    .dataframe tbody tr th:only-of-type {\n",
       "        vertical-align: middle;\n",
       "    }\n",
       "\n",
       "    .dataframe tbody tr th {\n",
       "        vertical-align: top;\n",
       "    }\n",
       "\n",
       "    .dataframe thead th {\n",
       "        text-align: right;\n",
       "    }\n",
       "</style>\n",
       "<table border=\"1\" class=\"dataframe\">\n",
       "  <thead>\n",
       "    <tr style=\"text-align: right;\">\n",
       "      <th></th>\n",
       "      <th>call</th>\n",
       "      <th>education</th>\n",
       "      <th>yearsexp</th>\n",
       "      <th>race</th>\n",
       "      <th>gender</th>\n",
       "      <th>college</th>\n",
       "      <th>eoe</th>\n",
       "      <th>wanted</th>\n",
       "    </tr>\n",
       "  </thead>\n",
       "  <tbody>\n",
       "    <tr>\n",
       "      <th>0</th>\n",
       "      <td>0</td>\n",
       "      <td>4</td>\n",
       "      <td>6</td>\n",
       "      <td>w</td>\n",
       "      <td>f</td>\n",
       "      <td>1</td>\n",
       "      <td>1</td>\n",
       "      <td>supervisor</td>\n",
       "    </tr>\n",
       "    <tr>\n",
       "      <th>1</th>\n",
       "      <td>0</td>\n",
       "      <td>3</td>\n",
       "      <td>6</td>\n",
       "      <td>w</td>\n",
       "      <td>f</td>\n",
       "      <td>0</td>\n",
       "      <td>1</td>\n",
       "      <td>supervisor</td>\n",
       "    </tr>\n",
       "    <tr>\n",
       "      <th>2</th>\n",
       "      <td>0</td>\n",
       "      <td>4</td>\n",
       "      <td>6</td>\n",
       "      <td>b</td>\n",
       "      <td>f</td>\n",
       "      <td>1</td>\n",
       "      <td>1</td>\n",
       "      <td>supervisor</td>\n",
       "    </tr>\n",
       "    <tr>\n",
       "      <th>3</th>\n",
       "      <td>0</td>\n",
       "      <td>3</td>\n",
       "      <td>6</td>\n",
       "      <td>b</td>\n",
       "      <td>f</td>\n",
       "      <td>0</td>\n",
       "      <td>1</td>\n",
       "      <td>supervisor</td>\n",
       "    </tr>\n",
       "    <tr>\n",
       "      <th>4</th>\n",
       "      <td>0</td>\n",
       "      <td>3</td>\n",
       "      <td>22</td>\n",
       "      <td>w</td>\n",
       "      <td>f</td>\n",
       "      <td>0</td>\n",
       "      <td>1</td>\n",
       "      <td>secretary</td>\n",
       "    </tr>\n",
       "  </tbody>\n",
       "</table>\n",
       "</div>"
      ],
      "text/plain": [
       "   call  education  yearsexp race gender  college  eoe      wanted\n",
       "0     0          4         6    w      f        1    1  supervisor\n",
       "1     0          3         6    w      f        0    1  supervisor\n",
       "2     0          4         6    b      f        1    1  supervisor\n",
       "3     0          3         6    b      f        0    1  supervisor\n",
       "4     0          3        22    w      f        0    1   secretary"
      ]
     },
     "execution_count": 9,
     "metadata": {},
     "output_type": "execute_result"
    }
   ],
   "source": [
    "#Loading the data\n",
    "dat_df = pd.read_csv(\"Bertrand_Mullainathan_exercises_data.csv\")\n",
    "dat_df.head(5)"
   ]
  },
  {
   "cell_type": "code",
   "execution_count": 18,
   "id": "thick-crawford",
   "metadata": {},
   "outputs": [],
   "source": [
    "# Reformatting categorical variables\n",
    "dat_df['race'] = pd.Categorical(dat_df['race'], ordered = True, categories = ['w', 'b'])\n",
    "dat_df['gender'] = pd.Categorical(dat_df['gender'], ordered = True, categories = ['m', 'f'])\n",
    "dat_df['wanted'] = dat_df['wanted'].astype('category')"
   ]
  },
  {
   "cell_type": "markdown",
   "id": "union-conspiracy",
   "metadata": {},
   "source": [
    "# Exercise 1"
   ]
  },
  {
   "cell_type": "markdown",
   "id": "public-ordering",
   "metadata": {},
   "source": [
    "Build a 90%-CI for the regression coefficient representing the effect of race on the probability of getting a call back, with no covariate, then with all the covariates. "
   ]
  },
  {
   "cell_type": "code",
   "execution_count": 19,
   "id": "alike-worst",
   "metadata": {},
   "outputs": [
    {
     "data": {
      "text/html": [
       "<table class=\"simpletable\">\n",
       "<caption>Logit Regression Results</caption>\n",
       "<tr>\n",
       "  <th>Dep. Variable:</th>         <td>call</td>       <th>  No. Observations:  </th>  <td>  4870</td>  \n",
       "</tr>\n",
       "<tr>\n",
       "  <th>Model:</th>                 <td>Logit</td>      <th>  Df Residuals:      </th>  <td>  4858</td>  \n",
       "</tr>\n",
       "<tr>\n",
       "  <th>Method:</th>                 <td>MLE</td>       <th>  Df Model:          </th>  <td>    11</td>  \n",
       "</tr>\n",
       "<tr>\n",
       "  <th>Date:</th>            <td>Mon, 03 May 2021</td> <th>  Pseudo R-squ.:     </th>  <td>0.01798</td> \n",
       "</tr>\n",
       "<tr>\n",
       "  <th>Time:</th>                <td>08:51:57</td>     <th>  Log-Likelihood:    </th> <td> -1339.0</td> \n",
       "</tr>\n",
       "<tr>\n",
       "  <th>converged:</th>             <td>True</td>       <th>  LL-Null:           </th> <td> -1363.5</td> \n",
       "</tr>\n",
       "<tr>\n",
       "  <th>Covariance Type:</th>     <td>nonrobust</td>    <th>  LLR p-value:       </th> <td>9.392e-07</td>\n",
       "</tr>\n",
       "</table>\n",
       "<table class=\"simpletable\">\n",
       "<tr>\n",
       "            <td></td>               <th>coef</th>     <th>std err</th>      <th>z</th>      <th>P>|z|</th>  <th>[0.025</th>    <th>0.975]</th>  \n",
       "</tr>\n",
       "<tr>\n",
       "  <th>Intercept</th>             <td>   -2.6748</td> <td>    0.430</td> <td>   -6.214</td> <td> 0.000</td> <td>   -3.519</td> <td>   -1.831</td>\n",
       "</tr>\n",
       "<tr>\n",
       "  <th>race[T.b]</th>             <td>   -0.4434</td> <td>    0.108</td> <td>   -4.115</td> <td> 0.000</td> <td>   -0.655</td> <td>   -0.232</td>\n",
       "</tr>\n",
       "<tr>\n",
       "  <th>gender[T.m]</th>           <td>   -0.0131</td> <td>    0.153</td> <td>   -0.086</td> <td> 0.932</td> <td>   -0.313</td> <td>    0.286</td>\n",
       "</tr>\n",
       "<tr>\n",
       "  <th>wanted[T.offsupport]</th>  <td>    0.7217</td> <td>    0.213</td> <td>    3.394</td> <td> 0.001</td> <td>    0.305</td> <td>    1.138</td>\n",
       "</tr>\n",
       "<tr>\n",
       "  <th>wanted[T.retailsales]</th> <td>    0.4082</td> <td>    0.202</td> <td>    2.020</td> <td> 0.043</td> <td>    0.012</td> <td>    0.804</td>\n",
       "</tr>\n",
       "<tr>\n",
       "  <th>wanted[T.salesrep]</th>    <td>    0.1866</td> <td>    0.217</td> <td>    0.861</td> <td> 0.389</td> <td>   -0.238</td> <td>    0.611</td>\n",
       "</tr>\n",
       "<tr>\n",
       "  <th>wanted[T.secretary]</th>   <td>    0.3615</td> <td>    0.191</td> <td>    1.892</td> <td> 0.059</td> <td>   -0.013</td> <td>    0.736</td>\n",
       "</tr>\n",
       "<tr>\n",
       "  <th>wanted[T.supervisor]</th>  <td>    0.1351</td> <td>    0.263</td> <td>    0.514</td> <td> 0.607</td> <td>   -0.380</td> <td>    0.650</td>\n",
       "</tr>\n",
       "<tr>\n",
       "  <th>education</th>             <td>   -0.1067</td> <td>    0.151</td> <td>   -0.708</td> <td> 0.479</td> <td>   -0.402</td> <td>    0.189</td>\n",
       "</tr>\n",
       "<tr>\n",
       "  <th>yearsexp</th>              <td>    0.0429</td> <td>    0.010</td> <td>    4.404</td> <td> 0.000</td> <td>    0.024</td> <td>    0.062</td>\n",
       "</tr>\n",
       "<tr>\n",
       "  <th>college</th>               <td>    0.1763</td> <td>    0.245</td> <td>    0.718</td> <td> 0.473</td> <td>   -0.305</td> <td>    0.657</td>\n",
       "</tr>\n",
       "<tr>\n",
       "  <th>eoe</th>                   <td>    0.0652</td> <td>    0.117</td> <td>    0.555</td> <td> 0.579</td> <td>   -0.165</td> <td>    0.295</td>\n",
       "</tr>\n",
       "</table>"
      ],
      "text/plain": [
       "<class 'statsmodels.iolib.summary.Summary'>\n",
       "\"\"\"\n",
       "                           Logit Regression Results                           \n",
       "==============================================================================\n",
       "Dep. Variable:                   call   No. Observations:                 4870\n",
       "Model:                          Logit   Df Residuals:                     4858\n",
       "Method:                           MLE   Df Model:                           11\n",
       "Date:                Mon, 03 May 2021   Pseudo R-squ.:                 0.01798\n",
       "Time:                        08:51:57   Log-Likelihood:                -1339.0\n",
       "converged:                       True   LL-Null:                       -1363.5\n",
       "Covariance Type:            nonrobust   LLR p-value:                 9.392e-07\n",
       "=========================================================================================\n",
       "                            coef    std err          z      P>|z|      [0.025      0.975]\n",
       "-----------------------------------------------------------------------------------------\n",
       "Intercept                -2.6748      0.430     -6.214      0.000      -3.519      -1.831\n",
       "race[T.b]                -0.4434      0.108     -4.115      0.000      -0.655      -0.232\n",
       "gender[T.m]              -0.0131      0.153     -0.086      0.932      -0.313       0.286\n",
       "wanted[T.offsupport]      0.7217      0.213      3.394      0.001       0.305       1.138\n",
       "wanted[T.retailsales]     0.4082      0.202      2.020      0.043       0.012       0.804\n",
       "wanted[T.salesrep]        0.1866      0.217      0.861      0.389      -0.238       0.611\n",
       "wanted[T.secretary]       0.3615      0.191      1.892      0.059      -0.013       0.736\n",
       "wanted[T.supervisor]      0.1351      0.263      0.514      0.607      -0.380       0.650\n",
       "education                -0.1067      0.151     -0.708      0.479      -0.402       0.189\n",
       "yearsexp                  0.0429      0.010      4.404      0.000       0.024       0.062\n",
       "college                   0.1763      0.245      0.718      0.473      -0.305       0.657\n",
       "eoe                       0.0652      0.117      0.555      0.579      -0.165       0.295\n",
       "=========================================================================================\n",
       "\"\"\""
      ]
     },
     "execution_count": 19,
     "metadata": {},
     "output_type": "execute_result"
    }
   ],
   "source": [
    "# Visualize the basic regression at hand\n",
    "model = smf.logit('call ~ education + yearsexp + race + gender + college + eoe + wanted', data = dat_df)\n",
    "res = model.fit(disp=0)\n",
    "res.summary()"
   ]
  },
  {
   "cell_type": "code",
   "execution_count": 29,
   "id": "color-funeral",
   "metadata": {},
   "outputs": [
    {
     "name": "stdout",
     "output_type": "stream",
     "text": [
      "coeff for full regression:  -0.44338442730802197\n",
      "coeff for regression with single coefficient:  -0.4381802134565714\n"
     ]
    }
   ],
   "source": [
    "## Metric function\n",
    "def log_full_reg_fun(df):\n",
    "    model = smf.logit('call ~ education + yearsexp + race + gender + college + eoe + wanted', data = df)\n",
    "    res = model.fit(disp=0)\n",
    "    coeff = res.params['race[T.b]']\n",
    "    return coeff\n",
    "def log_single_reg_fun(df):\n",
    "    model = smf.logit('call ~ race', data = df)\n",
    "    res = model.fit(disp=0)\n",
    "    coeff = res.params['race[T.b]']\n",
    "    return coeff\n",
    "\n",
    "print(\"coeff for regression with single coefficient: \", log_single_reg_fun(dat_df))\n",
    "print(\"coeff for full regression: \", log_full_reg_fun(dat_df))"
   ]
  },
  {
   "cell_type": "code",
   "execution_count": 30,
   "id": "romantic-intelligence",
   "metadata": {},
   "outputs": [
    {
     "name": "stdout",
     "output_type": "stream",
     "text": [
      "CI for regression with single coefficient:  [-0.6392257591264762, -0.24039310308215162]\n",
      "CI for full regression:  [-0.6547851925390121, -0.24857979140513203]\n"
     ]
    }
   ],
   "source": [
    "## Bootstrap CI function\n",
    "def boot_CI_fun(df, metric_fun, B = 100, conf_level = 0.9):\n",
    "  #Setting sample size\n",
    "  N = len(df)\n",
    "  conf_level = conf_level\n",
    "  coeffs = []\n",
    "  \n",
    "  for i in range(B):\n",
    "      sim_data_df = df.sample(n=N, replace = True)\n",
    "      coeff = metric_fun(sim_data_df)\n",
    "      coeffs.append(coeff)\n",
    "  \n",
    "  coeffs.sort()\n",
    "  start_idx = round(B * (1 - conf_level) / 2)\n",
    "  end_idx = - round(B * (1 - conf_level) / 2)\n",
    "  confint = [coeffs[start_idx], coeffs[end_idx]]  \n",
    "  return(confint)\n",
    "\n",
    "print(\"CI for regression with single coefficient: \", boot_CI_fun(df=dat_df, metric_fun=log_single_reg_fun))\n",
    "print(\"CI for full regression: \", boot_CI_fun(df=dat_df, metric_fun=log_full_reg_fun))"
   ]
  }
 ],
 "metadata": {
  "kernelspec": {
   "display_name": "Python 3",
   "language": "python",
   "name": "python3"
  },
  "language_info": {
   "codemirror_mode": {
    "name": "ipython",
    "version": 3
   },
   "file_extension": ".py",
   "mimetype": "text/x-python",
   "name": "python",
   "nbconvert_exporter": "python",
   "pygments_lexer": "ipython3",
   "version": "3.7.9"
  }
 },
 "nbformat": 4,
 "nbformat_minor": 5
}
