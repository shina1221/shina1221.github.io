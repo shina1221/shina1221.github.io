{
 "cells": [
  {
   "cell_type": "markdown",
   "id": "decent-playback",
   "metadata": {},
   "source": [
    "# Chapter 4: Building Causal Diagrams From Scratch"
   ]
  },
  {
   "cell_type": "markdown",
   "id": "comprehensive-batman",
   "metadata": {},
   "source": [
    "## Business problem and data setup"
   ]
  },
  {
   "cell_type": "markdown",
   "id": "formal-transparency",
   "metadata": {},
   "source": [
    "### Data and libraries"
   ]
  },
  {
   "cell_type": "code",
   "execution_count": 23,
   "id": "extra-negative",
   "metadata": {},
   "outputs": [],
   "source": [
    "#Standard libraries\n",
    "import pandas as pd\n",
    "import numpy as np\n",
    "from statsmodels.formula.api import ols\n",
    "import statsmodels.api as sm\n",
    "import statsmodels.formula.api as smf\n",
    "import seaborn as sns\n",
    "import matplotlib.pyplot as plt\n",
    "\n",
    "#Chapter specific libraries\n",
    "from math import sqrt\n",
    "from scipy.stats import chi2_contingency "
   ]
  },
  {
   "cell_type": "code",
   "execution_count": 2,
   "id": "political-government",
   "metadata": {},
   "outputs": [],
   "source": [
    "#Loading the data\n",
    "dat_df = pd.read_csv(\"chap4-hotel_booking_case_study.csv\")"
   ]
  },
  {
   "cell_type": "code",
   "execution_count": 3,
   "id": "modern-craft",
   "metadata": {},
   "outputs": [
    {
     "name": "stdout",
     "output_type": "stream",
     "text": [
      "['PRT', 'GBR', 'FRA', 'ESP', 'DEU', 'ITA', 'IRL', 'BEL', 'BRA', 'NLD', 'USA', 'CHE', 'CN', 'AUT']\n"
     ]
    }
   ],
   "source": [
    "#Reducing the number of values for Country of origin by keeping most frequent countries only\n",
    "#and aggregating the remaining ones under \"Other\"\n",
    "countries_df = dat_df.groupby('Country').agg(pct = ('NRDeposit', lambda x: len(x)/len(dat_df))).\\\n",
    "sort_values(by=['pct'], ascending = False)\n",
    "top_countries_df = countries_df.loc[countries_df.pct >= 0.01].reset_index()\n",
    "top_countries_lst = top_countries_df['Country'].tolist()\n",
    "print(top_countries_lst)\n",
    "dat_df['Country'] = np.where(dat_df['Country'].isin(top_countries_lst), dat_df['Country'], 'Other')"
   ]
  },
  {
   "cell_type": "markdown",
   "id": "private-charleston",
   "metadata": {},
   "source": [
    "### Understanding the relationship of interest"
   ]
  },
  {
   "cell_type": "code",
   "execution_count": 4,
   "id": "changed-threat",
   "metadata": {},
   "outputs": [
    {
     "name": "stdout",
     "output_type": "stream",
     "text": [
      "                        cnt\n",
      "NRDeposit IsCanceled       \n",
      "0         0           63316\n",
      "          1           23042\n",
      "1         0              55\n",
      "          1             982\n"
     ]
    }
   ],
   "source": [
    "#Cancellation rate by deposit types\n",
    "table_cnt = dat_df.groupby(['NRDeposit', 'IsCanceled']).\\\n",
    "agg(cnt = ('Country', lambda x: len(x)))\n",
    "print(table_cnt)"
   ]
  },
  {
   "cell_type": "code",
   "execution_count": 6,
   "id": "rural-consolidation",
   "metadata": {},
   "outputs": [
    {
     "name": "stdout",
     "output_type": "stream",
     "text": [
      "                           cnt\n",
      "NRDeposit IsCanceled          \n",
      "0         0           0.733180\n",
      "          1           0.266820\n",
      "1         0           0.053038\n",
      "          1           0.946962\n"
     ]
    }
   ],
   "source": [
    "table_pct = table_cnt.groupby(level=0).apply(lambda x: x/float(x.sum()))\n",
    "print(table_pct)"
   ]
  },
  {
   "cell_type": "markdown",
   "id": "immediate-understanding",
   "metadata": {},
   "source": [
    "## Validate observable variables to include based on data"
   ]
  },
  {
   "cell_type": "code",
   "execution_count": 7,
   "id": "tough-surge",
   "metadata": {},
   "outputs": [
    {
     "name": "stdout",
     "output_type": "stream",
     "text": [
      "0.16483946381640308\n"
     ]
    }
   ],
   "source": [
    "### Applying Cramer's V\n",
    "#Formula from https://en.wikipedia.org/wiki/Cram%C3%A9r's_V\n",
    "\n",
    "def  CramerV(var1, var2):\n",
    "    pivot_tb = pd.crosstab(var1, var2, margins=False)\n",
    "    chi_sq, _, _, _ = chi2_contingency(pivot_tb) \n",
    "    n = len(var1)\n",
    "    k = len(var1.unique())\n",
    "    r = len(var2.unique())\n",
    "    V = sqrt((chi_sq/n)/(min(k-1, r-1)))\n",
    "    return V\n",
    "\n",
    "V= CramerV(dat_df['NRDeposit'], dat_df['IsCanceled'])   \n",
    "print(V)"
   ]
  },
  {
   "cell_type": "markdown",
   "id": "78c9b38c",
   "metadata": {},
   "source": [
    "### Relationships between numeric variables"
   ]
  },
  {
   "cell_type": "code",
   "execution_count": 8,
   "id": "classified-arena",
   "metadata": {},
   "outputs": [
    {
     "name": "stdout",
     "output_type": "stream",
     "text": [
      "Index(['NRDep', 'IsCanc', 'DistCh', 'MktSgmt', 'CustTyp', 'Children', 'ADR',\n",
      "       'PrevCan', 'RepGst', 'Country', 'Quarter', 'Year'],\n",
      "      dtype='object')\n"
     ]
    }
   ],
   "source": [
    "#Shortening column names\n",
    "dat_df.rename(columns=\n",
    "              {\"CustomerType\": \"CustTyp\",\n",
    "               \"DistributionChannel\": \"DistCh\",\n",
    "               \"IsRepeatedGuest\": \"RepGst\",\n",
    "               \"MarketSegment\": \"MktSgmt\",\n",
    "               \"IsCanceled\": \"IsCanc\",\n",
    "               \"PreviousCancellations\": \"PrevCan\",\n",
    "               \"NRDeposit\": \"NRDep\"},\n",
    "              inplace=True)\n",
    "print(dat_df.columns)"
   ]
  },
  {
   "cell_type": "code",
   "execution_count": 9,
   "id": "dimensional-spray",
   "metadata": {},
   "outputs": [
    {
     "data": {
      "text/plain": [
       "Index(['NRDep', 'IsCanc', 'Children', 'ADR', 'PrevCan', 'RepGst', 'Year'], dtype='object')"
      ]
     },
     "execution_count": 9,
     "metadata": {},
     "output_type": "execute_result"
    }
   ],
   "source": [
    "#Creating a dataframe with the numerical and binary variables only\n",
    "num_dat_df = dat_df.copy().select_dtypes(include=['int64', 'float64'])\n",
    "num_dat_df.columns"
   ]
  },
  {
   "cell_type": "code",
   "execution_count": 10,
   "id": "adopted-trauma",
   "metadata": {},
   "outputs": [
    {
     "name": "stdout",
     "output_type": "stream",
     "text": [
      "             NRDep    IsCanc  Children       ADR   PrevCan    RepGst      Year\n",
      "NRDep     1.000000  0.164958 -0.032703 -0.040040  0.149858 -0.016099 -0.019110\n",
      "IsCanc    0.164958  1.000000  0.060165  0.133467  0.126891 -0.089640  0.088037\n",
      "Children -0.032703  0.060165  1.000000  0.339825 -0.028195 -0.047242  0.034155\n",
      "ADR      -0.040040  0.133467  0.339825  1.000000 -0.073385 -0.161620  0.186587\n",
      "PrevCan   0.149858  0.126891 -0.028195 -0.073385  1.000000  0.246987 -0.119020\n",
      "RepGst   -0.016099 -0.089640 -0.047242 -0.161620  0.246987  1.000000  0.024342\n",
      "Year     -0.019110  0.088037  0.034155  0.186587 -0.119020  0.024342  1.000000\n"
     ]
    },
    {
     "name": "stderr",
     "output_type": "stream",
     "text": [
      "C:\\Users\\Florent\\Anaconda3\\lib\\site-packages\\ipykernel_launcher.py:6: DeprecationWarning: `np.bool` is a deprecated alias for the builtin `bool`. To silence this warning, use `bool` by itself. Doing this will not modify any behavior and is safe. If you specifically wanted the numpy scalar type, use `np.bool_` here.\n",
      "Deprecated in NumPy 1.20; for more details and guidance: https://numpy.org/devdocs/release/1.20.0-notes.html#deprecations\n",
      "  \n"
     ]
    },
    {
     "data": {
      "text/plain": [
       "<AxesSubplot:>"
      ]
     },
     "execution_count": 10,
     "metadata": {},
     "output_type": "execute_result"
    },
    {
     "data": {
      "image/png": "[encoded data removed]",
      "text/plain": [
       "<Figure size 720x576 with 2 Axes>"
      ]
     },
     "metadata": {
      "needs_background": "light"
     },
     "output_type": "display_data"
    }
   ],
   "source": [
    "#Creating the correlation matrix for numerical and binary variables only\n",
    "num_corr = num_dat_df.corr()\n",
    "print(num_corr)\n",
    "\n",
    "f, ax = plt.subplots(figsize=(10, 8))\n",
    "sns.heatmap(num_corr, mask=np.zeros_like(num_corr, dtype=np.bool), cmap=sns.diverging_palette(220, 10, as_cmap=True),\n",
    "            square=True, ax=ax)"
   ]
  },
  {
   "cell_type": "markdown",
   "id": "4d99ba39",
   "metadata": {},
   "source": [
    "## Relationships between categorical variables"
   ]
  },
  {
   "cell_type": "code",
   "execution_count": 11,
   "id": "acknowledged-organization",
   "metadata": {},
   "outputs": [
    {
     "data": {
      "text/plain": [
       "NRDep       category\n",
       "IsCanc      category\n",
       "DistCh      category\n",
       "MktSgmt     category\n",
       "CustTyp     category\n",
       "Children       int64\n",
       "ADR          float64\n",
       "PrevCan     category\n",
       "RepGst      category\n",
       "Country     category\n",
       "Quarter     category\n",
       "Year           int64\n",
       "dtype: object"
      ]
     },
     "execution_count": 11,
     "metadata": {},
     "output_type": "execute_result"
    }
   ],
   "source": [
    "#Convert variables to categorical \n",
    "dat_df['NRDep'] = pd.Categorical(dat_df.NRDep)\n",
    "dat_df['IsCanc'] = pd.Categorical(dat_df.IsCanc)\n",
    "dat_df['DistCh'] = pd.Categorical(dat_df.DistCh)\n",
    "dat_df['MktSgmt'] = pd.Categorical(dat_df.MktSgmt)\n",
    "dat_df['CustTyp'] = pd.Categorical(dat_df.CustTyp)\n",
    "dat_df['PrevCan'] = pd.Categorical(dat_df.PrevCan)\n",
    "dat_df['RepGst'] = pd.Categorical(dat_df.RepGst)\n",
    "dat_df['Country'] = pd.Categorical(dat_df.Country)\n",
    "dat_df['Quarter'] = pd.Categorical(dat_df.Quarter)\n",
    "dat_df.dtypes"
   ]
  },
  {
   "cell_type": "code",
   "execution_count": 12,
   "id": "dried-shade",
   "metadata": {},
   "outputs": [
    {
     "name": "stdout",
     "output_type": "stream",
     "text": [
      "varJ      Country   CustTyp    DistCh    IsCanc   MktSgmt     NRDep   PrevCan  \\\n",
      "varI                                                                            \n",
      "Country  1.000000  0.111580  0.160096  0.159473  0.168515  0.149508  0.188658   \n",
      "CustTyp  0.111580  1.000000  0.088851  0.127065  0.326992  0.010640  0.066364   \n",
      "DistCh   0.160096  0.088851  1.000000  0.152114  0.734199  0.032245  0.143917   \n",
      "IsCanc   0.159473  0.127065  0.152114  0.999971  0.220722  0.164839  0.126797   \n",
      "MktSgmt  0.168515  0.326992  0.734199  0.220722  1.000000  0.283656  0.168677   \n",
      "NRDep    0.149508  0.010640  0.032245  0.164839  0.283656  0.999512  0.149473   \n",
      "PrevCan  0.188658  0.066364  0.143917  0.126797  0.168677  0.149473  0.999697   \n",
      "Quarter  0.082805  0.061455  0.069202  0.071384  0.072494  0.031931  0.060018   \n",
      "RepGst   0.229291  0.108399  0.353780  0.089574  0.395924  0.015826  0.246773   \n",
      "\n",
      "varJ      Quarter    RepGst  \n",
      "varI                         \n",
      "Country  0.082805  0.229291  \n",
      "CustTyp  0.061455  0.108399  \n",
      "DistCh   0.069202  0.353780  \n",
      "IsCanc   0.071384  0.089574  \n",
      "MktSgmt  0.072494  0.395924  \n",
      "NRDep    0.031931  0.015826  \n",
      "PrevCan  0.060018  0.246773  \n",
      "Quarter  1.000000  0.086794  \n",
      "RepGst   0.086794  0.999848  \n"
     ]
    },
    {
     "name": "stderr",
     "output_type": "stream",
     "text": [
      "C:\\Users\\Florent\\Anaconda3\\lib\\site-packages\\ipykernel_launcher.py:22: DeprecationWarning: `np.bool` is a deprecated alias for the builtin `bool`. To silence this warning, use `bool` by itself. Doing this will not modify any behavior and is safe. If you specifically wanted the numpy scalar type, use `np.bool_` here.\n",
      "Deprecated in NumPy 1.20; for more details and guidance: https://numpy.org/devdocs/release/1.20.0-notes.html#deprecations\n"
     ]
    },
    {
     "data": {
      "text/plain": [
       "<AxesSubplot:xlabel='varJ', ylabel='varI'>"
      ]
     },
     "execution_count": 12,
     "metadata": {},
     "output_type": "execute_result"
    },
    {
     "data": {
      "image/png": "[encoded data removed]",
      "text/plain": [
       "<Figure size 720x576 with 2 Axes>"
      ]
     },
     "metadata": {
      "needs_background": "light"
     },
     "output_type": "display_data"
    }
   ],
   "source": [
    "# Calculating correlation matrix for the categorical and binary variables only\n",
    "def cat_corr_fun(dat_df):\n",
    "    \n",
    "    #Initialize output dataframe\n",
    "    cat_corr_df = pd.DataFrame(columns=['varI', 'varJ', 'corr'])\n",
    "    \n",
    "    #Subset to categorical variables only\n",
    "    cat_dat_df = dat_df.select_dtypes(exclude=['int64', 'float64'])\n",
    "    \n",
    "    \n",
    "    for varI in cat_dat_df.columns:\n",
    "        for varJ in cat_dat_df.columns:\n",
    "                corr = CramerV(cat_dat_df[varI], cat_dat_df[varJ])\n",
    "                row = pd.Series(data={'varI':varI, 'varJ':varJ, 'corr':corr})\n",
    "                cat_corr_df = cat_corr_df.append(row, ignore_index=True)\n",
    "    return(cat_corr_df)\n",
    "cat_corr_df = cat_corr_fun(dat_df)\n",
    "cat_corr = pd.pivot_table(cat_corr_df, index=['varI'], columns=['varJ'], values=['corr'], fill_value=1)\n",
    "cat_corr.columns = cat_corr.columns.droplevel(0)\n",
    "print(cat_corr)\n",
    "f, ax = plt.subplots(figsize=(10, 8))\n",
    "sns.heatmap(cat_corr, mask=np.zeros_like(cat_corr, dtype=np.bool), cmap=sns.diverging_palette(220, 10, as_cmap=True),\n",
    "            square=True, ax=ax)"
   ]
  },
  {
   "cell_type": "markdown",
   "id": "6e488165",
   "metadata": {},
   "source": [
    "## Correlations between numeric and categorical variables"
   ]
  },
  {
   "cell_type": "code",
   "execution_count": 16,
   "id": "ffe579d5",
   "metadata": {},
   "outputs": [
    {
     "data": {
      "text/html": [
       "<div>\n",
       "<style scoped>\n",
       "    .dataframe tbody tr th:only-of-type {\n",
       "        vertical-align: middle;\n",
       "    }\n",
       "\n",
       "    .dataframe tbody tr th {\n",
       "        vertical-align: top;\n",
       "    }\n",
       "\n",
       "    .dataframe thead th {\n",
       "        text-align: right;\n",
       "    }\n",
       "</style>\n",
       "<table border=\"1\" class=\"dataframe\">\n",
       "  <thead>\n",
       "    <tr style=\"text-align: right;\">\n",
       "      <th></th>\n",
       "      <th>mean_ADR</th>\n",
       "    </tr>\n",
       "    <tr>\n",
       "      <th>CustTyp</th>\n",
       "      <th></th>\n",
       "    </tr>\n",
       "  </thead>\n",
       "  <tbody>\n",
       "    <tr>\n",
       "      <th>Contract</th>\n",
       "      <td>92.753036</td>\n",
       "    </tr>\n",
       "    <tr>\n",
       "      <th>Group</th>\n",
       "      <td>84.361949</td>\n",
       "    </tr>\n",
       "    <tr>\n",
       "      <th>Transient</th>\n",
       "      <td>110.062373</td>\n",
       "    </tr>\n",
       "    <tr>\n",
       "      <th>Transient-Party</th>\n",
       "      <td>87.675056</td>\n",
       "    </tr>\n",
       "  </tbody>\n",
       "</table>\n",
       "</div>"
      ],
      "text/plain": [
       "                   mean_ADR\n",
       "CustTyp                    \n",
       "Contract          92.753036\n",
       "Group             84.361949\n",
       "Transient        110.062373\n",
       "Transient-Party   87.675056"
      ]
     },
     "execution_count": 16,
     "metadata": {},
     "output_type": "execute_result"
    }
   ],
   "source": [
    "dat_df.groupby('CustTyp').agg(mean_ADR = ('ADR', np.mean))"
   ]
  },
  {
   "cell_type": "code",
   "execution_count": 17,
   "id": "33541dd0",
   "metadata": {},
   "outputs": [
    {
     "data": {
      "text/html": [
       "<div>\n",
       "<style scoped>\n",
       "    .dataframe tbody tr th:only-of-type {\n",
       "        vertical-align: middle;\n",
       "    }\n",
       "\n",
       "    .dataframe tbody tr th {\n",
       "        vertical-align: top;\n",
       "    }\n",
       "\n",
       "    .dataframe thead th {\n",
       "        text-align: right;\n",
       "    }\n",
       "</style>\n",
       "<table border=\"1\" class=\"dataframe\">\n",
       "  <thead>\n",
       "    <tr style=\"text-align: right;\">\n",
       "      <th></th>\n",
       "      <th>mean_year</th>\n",
       "    </tr>\n",
       "    <tr>\n",
       "      <th>Country</th>\n",
       "      <th></th>\n",
       "    </tr>\n",
       "  </thead>\n",
       "  <tbody>\n",
       "    <tr>\n",
       "      <th>AUT</th>\n",
       "      <td>2016.327350</td>\n",
       "    </tr>\n",
       "    <tr>\n",
       "      <th>BEL</th>\n",
       "      <td>2016.350793</td>\n",
       "    </tr>\n",
       "    <tr>\n",
       "      <th>BRA</th>\n",
       "      <td>2016.390476</td>\n",
       "    </tr>\n",
       "    <tr>\n",
       "      <th>CHE</th>\n",
       "      <td>2016.340127</td>\n",
       "    </tr>\n",
       "    <tr>\n",
       "      <th>CN</th>\n",
       "      <td>2016.426349</td>\n",
       "    </tr>\n",
       "    <tr>\n",
       "      <th>DEU</th>\n",
       "      <td>2016.346389</td>\n",
       "    </tr>\n",
       "    <tr>\n",
       "      <th>ESP</th>\n",
       "      <td>2016.133205</td>\n",
       "    </tr>\n",
       "    <tr>\n",
       "      <th>FRA</th>\n",
       "      <td>2016.275546</td>\n",
       "    </tr>\n",
       "    <tr>\n",
       "      <th>GBR</th>\n",
       "      <td>2016.319371</td>\n",
       "    </tr>\n",
       "    <tr>\n",
       "      <th>IRL</th>\n",
       "      <td>2016.286472</td>\n",
       "    </tr>\n",
       "    <tr>\n",
       "      <th>ITA</th>\n",
       "      <td>2016.251468</td>\n",
       "    </tr>\n",
       "    <tr>\n",
       "      <th>NLD</th>\n",
       "      <td>2016.286761</td>\n",
       "    </tr>\n",
       "    <tr>\n",
       "      <th>Other</th>\n",
       "      <td>2016.296851</td>\n",
       "    </tr>\n",
       "    <tr>\n",
       "      <th>PRT</th>\n",
       "      <td>2016.035079</td>\n",
       "    </tr>\n",
       "    <tr>\n",
       "      <th>USA</th>\n",
       "      <td>2016.375467</td>\n",
       "    </tr>\n",
       "  </tbody>\n",
       "</table>\n",
       "</div>"
      ],
      "text/plain": [
       "           mean_year\n",
       "Country             \n",
       "AUT      2016.327350\n",
       "BEL      2016.350793\n",
       "BRA      2016.390476\n",
       "CHE      2016.340127\n",
       "CN       2016.426349\n",
       "DEU      2016.346389\n",
       "ESP      2016.133205\n",
       "FRA      2016.275546\n",
       "GBR      2016.319371\n",
       "IRL      2016.286472\n",
       "ITA      2016.251468\n",
       "NLD      2016.286761\n",
       "Other    2016.296851\n",
       "PRT      2016.035079\n",
       "USA      2016.375467"
      ]
     },
     "execution_count": 17,
     "metadata": {},
     "output_type": "execute_result"
    }
   ],
   "source": [
    "dat_df.groupby('Country').agg(mean_year = ('Year', np.mean))"
   ]
  },
  {
   "cell_type": "code",
   "execution_count": 18,
   "id": "e18084cb",
   "metadata": {},
   "outputs": [
    {
     "data": {
      "image/png": "[encoded data removed]",
      "text/plain": [
       "<Figure size 432x288 with 1 Axes>"
      ]
     },
     "metadata": {
      "needs_background": "light"
     },
     "output_type": "display_data"
    }
   ],
   "source": [
    "sns.boxplot(y=dat_df['Year'], x=dat_df['CustTyp'])\n",
    "plt.show()"
   ]
  },
  {
   "cell_type": "code",
   "execution_count": 21,
   "id": "1c2f762d",
   "metadata": {},
   "outputs": [
    {
     "name": "stdout",
     "output_type": "stream",
     "text": [
      "                            OLS Regression Results                            \n",
      "==============================================================================\n",
      "Dep. Variable:                   Year   R-squared:                       0.040\n",
      "Model:                            OLS   Adj. R-squared:                  0.040\n",
      "Method:                 Least Squares   F-statistic:                     1216.\n",
      "Date:                Thu, 24 Jun 2021   Prob (F-statistic):               0.00\n",
      "Time:                        11:14:12   Log-Likelihood:                -89296.\n",
      "No. Observations:               87395   AIC:                         1.786e+05\n",
      "Df Residuals:                   87391   BIC:                         1.786e+05\n",
      "Df Model:                           3                                         \n",
      "Covariance Type:            nonrobust                                         \n",
      "==============================================================================================\n",
      "                                 coef    std err          t      P>|t|      [0.025      0.975]\n",
      "----------------------------------------------------------------------------------------------\n",
      "Intercept                   2015.6158      0.012   1.68e+05      0.000    2015.592    2015.639\n",
      "CustTyp[T.Group]               0.4449      0.031     14.250      0.000       0.384       0.506\n",
      "CustTyp[T.Transient]           0.6484      0.012     52.899      0.000       0.624       0.672\n",
      "CustTyp[T.Transient-Party]     0.4297      0.014     31.811      0.000       0.403       0.456\n",
      "==============================================================================\n",
      "Omnibus:                     8384.524   Durbin-Watson:                   0.141\n",
      "Prob(Omnibus):                  0.000   Jarque-Bera (JB):             3143.986\n",
      "Skew:                          -0.232   Prob(JB):                         0.00\n",
      "Kurtosis:                       2.195   Cond. No.                         19.0\n",
      "==============================================================================\n",
      "\n",
      "Notes:\n",
      "[1] Standard Errors assume that the covariance matrix of the errors is correctly specified.\n"
     ]
    }
   ],
   "source": [
    "lin_mod = ols(\"Year~CustTyp\", data=dat_df).fit()\n",
    "print(lin_mod.summary())"
   ]
  },
  {
   "cell_type": "code",
   "execution_count": 27,
   "id": "80e786e4",
   "metadata": {},
   "outputs": [
    {
     "name": "stdout",
     "output_type": "stream",
     "text": [
      "Optimization terminated successfully.\n",
      "         Current function value: 0.575647\n",
      "         Iterations 7\n"
     ]
    },
    {
     "data": {
      "text/html": [
       "<table class=\"simpletable\">\n",
       "<caption>Logit Regression Results</caption>\n",
       "<tr>\n",
       "  <th>Dep. Variable:</th>        <td>IsCanc</td>      <th>  No. Observations:  </th>  <td> 87395</td> \n",
       "</tr>\n",
       "<tr>\n",
       "  <th>Model:</th>                 <td>Logit</td>      <th>  Df Residuals:      </th>  <td> 87393</td> \n",
       "</tr>\n",
       "<tr>\n",
       "  <th>Method:</th>                 <td>MLE</td>       <th>  Df Model:          </th>  <td>     1</td> \n",
       "</tr>\n",
       "<tr>\n",
       "  <th>Date:</th>            <td>Thu, 24 Jun 2021</td> <th>  Pseudo R-squ.:     </th>  <td>0.02111</td>\n",
       "</tr>\n",
       "<tr>\n",
       "  <th>Time:</th>                <td>11:22:57</td>     <th>  Log-Likelihood:    </th> <td> -50309.</td>\n",
       "</tr>\n",
       "<tr>\n",
       "  <th>converged:</th>             <td>True</td>       <th>  LL-Null:           </th> <td> -51394.</td>\n",
       "</tr>\n",
       "<tr>\n",
       "  <th>Covariance Type:</th>     <td>nonrobust</td>    <th>  LLR p-value:       </th>  <td> 0.000</td> \n",
       "</tr>\n",
       "</table>\n",
       "<table class=\"simpletable\">\n",
       "<tr>\n",
       "       <td></td>         <th>coef</th>     <th>std err</th>      <th>z</th>      <th>P>|z|</th>  <th>[0.025</th>    <th>0.975]</th>  \n",
       "</tr>\n",
       "<tr>\n",
       "  <th>Intercept</th>  <td>   -1.0108</td> <td>    0.008</td> <td> -131.383</td> <td> 0.000</td> <td>   -1.026</td> <td>   -0.996</td>\n",
       "</tr>\n",
       "<tr>\n",
       "  <th>NRDep[T.1]</th> <td>    3.8931</td> <td>    0.139</td> <td>   28.053</td> <td> 0.000</td> <td>    3.621</td> <td>    4.165</td>\n",
       "</tr>\n",
       "</table>"
      ],
      "text/plain": [
       "<class 'statsmodels.iolib.summary.Summary'>\n",
       "\"\"\"\n",
       "                           Logit Regression Results                           \n",
       "==============================================================================\n",
       "Dep. Variable:                 IsCanc   No. Observations:                87395\n",
       "Model:                          Logit   Df Residuals:                    87393\n",
       "Method:                           MLE   Df Model:                            1\n",
       "Date:                Thu, 24 Jun 2021   Pseudo R-squ.:                 0.02111\n",
       "Time:                        11:22:57   Log-Likelihood:                -50309.\n",
       "converged:                       True   LL-Null:                       -51394.\n",
       "Covariance Type:            nonrobust   LLR p-value:                     0.000\n",
       "==============================================================================\n",
       "                 coef    std err          z      P>|z|      [0.025      0.975]\n",
       "------------------------------------------------------------------------------\n",
       "Intercept     -1.0108      0.008   -131.383      0.000      -1.026      -0.996\n",
       "NRDep[T.1]     3.8931      0.139     28.053      0.000       3.621       4.165\n",
       "==============================================================================\n",
       "\"\"\""
      ]
     },
     "execution_count": 27,
     "metadata": {},
     "output_type": "execute_result"
    }
   ],
   "source": [
    "### Regression analysis\n",
    "\n",
    "#Single explanatory variable\n",
    "dat_df['IsCanc'] = dat_df.IsCanc.astype('int') #Converting back to binary for regression\n",
    "smf.logit('IsCanc ~ NRDep', data = dat_df).fit().summary()"
   ]
  },
  {
   "cell_type": "code",
   "execution_count": 30,
   "id": "378abd36",
   "metadata": {},
   "outputs": [
    {
     "name": "stdout",
     "output_type": "stream",
     "text": [
      "Optimization terminated successfully.\n",
      "         Current function value: 0.498922\n",
      "         Iterations 34\n"
     ]
    },
    {
     "data": {
      "text/html": [
       "<table class=\"simpletable\">\n",
       "<caption>Logit Regression Results</caption>\n",
       "<tr>\n",
       "  <th>Dep. Variable:</th>        <td>IsCanc</td>      <th>  No. Observations:  </th>  <td> 87395</td> \n",
       "</tr>\n",
       "<tr>\n",
       "  <th>Model:</th>                 <td>Logit</td>      <th>  Df Residuals:      </th>  <td> 87360</td> \n",
       "</tr>\n",
       "<tr>\n",
       "  <th>Method:</th>                 <td>MLE</td>       <th>  Df Model:          </th>  <td>    34</td> \n",
       "</tr>\n",
       "<tr>\n",
       "  <th>Date:</th>            <td>Thu, 24 Jun 2021</td> <th>  Pseudo R-squ.:     </th>  <td>0.1516</td> \n",
       "</tr>\n",
       "<tr>\n",
       "  <th>Time:</th>                <td>11:27:08</td>     <th>  Log-Likelihood:    </th> <td> -43603.</td>\n",
       "</tr>\n",
       "<tr>\n",
       "  <th>converged:</th>             <td>True</td>       <th>  LL-Null:           </th> <td> -51394.</td>\n",
       "</tr>\n",
       "<tr>\n",
       "  <th>Covariance Type:</th>     <td>nonrobust</td>    <th>  LLR p-value:       </th>  <td> 0.000</td> \n",
       "</tr>\n",
       "</table>\n",
       "<table class=\"simpletable\">\n",
       "<tr>\n",
       "               <td></td>                 <th>coef</th>     <th>std err</th>      <th>z</th>      <th>P>|z|</th>  <th>[0.025</th>    <th>0.975]</th>  \n",
       "</tr>\n",
       "<tr>\n",
       "  <th>Intercept</th>                  <td> -947.7606</td> <td>   31.227</td> <td>  -30.351</td> <td> 0.000</td> <td>-1008.964</td> <td> -886.557</td>\n",
       "</tr>\n",
       "<tr>\n",
       "  <th>NRDep[T.1]</th>                 <td>    3.6616</td> <td>    0.149</td> <td>   24.582</td> <td> 0.000</td> <td>    3.370</td> <td>    3.954</td>\n",
       "</tr>\n",
       "<tr>\n",
       "  <th>DistCh[T.Direct]</th>           <td>   -0.0892</td> <td>    0.109</td> <td>   -0.821</td> <td> 0.411</td> <td>   -0.302</td> <td>    0.124</td>\n",
       "</tr>\n",
       "<tr>\n",
       "  <th>DistCh[T.Other]</th>            <td>   -0.0124</td> <td>    0.210</td> <td>   -0.059</td> <td> 0.953</td> <td>   -0.425</td> <td>    0.400</td>\n",
       "</tr>\n",
       "<tr>\n",
       "  <th>DistCh[T.TA/TO]</th>            <td>    0.4481</td> <td>    0.100</td> <td>    4.500</td> <td> 0.000</td> <td>    0.253</td> <td>    0.643</td>\n",
       "</tr>\n",
       "<tr>\n",
       "  <th>MktSgmt[T.Direct]</th>          <td>    0.3708</td> <td>    0.120</td> <td>    3.095</td> <td> 0.002</td> <td>    0.136</td> <td>    0.606</td>\n",
       "</tr>\n",
       "<tr>\n",
       "  <th>MktSgmt[T.Groups]</th>          <td>    0.8627</td> <td>    0.108</td> <td>    7.967</td> <td> 0.000</td> <td>    0.650</td> <td>    1.075</td>\n",
       "</tr>\n",
       "<tr>\n",
       "  <th>MktSgmt[T.Offline TA/TO]</th>   <td>    0.1630</td> <td>    0.112</td> <td>    1.449</td> <td> 0.147</td> <td>   -0.057</td> <td>    0.383</td>\n",
       "</tr>\n",
       "<tr>\n",
       "  <th>MktSgmt[T.Online TA]</th>       <td>    1.2799</td> <td>    0.111</td> <td>   11.539</td> <td> 0.000</td> <td>    1.063</td> <td>    1.497</td>\n",
       "</tr>\n",
       "<tr>\n",
       "  <th>MktSgmt[T.Other]</th>           <td>    0.3604</td> <td>    0.130</td> <td>    2.765</td> <td> 0.006</td> <td>    0.105</td> <td>    0.616</td>\n",
       "</tr>\n",
       "<tr>\n",
       "  <th>CustTyp[T.Group]</th>           <td>   -0.0480</td> <td>    0.169</td> <td>   -0.285</td> <td> 0.776</td> <td>   -0.378</td> <td>    0.282</td>\n",
       "</tr>\n",
       "<tr>\n",
       "  <th>CustTyp[T.Transient]</th>       <td>    0.6930</td> <td>    0.061</td> <td>   11.316</td> <td> 0.000</td> <td>    0.573</td> <td>    0.813</td>\n",
       "</tr>\n",
       "<tr>\n",
       "  <th>CustTyp[T.Transient-Party]</th> <td>   -0.0280</td> <td>    0.069</td> <td>   -0.407</td> <td> 0.684</td> <td>   -0.162</td> <td>    0.107</td>\n",
       "</tr>\n",
       "<tr>\n",
       "  <th>PrevCan[T.1]</th>               <td>    3.3362</td> <td>    0.092</td> <td>   36.161</td> <td> 0.000</td> <td>    3.155</td> <td>    3.517</td>\n",
       "</tr>\n",
       "<tr>\n",
       "  <th>RepGst[T.1]</th>                <td>   -2.7172</td> <td>    0.099</td> <td>  -27.353</td> <td> 0.000</td> <td>   -2.912</td> <td>   -2.523</td>\n",
       "</tr>\n",
       "<tr>\n",
       "  <th>Country[T.BEL]</th>             <td>    0.0703</td> <td>    0.105</td> <td>    0.672</td> <td> 0.502</td> <td>   -0.135</td> <td>    0.275</td>\n",
       "</tr>\n",
       "<tr>\n",
       "  <th>Country[T.BRA]</th>             <td>    0.8687</td> <td>    0.100</td> <td>    8.656</td> <td> 0.000</td> <td>    0.672</td> <td>    1.065</td>\n",
       "</tr>\n",
       "<tr>\n",
       "  <th>Country[T.CHE]</th>             <td>    0.2741</td> <td>    0.107</td> <td>    2.568</td> <td> 0.010</td> <td>    0.065</td> <td>    0.483</td>\n",
       "</tr>\n",
       "<tr>\n",
       "  <th>Country[T.CN]</th>              <td>    0.1469</td> <td>    0.117</td> <td>    1.252</td> <td> 0.210</td> <td>   -0.083</td> <td>    0.377</td>\n",
       "</tr>\n",
       "<tr>\n",
       "  <th>Country[T.DEU]</th>             <td>    0.1101</td> <td>    0.095</td> <td>    1.163</td> <td> 0.245</td> <td>   -0.076</td> <td>    0.296</td>\n",
       "</tr>\n",
       "<tr>\n",
       "  <th>Country[T.ESP]</th>             <td>    0.5236</td> <td>    0.092</td> <td>    5.672</td> <td> 0.000</td> <td>    0.343</td> <td>    0.704</td>\n",
       "</tr>\n",
       "<tr>\n",
       "  <th>Country[T.FRA]</th>             <td>    0.1341</td> <td>    0.092</td> <td>    1.457</td> <td> 0.145</td> <td>   -0.046</td> <td>    0.314</td>\n",
       "</tr>\n",
       "<tr>\n",
       "  <th>Country[T.GBR]</th>             <td>    0.2387</td> <td>    0.092</td> <td>    2.605</td> <td> 0.009</td> <td>    0.059</td> <td>    0.418</td>\n",
       "</tr>\n",
       "<tr>\n",
       "  <th>Country[T.IRL]</th>             <td>    0.3420</td> <td>    0.099</td> <td>    3.454</td> <td> 0.001</td> <td>    0.148</td> <td>    0.536</td>\n",
       "</tr>\n",
       "<tr>\n",
       "  <th>Country[T.ITA]</th>             <td>    0.9292</td> <td>    0.096</td> <td>    9.633</td> <td> 0.000</td> <td>    0.740</td> <td>    1.118</td>\n",
       "</tr>\n",
       "<tr>\n",
       "  <th>Country[T.NLD]</th>             <td>   -0.0112</td> <td>    0.107</td> <td>   -0.105</td> <td> 0.917</td> <td>   -0.220</td> <td>    0.198</td>\n",
       "</tr>\n",
       "<tr>\n",
       "  <th>Country[T.Other]</th>           <td>    0.6729</td> <td>    0.091</td> <td>    7.429</td> <td> 0.000</td> <td>    0.495</td> <td>    0.850</td>\n",
       "</tr>\n",
       "<tr>\n",
       "  <th>Country[T.PRT]</th>             <td>    1.4841</td> <td>    0.089</td> <td>   16.595</td> <td> 0.000</td> <td>    1.309</td> <td>    1.659</td>\n",
       "</tr>\n",
       "<tr>\n",
       "  <th>Country[T.USA]</th>             <td>    0.3163</td> <td>    0.104</td> <td>    3.039</td> <td> 0.002</td> <td>    0.112</td> <td>    0.520</td>\n",
       "</tr>\n",
       "<tr>\n",
       "  <th>Quarter[T.Q2]</th>              <td>    0.3183</td> <td>    0.026</td> <td>   12.370</td> <td> 0.000</td> <td>    0.268</td> <td>    0.369</td>\n",
       "</tr>\n",
       "<tr>\n",
       "  <th>Quarter[T.Q3]</th>              <td>    0.3530</td> <td>    0.028</td> <td>   12.472</td> <td> 0.000</td> <td>    0.298</td> <td>    0.409</td>\n",
       "</tr>\n",
       "<tr>\n",
       "  <th>Quarter[T.Q4]</th>              <td>    0.4100</td> <td>    0.031</td> <td>   13.263</td> <td> 0.000</td> <td>    0.349</td> <td>    0.471</td>\n",
       "</tr>\n",
       "<tr>\n",
       "  <th>Children</th>                   <td>    0.0898</td> <td>    0.017</td> <td>    5.145</td> <td> 0.000</td> <td>    0.056</td> <td>    0.124</td>\n",
       "</tr>\n",
       "<tr>\n",
       "  <th>ADR</th>                        <td>    0.0021</td> <td>    0.000</td> <td>    9.996</td> <td> 0.000</td> <td>    0.002</td> <td>    0.003</td>\n",
       "</tr>\n",
       "<tr>\n",
       "  <th>Year</th>                       <td>    0.4680</td> <td>    0.015</td> <td>   30.215</td> <td> 0.000</td> <td>    0.438</td> <td>    0.498</td>\n",
       "</tr>\n",
       "</table>"
      ],
      "text/plain": [
       "<class 'statsmodels.iolib.summary.Summary'>\n",
       "\"\"\"\n",
       "                           Logit Regression Results                           \n",
       "==============================================================================\n",
       "Dep. Variable:                 IsCanc   No. Observations:                87395\n",
       "Model:                          Logit   Df Residuals:                    87360\n",
       "Method:                           MLE   Df Model:                           34\n",
       "Date:                Thu, 24 Jun 2021   Pseudo R-squ.:                  0.1516\n",
       "Time:                        11:27:08   Log-Likelihood:                -43603.\n",
       "converged:                       True   LL-Null:                       -51394.\n",
       "Covariance Type:            nonrobust   LLR p-value:                     0.000\n",
       "==============================================================================================\n",
       "                                 coef    std err          z      P>|z|      [0.025      0.975]\n",
       "----------------------------------------------------------------------------------------------\n",
       "Intercept                   -947.7606     31.227    -30.351      0.000   -1008.964    -886.557\n",
       "NRDep[T.1]                     3.6616      0.149     24.582      0.000       3.370       3.954\n",
       "DistCh[T.Direct]              -0.0892      0.109     -0.821      0.411      -0.302       0.124\n",
       "DistCh[T.Other]               -0.0124      0.210     -0.059      0.953      -0.425       0.400\n",
       "DistCh[T.TA/TO]                0.4481      0.100      4.500      0.000       0.253       0.643\n",
       "MktSgmt[T.Direct]              0.3708      0.120      3.095      0.002       0.136       0.606\n",
       "MktSgmt[T.Groups]              0.8627      0.108      7.967      0.000       0.650       1.075\n",
       "MktSgmt[T.Offline TA/TO]       0.1630      0.112      1.449      0.147      -0.057       0.383\n",
       "MktSgmt[T.Online TA]           1.2799      0.111     11.539      0.000       1.063       1.497\n",
       "MktSgmt[T.Other]               0.3604      0.130      2.765      0.006       0.105       0.616\n",
       "CustTyp[T.Group]              -0.0480      0.169     -0.285      0.776      -0.378       0.282\n",
       "CustTyp[T.Transient]           0.6930      0.061     11.316      0.000       0.573       0.813\n",
       "CustTyp[T.Transient-Party]    -0.0280      0.069     -0.407      0.684      -0.162       0.107\n",
       "PrevCan[T.1]                   3.3362      0.092     36.161      0.000       3.155       3.517\n",
       "RepGst[T.1]                   -2.7172      0.099    -27.353      0.000      -2.912      -2.523\n",
       "Country[T.BEL]                 0.0703      0.105      0.672      0.502      -0.135       0.275\n",
       "Country[T.BRA]                 0.8687      0.100      8.656      0.000       0.672       1.065\n",
       "Country[T.CHE]                 0.2741      0.107      2.568      0.010       0.065       0.483\n",
       "Country[T.CN]                  0.1469      0.117      1.252      0.210      -0.083       0.377\n",
       "Country[T.DEU]                 0.1101      0.095      1.163      0.245      -0.076       0.296\n",
       "Country[T.ESP]                 0.5236      0.092      5.672      0.000       0.343       0.704\n",
       "Country[T.FRA]                 0.1341      0.092      1.457      0.145      -0.046       0.314\n",
       "Country[T.GBR]                 0.2387      0.092      2.605      0.009       0.059       0.418\n",
       "Country[T.IRL]                 0.3420      0.099      3.454      0.001       0.148       0.536\n",
       "Country[T.ITA]                 0.9292      0.096      9.633      0.000       0.740       1.118\n",
       "Country[T.NLD]                -0.0112      0.107     -0.105      0.917      -0.220       0.198\n",
       "Country[T.Other]               0.6729      0.091      7.429      0.000       0.495       0.850\n",
       "Country[T.PRT]                 1.4841      0.089     16.595      0.000       1.309       1.659\n",
       "Country[T.USA]                 0.3163      0.104      3.039      0.002       0.112       0.520\n",
       "Quarter[T.Q2]                  0.3183      0.026     12.370      0.000       0.268       0.369\n",
       "Quarter[T.Q3]                  0.3530      0.028     12.472      0.000       0.298       0.409\n",
       "Quarter[T.Q4]                  0.4100      0.031     13.263      0.000       0.349       0.471\n",
       "Children                       0.0898      0.017      5.145      0.000       0.056       0.124\n",
       "ADR                            0.0021      0.000      9.996      0.000       0.002       0.003\n",
       "Year                           0.4680      0.015     30.215      0.000       0.438       0.498\n",
       "==============================================================================================\n",
       "\"\"\""
      ]
     },
     "execution_count": 30,
     "metadata": {},
     "output_type": "execute_result"
    }
   ],
   "source": [
    "# Complete model \n",
    "formula = \"\"\"IsCanc ~ NRDep + DistCh + MktSgmt + CustTyp + Children + ADR + PrevCan +\n",
    "RepGst + Country + Quarter + Year\"\"\"\n",
    "\n",
    "smf.logit(formula, data = dat_df).fit().summary()"
   ]
  }
 ],
 "metadata": {
  "kernelspec": {
   "display_name": "Python 3",
   "language": "python",
   "name": "python3"
  },
  "language_info": {
   "codemirror_mode": {
    "name": "ipython",
    "version": 3
   },
   "file_extension": ".py",
   "mimetype": "text/x-python",
   "name": "python",
   "nbconvert_exporter": "python",
   "pygments_lexer": "ipython3",
   "version": "3.7.9"
  }
 },
 "nbformat": 4,
 "nbformat_minor": 5
}
