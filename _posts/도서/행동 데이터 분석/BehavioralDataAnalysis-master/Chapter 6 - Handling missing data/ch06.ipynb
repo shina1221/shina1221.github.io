{
 "cells": [
  {
   "cell_type": "markdown",
   "id": "decent-playback",
   "metadata": {},
   "source": [
    "# Chapter 6: Handling Missing Data"
   ]
  },
  {
   "cell_type": "markdown",
   "id": "comprehensive-batman",
   "metadata": {},
   "source": [
    "## Data and libraries"
   ]
  },
  {
   "cell_type": "code",
   "execution_count": 1,
   "id": "extra-negative",
   "metadata": {},
   "outputs": [],
   "source": [
    "# Common libraries\n",
    "import pandas as pd\n",
    "import numpy as np\n",
    "import statsmodels.formula.api as smf\n",
    "from statsmodels.formula.api import ols\n",
    "import matplotlib.pyplot as plt\n",
    "import seaborn as sns\n",
    "\n",
    "# Chapter-specific libraries\n",
    "from statsmodels.imputation import mice\n",
    "import statsmodels.api as sm # For OLS call in Mice"
   ]
  },
  {
   "cell_type": "code",
   "execution_count": 14,
   "id": "political-government",
   "metadata": {},
   "outputs": [],
   "source": [
    "#Loading the data\n",
    "complete_data_df = pd.read_csv(\"chap6-complete_data.csv\")\n",
    "available_data_df = pd.read_csv(\"chap6-available_data.csv\")\n",
    "available_data_supp_df = pd.read_csv(\"chap6-available_data_supp.csv\")"
   ]
  },
  {
   "cell_type": "code",
   "execution_count": 15,
   "id": "regional-relations",
   "metadata": {},
   "outputs": [],
   "source": [
    "#Reformatting factor variables\n",
    "complete_data_df['gender'] = pd.Categorical(complete_data_df.gender, \n",
    "                                      categories=['M','F'])\n",
    "available_data_df['gender'] = pd.Categorical(available_data_df.gender, \n",
    "                                      categories=['M','F'])\n",
    "complete_data_df['state'] = pd.Categorical(complete_data_df.state,\n",
    "                                            categories=['A','B','C'])\n",
    "available_data_df['state'] = pd.Categorical(available_data_df.state,\n",
    "                                            categories=['A','B','C'])"
   ]
  },
  {
   "cell_type": "markdown",
   "id": "steady-helmet",
   "metadata": {},
   "source": [
    "## Visualizing missing data"
   ]
  },
  {
   "cell_type": "markdown",
   "id": "focused-modification",
   "metadata": {},
   "source": [
    "### Amount of missing data"
   ]
  },
  {
   "cell_type": "code",
   "execution_count": 4,
   "id": "distinct-rental",
   "metadata": {},
   "outputs": [
    {
     "name": "stdout",
     "output_type": "stream",
     "text": [
      "extra       793\n",
      "neuro      1000\n",
      "state       711\n",
      "bkg_amt     175\n",
      "dtype: int64\n",
      "                           count\n",
      "extra neuro state bkg_amt       \n",
      "False False False False      368\n",
      "                  True        33\n",
      "            True  False      163\n",
      "                  True        24\n",
      "      True  False False      358\n",
      "                  True        23\n",
      "            True  False      214\n",
      "                  True        24\n",
      "True  False False False      249\n",
      "                  True        15\n",
      "            True  False      125\n",
      "                  True        23\n",
      "      True  False False      228\n",
      "                  True        15\n",
      "            True  False      120\n",
      "                  True        18\n"
     ]
    }
   ],
   "source": [
    "### Visualizing missing data \"a la\" VIM\n",
    "\n",
    "#Identifying columns with any missinavailable_data_df.describe()\n",
    "\n",
    "def md_pattern_fun(dat_df):\n",
    "    # Getting all column names\n",
    "    all_cols = dat_df.columns.tolist()\n",
    "    # Getting the names of columns with some missing values\n",
    "    miss_cols = [col for col in all_cols if dat_df[col].isnull().sum()]\n",
    "    if miss_cols == all_cols: dat_df['index'] = dat_df.index\n",
    "    # Removing columns with no missing values\n",
    "    dat_df = dat_df.loc[:,miss_cols]\n",
    "    #Showing total number of missing values per variable\n",
    "    print(dat_df.isnull().sum()) \n",
    "    # Adding count value\n",
    "    dat_df['count'] = 1\n",
    "    # Showing count for missingness combinations\n",
    "    print(dat_df.isnull().groupby(miss_cols).count())\n",
    "    \n",
    "md_pattern_fun(available_data_df)"
   ]
  },
  {
   "cell_type": "code",
   "execution_count": 5,
   "id": "broad-compact",
   "metadata": {},
   "outputs": [
    {
     "name": "stdout",
     "output_type": "stream",
     "text": [
      "                            OLS Regression Results                            \n",
      "==============================================================================\n",
      "Dep. Variable:                bkg_amt   R-squared:                       0.014\n",
      "Model:                            OLS   Adj. R-squared:                  0.013\n",
      "Method:                 Least Squares   F-statistic:                     25.24\n",
      "Date:                Sat, 29 May 2021   Prob (F-statistic):           5.56e-07\n",
      "Time:                        11:13:36   Log-Likelihood:                -10482.\n",
      "No. Observations:                1825   AIC:                         2.097e+04\n",
      "Df Residuals:                    1823   BIC:                         2.098e+04\n",
      "Df Model:                           1                                         \n",
      "Covariance Type:            nonrobust                                         \n",
      "==============================================================================\n",
      "                 coef    std err          t      P>|t|      [0.025      0.975]\n",
      "------------------------------------------------------------------------------\n",
      "Intercept    273.7854      9.382     29.181      0.000     255.384     292.186\n",
      "neuro         -8.0405      1.600     -5.024      0.000     -11.179      -4.902\n",
      "==============================================================================\n",
      "Omnibus:                       33.989   Durbin-Watson:                   1.907\n",
      "Prob(Omnibus):                  0.000   Jarque-Bera (JB):               39.179\n",
      "Skew:                           0.276   Prob(JB):                     3.11e-09\n",
      "Kurtosis:                       3.459   Cond. No.                         32.0\n",
      "==============================================================================\n",
      "\n",
      "Notes:\n",
      "[1] Standard Errors assume that the covariance matrix of the errors is correctly specified.\n",
      "                            OLS Regression Results                            \n",
      "==============================================================================\n",
      "Dep. Variable:                bkg_amt   R-squared:                       0.005\n",
      "Model:                            OLS   Adj. R-squared:                  0.004\n",
      "Method:                 Least Squares   F-statistic:                     8.390\n",
      "Date:                Sat, 29 May 2021   Prob (F-statistic):            0.00382\n",
      "Time:                        11:13:36   Log-Likelihood:                -10491.\n",
      "No. Observations:                1825   AIC:                         2.099e+04\n",
      "Df Residuals:                    1823   BIC:                         2.100e+04\n",
      "Df Model:                           1                                         \n",
      "Covariance Type:            nonrobust                                         \n",
      "==============================================================================\n",
      "                 coef    std err          t      P>|t|      [0.025      0.975]\n",
      "------------------------------------------------------------------------------\n",
      "Intercept    205.3169      7.861     26.119      0.000     189.900     220.734\n",
      "neuro          2.6810      0.926      2.896      0.004       0.866       4.496\n",
      "==============================================================================\n",
      "Omnibus:                       32.297   Durbin-Watson:                   1.911\n",
      "Prob(Omnibus):                  0.000   Jarque-Bera (JB):               37.570\n",
      "Skew:                           0.263   Prob(JB):                     6.95e-09\n",
      "Kurtosis:                       3.466   Cond. No.                         38.0\n",
      "==============================================================================\n",
      "\n",
      "Notes:\n",
      "[1] Standard Errors assume that the covariance matrix of the errors is correctly specified.\n"
     ]
    }
   ],
   "source": [
    "#Quantifying the amount of missing data for a variable   \n",
    "min_data_df = available_data_df.copy()\n",
    "min_data_df.neuro = np.where(min_data_df.neuro.isna(), min_data_df.neuro.min(), \n",
    "                             min_data_df.neuro)\n",
    "\n",
    "max_data_df = available_data_df.copy()\n",
    "max_data_df.neuro = np.where(max_data_df.neuro.isna(), max_data_df.neuro.max(), \n",
    "                             max_data_df.neuro)\n",
    "\n",
    "\n",
    "print(ols(\"bkg_amt~neuro\", data=min_data_df).fit().summary())\n",
    "print(ols(\"bkg_amt~neuro\", data=max_data_df).fit().summary())"
   ]
  },
  {
   "cell_type": "markdown",
   "id": "under-concert",
   "metadata": {},
   "source": [
    "### Correlation of missingness"
   ]
  },
  {
   "cell_type": "code",
   "execution_count": 6,
   "id": "normal-biotechnology",
   "metadata": {},
   "outputs": [],
   "source": [
    "#Loading the data\n",
    "tacoma_df = pd.read_csv(\"chap6-tacoma.csv\")\n",
    "tampa_df = pd.read_csv(\"chap6-tampa.csv\")"
   ]
  },
  {
   "cell_type": "code",
   "execution_count": 7,
   "id": "unusual-dealing",
   "metadata": {},
   "outputs": [
    {
     "data": {
      "image/png": "[encoded data removed]",
      "text/plain": [
       "<Figure size 432x288 with 2 Axes>"
      ]
     },
     "metadata": {
      "needs_background": "light"
     },
     "output_type": "display_data"
    },
    {
     "data": {
      "image/png": "[encoded data removed]",
      "text/plain": [
       "<Figure size 432x288 with 2 Axes>"
      ]
     },
     "metadata": {
      "needs_background": "light"
     },
     "output_type": "display_data"
    }
   ],
   "source": [
    "# Building the correlation matrices\n",
    "tampa_miss_df = tampa_df.copy().drop(['ID'], axis=1).isna()\n",
    "tacoma_miss_df = tacoma_df.copy().drop(['ID'], axis=1).isna()\n",
    "\n",
    "tampa_cor = tampa_miss_df.corr()\n",
    "tacoma_cor = tacoma_miss_df.corr()\n",
    "\n",
    "sns.heatmap(tampa_cor, annot=True, vmin=-0.05, vmax=1, cmap=\"YlGnBu\")\n",
    "plt.show()\n",
    "sns.heatmap(tacoma_cor, annot=True, vmin=-0.05, vmax=1, cmap=\"YlGnBu\")\n",
    "plt.show()"
   ]
  },
  {
   "cell_type": "markdown",
   "id": "irish-producer",
   "metadata": {},
   "source": [
    "# Diagnosing Missing Data"
   ]
  },
  {
   "cell_type": "markdown",
   "id": "documented-business",
   "metadata": {},
   "source": [
    "## Diagnosing MCAR variables"
   ]
  },
  {
   "cell_type": "code",
   "execution_count": 8,
   "id": "effective-shepherd",
   "metadata": {},
   "outputs": [
    {
     "name": "stdout",
     "output_type": "stream",
     "text": [
      "Optimization terminated successfully.\n",
      "         Current function value: 0.672086\n",
      "         Iterations 4\n"
     ]
    },
    {
     "data": {
      "text/html": [
       "<table class=\"simpletable\">\n",
       "<caption>Logit Regression Results</caption>\n",
       "<tr>\n",
       "  <th>Dep. Variable:</th>       <td>md_extra</td>     <th>  No. Observations:  </th>  <td>   617</td> \n",
       "</tr>\n",
       "<tr>\n",
       "  <th>Model:</th>                 <td>Logit</td>      <th>  Df Residuals:      </th>  <td>   609</td> \n",
       "</tr>\n",
       "<tr>\n",
       "  <th>Method:</th>                 <td>MLE</td>       <th>  Df Model:          </th>  <td>     7</td> \n",
       "</tr>\n",
       "<tr>\n",
       "  <th>Date:</th>            <td>Sat, 29 May 2021</td> <th>  Pseudo R-squ.:     </th> <td>0.003477</td>\n",
       "</tr>\n",
       "<tr>\n",
       "  <th>Time:</th>                <td>11:13:48</td>     <th>  Log-Likelihood:    </th> <td> -414.68</td>\n",
       "</tr>\n",
       "<tr>\n",
       "  <th>converged:</th>             <td>True</td>       <th>  LL-Null:           </th> <td> -416.12</td>\n",
       "</tr>\n",
       "<tr>\n",
       "  <th>Covariance Type:</th>     <td>nonrobust</td>    <th>  LLR p-value:       </th>  <td>0.8946</td> \n",
       "</tr>\n",
       "</table>\n",
       "<table class=\"simpletable\">\n",
       "<tr>\n",
       "       <td></td>          <th>coef</th>     <th>std err</th>      <th>z</th>      <th>P>|z|</th>  <th>[0.025</th>    <th>0.975]</th>  \n",
       "</tr>\n",
       "<tr>\n",
       "  <th>Intercept</th>   <td>   -0.7235</td> <td>    0.705</td> <td>   -1.026</td> <td> 0.305</td> <td>   -2.105</td> <td>    0.658</td>\n",
       "</tr>\n",
       "<tr>\n",
       "  <th>gender[T.F]</th> <td>   -0.0237</td> <td>    0.166</td> <td>   -0.143</td> <td> 0.886</td> <td>   -0.349</td> <td>    0.302</td>\n",
       "</tr>\n",
       "<tr>\n",
       "  <th>state[T.B]</th>  <td>   -0.0780</td> <td>    0.200</td> <td>   -0.390</td> <td> 0.696</td> <td>   -0.470</td> <td>    0.314</td>\n",
       "</tr>\n",
       "<tr>\n",
       "  <th>state[T.C]</th>  <td>   -0.0556</td> <td>    0.205</td> <td>   -0.271</td> <td> 0.786</td> <td>   -0.457</td> <td>    0.346</td>\n",
       "</tr>\n",
       "<tr>\n",
       "  <th>age</th>         <td>   -0.0016</td> <td>    0.009</td> <td>   -0.179</td> <td> 0.858</td> <td>   -0.019</td> <td>    0.016</td>\n",
       "</tr>\n",
       "<tr>\n",
       "  <th>open</th>        <td>    0.0558</td> <td>    0.043</td> <td>    1.312</td> <td> 0.190</td> <td>   -0.028</td> <td>    0.139</td>\n",
       "</tr>\n",
       "<tr>\n",
       "  <th>neuro</th>       <td>    0.0501</td> <td>    0.071</td> <td>    0.711</td> <td> 0.477</td> <td>   -0.088</td> <td>    0.188</td>\n",
       "</tr>\n",
       "<tr>\n",
       "  <th>bkg_amt</th>     <td>   -0.0008</td> <td>    0.001</td> <td>   -0.681</td> <td> 0.496</td> <td>   -0.003</td> <td>    0.001</td>\n",
       "</tr>\n",
       "</table>"
      ],
      "text/plain": [
       "<class 'statsmodels.iolib.summary.Summary'>\n",
       "\"\"\"\n",
       "                           Logit Regression Results                           \n",
       "==============================================================================\n",
       "Dep. Variable:               md_extra   No. Observations:                  617\n",
       "Model:                          Logit   Df Residuals:                      609\n",
       "Method:                           MLE   Df Model:                            7\n",
       "Date:                Sat, 29 May 2021   Pseudo R-squ.:                0.003477\n",
       "Time:                        11:13:48   Log-Likelihood:                -414.68\n",
       "converged:                       True   LL-Null:                       -416.12\n",
       "Covariance Type:            nonrobust   LLR p-value:                    0.8946\n",
       "===============================================================================\n",
       "                  coef    std err          z      P>|z|      [0.025      0.975]\n",
       "-------------------------------------------------------------------------------\n",
       "Intercept      -0.7235      0.705     -1.026      0.305      -2.105       0.658\n",
       "gender[T.F]    -0.0237      0.166     -0.143      0.886      -0.349       0.302\n",
       "state[T.B]     -0.0780      0.200     -0.390      0.696      -0.470       0.314\n",
       "state[T.C]     -0.0556      0.205     -0.271      0.786      -0.457       0.346\n",
       "age            -0.0016      0.009     -0.179      0.858      -0.019       0.016\n",
       "open            0.0558      0.043      1.312      0.190      -0.028       0.139\n",
       "neuro           0.0501      0.071      0.711      0.477      -0.088       0.188\n",
       "bkg_amt        -0.0008      0.001     -0.681      0.496      -0.003       0.001\n",
       "===============================================================================\n",
       "\"\"\""
      ]
     },
     "execution_count": 8,
     "metadata": {},
     "output_type": "execute_result"
    }
   ],
   "source": [
    "#Sources of missingness for extraversion\n",
    "available_data_df['md_extra'] = available_data_df['extra'].isnull().astype(float)\n",
    "md_extra_mod =smf.logit('md_extra~age+open+neuro+gender+state+bkg_amt',\n",
    "                      data=available_data_df)\n",
    "md_extra_mod.fit().summary()"
   ]
  },
  {
   "cell_type": "markdown",
   "id": "champion-arctic",
   "metadata": {},
   "source": [
    "## Diagnosing MAR variables"
   ]
  },
  {
   "cell_type": "code",
   "execution_count": 9,
   "id": "blank-flavor",
   "metadata": {},
   "outputs": [
    {
     "data": {
      "text/html": [
       "<table class=\"simpletable\">\n",
       "<caption>Logit Regression Results</caption>\n",
       "<tr>\n",
       "  <th>Dep. Variable:</th>       <td>md_state</td>     <th>  No. Observations:  </th>  <td>   531</td> \n",
       "</tr>\n",
       "<tr>\n",
       "  <th>Model:</th>                 <td>Logit</td>      <th>  Df Residuals:      </th>  <td>   524</td> \n",
       "</tr>\n",
       "<tr>\n",
       "  <th>Method:</th>                 <td>MLE</td>       <th>  Df Model:          </th>  <td>     6</td> \n",
       "</tr>\n",
       "<tr>\n",
       "  <th>Date:</th>            <td>Sat, 29 May 2021</td> <th>  Pseudo R-squ.:     </th>  <td>0.01619</td>\n",
       "</tr>\n",
       "<tr>\n",
       "  <th>Time:</th>                <td>11:13:52</td>     <th>  Log-Likelihood:    </th> <td> -322.14</td>\n",
       "</tr>\n",
       "<tr>\n",
       "  <th>converged:</th>             <td>True</td>       <th>  LL-Null:           </th> <td> -327.44</td>\n",
       "</tr>\n",
       "<tr>\n",
       "  <th>Covariance Type:</th>     <td>nonrobust</td>    <th>  LLR p-value:       </th>  <td>0.1014</td> \n",
       "</tr>\n",
       "</table>\n",
       "<table class=\"simpletable\">\n",
       "<tr>\n",
       "       <td></td>          <th>coef</th>     <th>std err</th>      <th>z</th>      <th>P>|z|</th>  <th>[0.025</th>    <th>0.975]</th>  \n",
       "</tr>\n",
       "<tr>\n",
       "  <th>Intercept</th>   <td>   -0.2410</td> <td>    0.809</td> <td>   -0.298</td> <td> 0.766</td> <td>   -1.826</td> <td>    1.344</td>\n",
       "</tr>\n",
       "<tr>\n",
       "  <th>gender[T.F]</th> <td>   -0.1742</td> <td>    0.192</td> <td>   -0.907</td> <td> 0.364</td> <td>   -0.551</td> <td>    0.202</td>\n",
       "</tr>\n",
       "<tr>\n",
       "  <th>age</th>         <td>    0.0206</td> <td>    0.010</td> <td>    2.035</td> <td> 0.042</td> <td>    0.001</td> <td>    0.040</td>\n",
       "</tr>\n",
       "<tr>\n",
       "  <th>open</th>        <td>    0.0362</td> <td>    0.050</td> <td>    0.727</td> <td> 0.467</td> <td>   -0.061</td> <td>    0.134</td>\n",
       "</tr>\n",
       "<tr>\n",
       "  <th>extra</th>       <td>    0.0078</td> <td>    0.048</td> <td>    0.162</td> <td> 0.871</td> <td>   -0.087</td> <td>    0.102</td>\n",
       "</tr>\n",
       "<tr>\n",
       "  <th>neuro</th>       <td>   -0.1462</td> <td>    0.087</td> <td>   -1.687</td> <td> 0.092</td> <td>   -0.316</td> <td>    0.024</td>\n",
       "</tr>\n",
       "<tr>\n",
       "  <th>bkg_amt</th>     <td>   -0.0019</td> <td>    0.001</td> <td>   -1.445</td> <td> 0.149</td> <td>   -0.005</td> <td>    0.001</td>\n",
       "</tr>\n",
       "</table>"
      ],
      "text/plain": [
       "<class 'statsmodels.iolib.summary.Summary'>\n",
       "\"\"\"\n",
       "                           Logit Regression Results                           \n",
       "==============================================================================\n",
       "Dep. Variable:               md_state   No. Observations:                  531\n",
       "Model:                          Logit   Df Residuals:                      524\n",
       "Method:                           MLE   Df Model:                            6\n",
       "Date:                Sat, 29 May 2021   Pseudo R-squ.:                 0.01619\n",
       "Time:                        11:13:52   Log-Likelihood:                -322.14\n",
       "converged:                       True   LL-Null:                       -327.44\n",
       "Covariance Type:            nonrobust   LLR p-value:                    0.1014\n",
       "===============================================================================\n",
       "                  coef    std err          z      P>|z|      [0.025      0.975]\n",
       "-------------------------------------------------------------------------------\n",
       "Intercept      -0.2410      0.809     -0.298      0.766      -1.826       1.344\n",
       "gender[T.F]    -0.1742      0.192     -0.907      0.364      -0.551       0.202\n",
       "age             0.0206      0.010      2.035      0.042       0.001       0.040\n",
       "open            0.0362      0.050      0.727      0.467      -0.061       0.134\n",
       "extra           0.0078      0.048      0.162      0.871      -0.087       0.102\n",
       "neuro          -0.1462      0.087     -1.687      0.092      -0.316       0.024\n",
       "bkg_amt        -0.0019      0.001     -1.445      0.149      -0.005       0.001\n",
       "===============================================================================\n",
       "\"\"\""
      ]
     },
     "execution_count": 9,
     "metadata": {},
     "output_type": "execute_result"
    }
   ],
   "source": [
    "#Sources of missingness for state\n",
    "available_data_df['md_state'] = available_data_df['state'].isnull()\\\n",
    "    .astype(float)\n",
    "md_state_mod =smf.logit('md_state~age+open+extra+neuro+gender+bkg_amt',\n",
    "                      data=available_data_df)\n",
    "md_state_mod.fit(disp=0).summary()"
   ]
  },
  {
   "cell_type": "markdown",
   "id": "frozen-memorial",
   "metadata": {},
   "source": [
    "## Diagnosing MNAR variables"
   ]
  },
  {
   "cell_type": "code",
   "execution_count": 10,
   "id": "nasty-acrobat",
   "metadata": {},
   "outputs": [
    {
     "data": {
      "text/html": [
       "<table class=\"simpletable\">\n",
       "<caption>Logit Regression Results</caption>\n",
       "<tr>\n",
       "  <th>Dep. Variable:</th>       <td>md_neuro</td>     <th>  No. Observations:  </th>  <td>   726</td> \n",
       "</tr>\n",
       "<tr>\n",
       "  <th>Model:</th>                 <td>Logit</td>      <th>  Df Residuals:      </th>  <td>   718</td> \n",
       "</tr>\n",
       "<tr>\n",
       "  <th>Method:</th>                 <td>MLE</td>       <th>  Df Model:          </th>  <td>     7</td> \n",
       "</tr>\n",
       "<tr>\n",
       "  <th>Date:</th>            <td>Sat, 29 May 2021</td> <th>  Pseudo R-squ.:     </th>  <td>0.01936</td>\n",
       "</tr>\n",
       "<tr>\n",
       "  <th>Time:</th>                <td>11:13:56</td>     <th>  Log-Likelihood:    </th> <td> -493.42</td>\n",
       "</tr>\n",
       "<tr>\n",
       "  <th>converged:</th>             <td>True</td>       <th>  LL-Null:           </th> <td> -503.16</td>\n",
       "</tr>\n",
       "<tr>\n",
       "  <th>Covariance Type:</th>     <td>nonrobust</td>    <th>  LLR p-value:       </th> <td>0.006812</td>\n",
       "</tr>\n",
       "</table>\n",
       "<table class=\"simpletable\">\n",
       "<tr>\n",
       "       <td></td>          <th>coef</th>     <th>std err</th>      <th>z</th>      <th>P>|z|</th>  <th>[0.025</th>    <th>0.975]</th>  \n",
       "</tr>\n",
       "<tr>\n",
       "  <th>Intercept</th>   <td>   -0.1629</td> <td>    0.458</td> <td>   -0.356</td> <td> 0.722</td> <td>   -1.060</td> <td>    0.735</td>\n",
       "</tr>\n",
       "<tr>\n",
       "  <th>state[T.B]</th>  <td>    0.0471</td> <td>    0.182</td> <td>    0.259</td> <td> 0.796</td> <td>   -0.309</td> <td>    0.404</td>\n",
       "</tr>\n",
       "<tr>\n",
       "  <th>state[T.C]</th>  <td>   -0.1283</td> <td>    0.188</td> <td>   -0.683</td> <td> 0.495</td> <td>   -0.497</td> <td>    0.240</td>\n",
       "</tr>\n",
       "<tr>\n",
       "  <th>gender[T.F]</th> <td>   -0.0935</td> <td>    0.151</td> <td>   -0.618</td> <td> 0.537</td> <td>   -0.390</td> <td>    0.203</td>\n",
       "</tr>\n",
       "<tr>\n",
       "  <th>age</th>         <td>   -0.0126</td> <td>    0.008</td> <td>   -1.552</td> <td> 0.121</td> <td>   -0.029</td> <td>    0.003</td>\n",
       "</tr>\n",
       "<tr>\n",
       "  <th>open</th>        <td>    0.0524</td> <td>    0.039</td> <td>    1.361</td> <td> 0.173</td> <td>   -0.023</td> <td>    0.128</td>\n",
       "</tr>\n",
       "<tr>\n",
       "  <th>extra</th>       <td>   -0.0850</td> <td>    0.041</td> <td>   -2.092</td> <td> 0.036</td> <td>   -0.165</td> <td>   -0.005</td>\n",
       "</tr>\n",
       "<tr>\n",
       "  <th>bkg_amt</th>     <td>    0.0032</td> <td>    0.001</td> <td>    3.020</td> <td> 0.003</td> <td>    0.001</td> <td>    0.005</td>\n",
       "</tr>\n",
       "</table>"
      ],
      "text/plain": [
       "<class 'statsmodels.iolib.summary.Summary'>\n",
       "\"\"\"\n",
       "                           Logit Regression Results                           \n",
       "==============================================================================\n",
       "Dep. Variable:               md_neuro   No. Observations:                  726\n",
       "Model:                          Logit   Df Residuals:                      718\n",
       "Method:                           MLE   Df Model:                            7\n",
       "Date:                Sat, 29 May 2021   Pseudo R-squ.:                 0.01936\n",
       "Time:                        11:13:56   Log-Likelihood:                -493.42\n",
       "converged:                       True   LL-Null:                       -503.16\n",
       "Covariance Type:            nonrobust   LLR p-value:                  0.006812\n",
       "===============================================================================\n",
       "                  coef    std err          z      P>|z|      [0.025      0.975]\n",
       "-------------------------------------------------------------------------------\n",
       "Intercept      -0.1629      0.458     -0.356      0.722      -1.060       0.735\n",
       "state[T.B]      0.0471      0.182      0.259      0.796      -0.309       0.404\n",
       "state[T.C]     -0.1283      0.188     -0.683      0.495      -0.497       0.240\n",
       "gender[T.F]    -0.0935      0.151     -0.618      0.537      -0.390       0.203\n",
       "age            -0.0126      0.008     -1.552      0.121      -0.029       0.003\n",
       "open            0.0524      0.039      1.361      0.173      -0.023       0.128\n",
       "extra          -0.0850      0.041     -2.092      0.036      -0.165      -0.005\n",
       "bkg_amt         0.0032      0.001      3.020      0.003       0.001       0.005\n",
       "===============================================================================\n",
       "\"\"\""
      ]
     },
     "execution_count": 10,
     "metadata": {},
     "output_type": "execute_result"
    }
   ],
   "source": [
    "#Sources of missingness for neuroticism\n",
    "available_data_df['md_neuro'] = available_data_df['neuro'].isnull()\\\n",
    "    .astype(float)\n",
    "md_neuro_mod =smf.logit('md_neuro~age+open+extra+state+gender+bkg_amt',\n",
    "                      data=available_data_df)\n",
    "md_neuro_mod.fit(disp=0).summary()"
   ]
  },
  {
   "cell_type": "markdown",
   "id": "level-playing",
   "metadata": {},
   "source": [
    "## Handling missing data"
   ]
  },
  {
   "cell_type": "code",
   "execution_count": 16,
   "id": "divided-samoa",
   "metadata": {},
   "outputs": [],
   "source": [
    "#One-hot encoding categorical variable for gender\n",
    "gender_dummies = pd.get_dummies(available_data_df.\\\n",
    "                                gender, \n",
    "                                prefix='gender')\n",
    "available_data_df =  pd.concat([available_data_df, \n",
    "                                gender_dummies], \n",
    "                               axis=1)\n",
    "available_data_df.gender_F = \\\n",
    "np.where(available_data_df.gender.isna(), \n",
    "         float('NaN'), available_data_df.gender_F)\n",
    "available_data_df.gender_M = \\\n",
    "np.where(available_data_df.gender.isna(), \n",
    "         float('NaN'), available_data_df.gender_M)\n",
    "available_data_df =  available_data_df.\\\n",
    "drop(['gender'], axis=1)"
   ]
  },
  {
   "cell_type": "code",
   "execution_count": 17,
   "id": "double-basis",
   "metadata": {},
   "outputs": [],
   "source": [
    "#One-hot encoding categorical variable for state\n",
    "state_dummies = pd.get_dummies(available_data_df.state, prefix='state')\n",
    "available_data_df =  pd.concat([available_data_df, state_dummies], axis=1)\n",
    "available_data_df.state_A = np.where(available_data_df.state.isna(), \n",
    "                                     float('NaN'), available_data_df.state_A)\n",
    "available_data_df.state_B = np.where(available_data_df.state.isna(), \n",
    "                                     float('NaN'), available_data_df.state_B)\n",
    "available_data_df.state_C = np.where(available_data_df.state.isna(), \n",
    "                                     float('NaN'), available_data_df.state_C)\n",
    "available_data_df =  available_data_df.drop(['state'], axis=1)"
   ]
  },
  {
   "cell_type": "code",
   "execution_count": 18,
   "id": "widespread-vietnamese",
   "metadata": {
    "scrolled": true
   },
   "outputs": [
    {
     "name": "stdout",
     "output_type": "stream",
     "text": [
      "                           Results: MICE\n",
      "===================================================================\n",
      "Method:                  MICE         Sample size:          2000   \n",
      "Model:                   OLS          Scale                 5008.39\n",
      "Dependent variable:      bkg_amt      Num. imputations      20     \n",
      "-------------------------------------------------------------------\n",
      "           Coef.   Std.Err.    t    P>|t|   [0.025   0.975]   FMI  \n",
      "-------------------------------------------------------------------\n",
      "Intercept 122.2796   7.6950 15.8908 0.0000 107.1976 137.3615 0.3064\n",
      "age        -1.1134   0.1787 -6.2315 0.0000  -1.4636  -0.7632 0.3184\n",
      "open        3.1291   0.8709  3.5931 0.0003   1.4222   4.8359 0.1325\n",
      "extra      11.2347   0.8877 12.6566 0.0000   9.4950  12.9745 0.1819\n",
      "neuro      -5.3054   1.8266 -2.9045 0.0037  -8.8855  -1.7253 0.4475\n",
      "gender_M   67.2171   4.2216 15.9223 0.0000  58.9429  75.4912 0.2815\n",
      "gender_F   55.0625   4.1530 13.2584 0.0000  46.9227  63.2023 0.2601\n",
      "state_A    41.5921   3.4257 12.1413 0.0000  34.8779  48.3063 0.2164\n",
      "state_B    38.1940   3.8102 10.0242 0.0000  30.7262  45.6619 0.1926\n",
      "state_C    42.4934   3.7940 11.2000 0.0000  35.0572  49.9296 0.2055\n",
      "===================================================================\n",
      "\n"
     ]
    }
   ],
   "source": [
    "#MICE imputation\n",
    "MI_data_df = mice.MICEData(available_data_df)                                 \n",
    "fit = mice.MICE(model_formula='bkg_amt ~ age + open + extra + neuro + \\\n",
    "                gender_M + gender_F + state_A + state_B + state_C', \n",
    "                model_class=sm.OLS, data=MI_data_df)                \n",
    "MI_summ = fit.fit(n_imputations=20).summary()  \n",
    "print(MI_summ)"
   ]
  },
  {
   "cell_type": "code",
   "execution_count": 13,
   "id": "premier-carroll",
   "metadata": {},
   "outputs": [],
   "source": [
    "#Adding auxiliary variables\n",
    "augmented_data_df = pd.concat([available_data_df, available_data_supp_df], \n",
    "                              axis=1)\n",
    "MI_data_aux_df = mice.MICEData(augmented_data_df)   "
   ]
  }
 ],
 "metadata": {
  "kernelspec": {
   "display_name": "Python 3",
   "language": "python",
   "name": "python3"
  },
  "language_info": {
   "codemirror_mode": {
    "name": "ipython",
    "version": 3
   },
   "file_extension": ".py",
   "mimetype": "text/x-python",
   "name": "python",
   "nbconvert_exporter": "python",
   "pygments_lexer": "ipython3",
   "version": "3.7.9"
  }
 },
 "nbformat": 4,
 "nbformat_minor": 5
}
