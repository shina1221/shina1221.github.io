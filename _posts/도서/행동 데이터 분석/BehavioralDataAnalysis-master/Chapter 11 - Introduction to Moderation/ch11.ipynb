{
 "cells": [
  {
   "cell_type": "markdown",
   "id": "decent-playback",
   "metadata": {},
   "source": [
    "# Chapter 11: Introduction to Moderation"
   ]
  },
  {
   "cell_type": "markdown",
   "id": "published-skirt",
   "metadata": {},
   "source": [
    "## Libraries and data"
   ]
  },
  {
   "cell_type": "markdown",
   "id": "vocational-running",
   "metadata": {},
   "source": [
    "### Libraries"
   ]
  },
  {
   "cell_type": "code",
   "execution_count": null,
   "id": "weird-necessity",
   "metadata": {},
   "outputs": [],
   "source": [
    "# Common libraries\n",
    "import pandas as pd\n",
    "import numpy as np\n",
    "import statsmodels.formula.api as smf\n",
    "from statsmodels.formula.api import ols\n",
    "import seaborn as sns"
   ]
  },
  {
   "cell_type": "markdown",
   "id": "relative-michigan",
   "metadata": {},
   "source": [
    "### Data"
   ]
  },
  {
   "cell_type": "code",
   "execution_count": null,
   "id": "light-essence",
   "metadata": {},
   "outputs": [],
   "source": [
    "hist_data_df = pd.read_csv('chap11-historical_data.csv')"
   ]
  },
  {
   "cell_type": "markdown",
   "id": "rubber-workshop",
   "metadata": {},
   "source": [
    "## Behavioral varieties of moderation"
   ]
  },
  {
   "cell_type": "code",
   "execution_count": null,
   "id": "dominican-contemporary",
   "metadata": {},
   "outputs": [],
   "source": [
    "ols(\"duration~play_area * children\", data=hist_data_df).fit().summary()"
   ]
  },
  {
   "cell_type": "code",
   "execution_count": null,
   "id": "banner-investor",
   "metadata": {},
   "outputs": [],
   "source": [
    "model = ols(\"Purchases ~ Emails + I(Emails**2)\", data=dat_df)\n",
    "print(model.fit().summary())"
   ]
  },
  {
   "cell_type": "markdown",
   "id": "fundamental-print",
   "metadata": {},
   "source": [
    "## How to apply moderation"
   ]
  },
  {
   "cell_type": "markdown",
   "id": "popular-blanket",
   "metadata": {},
   "source": [
    "### When to look for moderation?"
   ]
  },
  {
   "cell_type": "code",
   "execution_count": null,
   "id": "large-chamber",
   "metadata": {},
   "outputs": [],
   "source": [
    "#Code to convert age to its quartiles\n",
    "\n",
    "hist_data_df['age_quart'] = pd.cut(hist_data_df['age'], 4, \n",
    "                                   labels=['q4', 'q3', 'q2', 'q1'],\n",
    "                                   include_lowest=True)\n",
    "\n",
    "hist_data_df.groupby('play_area').agg(M = ('duration', lambda x: x.mean()),\n",
    "    SD = ('duration', lambda x: x.std()))"
   ]
  },
  {
   "cell_type": "markdown",
   "id": "conservative-flexibility",
   "metadata": {},
   "source": [
    "### Multiple moderators"
   ]
  },
  {
   "cell_type": "code",
   "execution_count": null,
   "id": "suburban-cache",
   "metadata": {},
   "outputs": [],
   "source": [
    "# Measure coefficient for moderated moderation\n",
    "ols(\"duration~play_area * children * age\", data=hist_data_df).fit().summary()"
   ]
  },
  {
   "cell_type": "code",
   "execution_count": null,
   "id": "subjective-chicken",
   "metadata": {},
   "outputs": [],
   "source": [
    "# Determine 90%-CI for moderated moderation coefficient\n",
    "def metric_fun(dat_df):\n",
    "    model = ols(\"duration~play_area * children * age\", data=dat_df)\n",
    "    res = model.fit(disp=0)\n",
    "    coeff = res.params['play_area:children:age']\n",
    "    return coeff\n",
    "#metric_fun(hist_data_df)\n",
    "\n",
    "def boot_CI_fun(dat_df, metric_fun, B = 100):\n",
    "  #Setting sample size\n",
    "  N = len(dat_df)\n",
    "  conf_level = 0.9\n",
    "  coeffs = []\n",
    "  \n",
    "  \n",
    "  for i in range(B):\n",
    "      sim_data_df = dat_df.sample(n=N, replace = True)\n",
    "      coeff = metric_fun(sim_data_df)\n",
    "      coeffs.append(coeff)\n",
    "  \n",
    "  coeffs.sort()\n",
    "  start_idx = round(B * (1 - conf_level) / 2)\n",
    "  end_idx = - round(B * (1 - conf_level) / 2)\n",
    "  \n",
    "  confint = [coeffs[start_idx], coeffs[end_idx]]  \n",
    "  \n",
    "  return confint\n",
    "\n",
    "#boot_CI_fun(hist_data_df, metric_fun)\n"
   ]
  },
  {
   "cell_type": "markdown",
   "id": "exact-scratch",
   "metadata": {},
   "source": [
    "### Validating moderation with Bootstrap"
   ]
  },
  {
   "cell_type": "code",
   "execution_count": null,
   "id": "latest-queen",
   "metadata": {},
   "outputs": [],
   "source": [
    "#Changing the metric function\n",
    "def metric_fun2(dat_df):\n",
    "    model = ols(\"duration~play_area * children\", data=dat_df)\n",
    "    res = model.fit(disp=0)\n",
    "    coeff = res.params['play_area:children']\n",
    "    return coeff\n",
    "metric_fun(hist_data_df)\n",
    "\n",
    "# Changing the bootstrap function\n",
    "def boot_CI_fun2(dat_df, metric_fun, B = 100):\n",
    "  #Setting the number of bootstrap samples\n",
    "  \n",
    "  #Setting sample size\n",
    "  N = 10000\n",
    "  conf_level = 0.9\n",
    "  coeffs = []\n",
    "  \n",
    "  \n",
    "  for i in range(B):\n",
    "      sim_data_df = dat_df.sample(n=N, replace = True)\n",
    "      coeff = metric_fun(sim_data_df)\n",
    "      coeffs.append(coeff)\n",
    "  \n",
    "  coeffs.sort()\n",
    "  start_idx = round(B * (1 - conf_level) / 2)\n",
    "  end_idx = - round(B * (1 - conf_level) / 2)\n",
    "  \n",
    "  confint = [coeffs[start_idx], coeffs[end_idx]]  \n",
    "  \n",
    "  return confint\n",
    "\n",
    "boot_CI_fun2(hist_data_df, metric_fun2, B = 1000)"
   ]
  },
  {
   "cell_type": "markdown",
   "id": "expensive-savings",
   "metadata": {},
   "source": [
    "### Interpreting individual coefficients"
   ]
  },
  {
   "cell_type": "code",
   "execution_count": null,
   "id": "pressing-script",
   "metadata": {},
   "outputs": [],
   "source": [
    "# Centering the age variable in the historical data\n",
    "centered_data_df = hist_data_df.copy()\n",
    "centered_data_df['age'] = centered_data_df['age'] \\\n",
    "    .subtract(centered_data_df['age'].mean())\n",
    "\n",
    "ols(\"duration~play_area * age\", data=hist_data_df).fit().summary()\n",
    "ols(\"duration~play_area * age\", data=centered_data_df).fit().summary()\n",
    "\n",
    "# Changing the default for PlayArea to 1\n",
    "centered_data_df['play_area'] = centered_data_df['play_area']\n",
    "\n",
    "ols(\"duration~play_area * age\", data=hist_data_df).fit().summary()\n",
    "ols(\"duration~play_area * age\", data=centered_data_df).fit().summary()\n",
    "\n",
    "\n",
    "### Calculating effects at the level of business decisions\n",
    "\n",
    "def business_metric_fun(dat_df):\n",
    "    \n",
    "    model =  ols(\"duration~play_area * (children + age)\", data=dat_df)\n",
    "    res = model.fit(disp=0)\n",
    "    \n",
    "    action_dat_df = dat_df[dat_df.play_area == 0].copy()\n",
    "    action_dat_df['pred_dur0'] = res.predict(action_dat_df) \n",
    "    action_dat_df.play_area = 1\n",
    "    action_dat_df['pred_dur1'] = res.predict(action_dat_df)\n",
    "    action_dat_df['pred_dur_diff'] = \\\n",
    "        action_dat_df.pred_dur1 - action_dat_df.pred_dur0\n",
    "    action_res_df = action_dat_df.groupby(['store_id']) \\\n",
    "        .agg(mean_dur_diff=('pred_dur_diff', 'mean'), \n",
    "             tot_dur_diff=('pred_dur_diff', 'sum'))\n",
    "    \n",
    "    return action_res_df\n",
    "\n",
    "action_res_df = business_metric_fun(hist_data_df)\n",
    "action_res_df.describe()"
   ]
  }
 ],
 "metadata": {
  "kernelspec": {
   "display_name": "Python 3",
   "language": "python",
   "name": "python3"
  },
  "language_info": {
   "codemirror_mode": {
    "name": "ipython",
    "version": 3
   },
   "file_extension": ".py",
   "mimetype": "text/x-python",
   "name": "python",
   "nbconvert_exporter": "python",
   "pygments_lexer": "ipython3",
   "version": "3.7.9"
  }
 },
 "nbformat": 4,
 "nbformat_minor": 5
}
