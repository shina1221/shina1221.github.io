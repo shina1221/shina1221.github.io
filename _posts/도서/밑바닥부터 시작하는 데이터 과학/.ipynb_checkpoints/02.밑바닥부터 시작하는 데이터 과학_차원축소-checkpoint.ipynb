{
 "cells": [
  {
   "cell_type": "code",
   "execution_count": null,
   "id": "f97953e9",
   "metadata": {},
   "outputs": [],
   "source": [
    "def scale(data_matrix):\n",
    "    '''각 열의 평균과 표준편차를 반환'''\n",
    "    num_rows, num_cols = shape(data_matrix)\n",
    "    means = [mean(get_column(data_matrix, j))\n",
    "            for j in range(num_cols)]\n",
    "    stdevs = [standard_deviation(get_column(data_matrix, j))\n",
    "             for j in range(num_cols)]\n",
    "    return means, stdevs"
   ]
  }
 ],
 "metadata": {
  "kernelspec": {
   "display_name": "Python 3 (ipykernel)",
   "language": "python",
   "name": "python3"
  },
  "language_info": {
   "codemirror_mode": {
    "name": "ipython",
    "version": 3
   },
   "file_extension": ".py",
   "mimetype": "text/x-python",
   "name": "python",
   "nbconvert_exporter": "python",
   "pygments_lexer": "ipython3",
   "version": "3.9.16"
  }
 },
 "nbformat": 4,
 "nbformat_minor": 5
}
