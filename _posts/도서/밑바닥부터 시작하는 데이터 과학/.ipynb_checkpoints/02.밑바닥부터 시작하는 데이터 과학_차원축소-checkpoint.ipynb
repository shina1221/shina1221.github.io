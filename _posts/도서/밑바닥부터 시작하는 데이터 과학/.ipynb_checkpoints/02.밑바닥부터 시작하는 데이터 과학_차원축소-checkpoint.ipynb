{
 "cells": [
  {
   "cell_type": "code",
   "execution_count": null,
   "id": "dd71a82a",
   "metadata": {},
   "outputs": [],
   "source": [
    "#척도조절"
   ]
  },
  {
   "cell_type": "code",
   "execution_count": 1,
   "id": "2892eec1",
   "metadata": {},
   "outputs": [],
   "source": [
    "def scale(data_matrix):\n",
    "    '''각 열의 평균과 표준편차를 반환'''\n",
    "    num_rows, num_cols = shape(data_matrix)\n",
    "    means = [mean(get_column(data_matrix, j))\n",
    "            for j in range(num_cols)]\n",
    "    stdevs = [standard_deviation(get_column(data_matrix, j))\n",
    "             for j in range(num_cols)]\n",
    "    return means, stdevs"
   ]
  },
  {
   "cell_type": "code",
   "execution_count": 2,
   "id": "59333ffa",
   "metadata": {},
   "outputs": [],
   "source": [
    "def rescale(data_matrix):\n",
    "    '''각 열의 평균을 0, 표준편차를 1로 변환하면서 입력되는 데이터의 척도를 조절\n",
    "    편차가 없는 열은 그대로 유지'''\n",
    "    means, stdevs = scale(data_matrix)\n",
    "    \n",
    "    def rescaled(i, j):\n",
    "        if stdevs[j] > 0:\n",
    "            return (data_matrix[i][j] - means[j]) / stdevs[j]\n",
    "        else:\n",
    "            return data_matrix[i][j]\n",
    "    \n",
    "    num_rows, num_cols = shape(data_matrix)\n",
    "    return make_matrix(num_rows, num_cols, rescaled)"
   ]
  },
  {
   "cell_type": "code",
   "execution_count": 3,
   "id": "83aa4927",
   "metadata": {},
   "outputs": [
    {
     "name": "stdout",
     "output_type": "stream",
     "text": [
      "rescaling\n",
      "original:  [[1, 20, 2], [1, 30, 3], [1, 40, 4]]\n"
     ]
    },
    {
     "ename": "NameError",
     "evalue": "name 'shape' is not defined",
     "output_type": "error",
     "traceback": [
      "\u001b[1;31m---------------------------------------------------------------------------\u001b[0m",
      "\u001b[1;31mNameError\u001b[0m                                 Traceback (most recent call last)",
      "Cell \u001b[1;32mIn[3], line 5\u001b[0m\n\u001b[0;32m      2\u001b[0m data \u001b[38;5;241m=\u001b[39m [[\u001b[38;5;241m1\u001b[39m, \u001b[38;5;241m20\u001b[39m, \u001b[38;5;241m2\u001b[39m], [\u001b[38;5;241m1\u001b[39m, \u001b[38;5;241m30\u001b[39m, \u001b[38;5;241m3\u001b[39m], [\u001b[38;5;241m1\u001b[39m, \u001b[38;5;241m40\u001b[39m, \u001b[38;5;241m4\u001b[39m]]\n\u001b[0;32m      4\u001b[0m \u001b[38;5;28mprint\u001b[39m(\u001b[38;5;124m'\u001b[39m\u001b[38;5;124moriginal: \u001b[39m\u001b[38;5;124m'\u001b[39m, data)\n\u001b[1;32m----> 5\u001b[0m \u001b[38;5;28mprint\u001b[39m(\u001b[38;5;124m'\u001b[39m\u001b[38;5;124mscale: \u001b[39m\u001b[38;5;124m'\u001b[39m, \u001b[43mscale\u001b[49m\u001b[43m(\u001b[49m\u001b[43mdata\u001b[49m\u001b[43m)\u001b[49m)\n\u001b[0;32m      6\u001b[0m \u001b[38;5;28mprint\u001b[39m(\u001b[38;5;124m'\u001b[39m\u001b[38;5;124mrescaled: \u001b[39m\u001b[38;5;124m'\u001b[39m, rescale(data))\n",
      "Cell \u001b[1;32mIn[1], line 3\u001b[0m, in \u001b[0;36mscale\u001b[1;34m(data_matrix)\u001b[0m\n\u001b[0;32m      1\u001b[0m \u001b[38;5;28;01mdef\u001b[39;00m \u001b[38;5;21mscale\u001b[39m(data_matrix):\n\u001b[0;32m      2\u001b[0m     \u001b[38;5;124;03m'''각 열의 평균과 표준편차를 반환'''\u001b[39;00m\n\u001b[1;32m----> 3\u001b[0m     num_rows, num_cols \u001b[38;5;241m=\u001b[39m \u001b[43mshape\u001b[49m(data_matrix)\n\u001b[0;32m      4\u001b[0m     means \u001b[38;5;241m=\u001b[39m [mean(get_column(data_matrix, j))\n\u001b[0;32m      5\u001b[0m             \u001b[38;5;28;01mfor\u001b[39;00m j \u001b[38;5;129;01min\u001b[39;00m \u001b[38;5;28mrange\u001b[39m(num_cols)]\n\u001b[0;32m      6\u001b[0m     stdevs \u001b[38;5;241m=\u001b[39m [standard_deviation(get_column(data_matrix, j))\n\u001b[0;32m      7\u001b[0m              \u001b[38;5;28;01mfor\u001b[39;00m j \u001b[38;5;129;01min\u001b[39;00m \u001b[38;5;28mrange\u001b[39m(num_cols)]\n",
      "\u001b[1;31mNameError\u001b[0m: name 'shape' is not defined"
     ]
    }
   ],
   "source": [
    "print('rescaling')\n",
    "data = [[1, 20, 2], [1, 30, 3], [1, 40, 4]]\n",
    "\n",
    "print('original: ', data)\n",
    "print('scale: ', scale(data))\n",
    "print('rescaled: ', rescale(data))"
   ]
  },
  {
   "cell_type": "code",
   "execution_count": 8,
   "id": "a0bd864b",
   "metadata": {},
   "outputs": [],
   "source": [
    "import numpy as np\n",
    "import matplotlib.pyplot as plt"
   ]
  },
  {
   "cell_type": "code",
   "execution_count": 9,
   "id": "2b87b982",
   "metadata": {},
   "outputs": [
    {
     "name": "stderr",
     "output_type": "stream",
     "text": [
      "C:\\Users\\admin\\AppData\\Local\\Temp\\ipykernel_22636\\2426876052.py:103: UserWarning: color is redundantly defined by the 'color' keyword argument and the fmt string \"ro\" (-> color='r'). The keyword argument will take precedence.\n",
      "  plt.plot(np_X[:,0], np_X[:,1], 'ro', color='salmon')\n"
     ]
    },
    {
     "data": {
      "image/png": "[encoded data removed]",
      "text/plain": [
       "<Figure size 640x480 with 1 Axes>"
      ]
     },
     "metadata": {},
     "output_type": "display_data"
    }
   ],
   "source": [
    "X = [\n",
    "    [20.9666776351559,-13.1138080189357],\n",
    "    [22.7719907680008,-19.8890894944696],\n",
    "    [25.6687103160153,-11.9956004517219],\n",
    "    [18.0019794950564,-18.1989191165133],\n",
    "    [21.3967402102156,-10.8893126308196],\n",
    "    [0.443696899177716,-19.7221132386308],\n",
    "    [29.9198322142127,-14.0958668502427],\n",
    "    [19.0805843080126,-13.7888747608312],\n",
    "    [16.4685063521314,-11.2612927034291],\n",
    "    [21.4597664701884,-12.4740034586705],\n",
    "    [3.87655283720532,-17.575162461771],\n",
    "    [34.5713920556787,-10.705185165378],\n",
    "    [13.3732115747722,-16.7270274494424],\n",
    "    [20.7281704141919,-8.81165591556553],\n",
    "    [24.839851437942,-12.1240962157419],\n",
    "    [20.3019544741252,-12.8725060780898],\n",
    "    [21.9021426929599,-17.3225432396452],\n",
    "    [23.2285885715486,-12.2676568419045],\n",
    "    [28.5749111681851,-13.2616470619453],\n",
    "    [29.2957424128701,-14.6299928678996],\n",
    "    [15.2495527798625,-18.4649714274207],\n",
    "    [26.5567257400476,-9.19794350561966],\n",
    "    [30.1934232346361,-12.6272709845971],\n",
    "    [36.8267446011057,-7.25409849336718],\n",
    "    [32.157416823084,-10.4729534347553],\n",
    "    [5.85964365291694,-22.6573731626132],\n",
    "    [25.7426190674693,-14.8055803854566],\n",
    "    [16.237602636139,-16.5920595763719],\n",
    "    [14.7408608850568,-20.0537715298403],\n",
    "    [6.85907008242544,-18.3965586884781],\n",
    "    [26.5918329233128,-8.92664811750842],\n",
    "    [-11.2216019958228,-27.0519081982856],\n",
    "    [8.93593745011035,-20.8261235122575],\n",
    "    [24.4481258671796,-18.0324012215159],\n",
    "    [2.82048515404903,-22.4208457598703],\n",
    "    [30.8803004755948,-11.455358009593],\n",
    "    [15.4586738236098,-11.1242825084309],\n",
    "    [28.5332537090494,-14.7898744423126],\n",
    "    [40.4830293441052,-2.41946428697183],\n",
    "    [15.7563759125684,-13.5771266003795],\n",
    "    [19.3635588851727,-20.6224770470434],\n",
    "    [13.4212840786467,-19.0238227375766],\n",
    "    [7.77570680426702,-16.6385739839089],\n",
    "    [21.4865983854408,-15.290799330002],\n",
    "    [12.6392705930724,-23.6433305964301],\n",
    "    [12.4746151388128,-17.9720169566614],\n",
    "    [23.4572410437998,-14.602080545086],\n",
    "    [13.6878189833565,-18.9687408182414],\n",
    "    [15.4077465943441,-14.5352487124086],\n",
    "    [20.3356581548895,-10.0883159703702],\n",
    "    [20.7093833689359,-12.6939091236766],\n",
    "    [11.1032293684441,-14.1383848928755],\n",
    "    [17.5048321498308,-9.2338593361801],\n",
    "    [16.3303688220188,-15.1054735529158],\n",
    "    [26.6929062710726,-13.306030567991],\n",
    "    [34.4985678099711,-9.86199941278607],\n",
    "    [39.1374291499406,-10.5621430853401],\n",
    "    [21.9088956482146,-9.95198845621849],\n",
    "    [22.2367457578087,-17.2200123442707],\n",
    "    [10.0032784145577,-19.3557700653426],\n",
    "    [14.045833906665,-15.871937521131],\n",
    "    [15.5640911917607,-18.3396956121887],\n",
    "    [24.4771926581586,-14.8715313479137],\n",
    "    [26.533415556629,-14.693883922494],\n",
    "    [12.8722580202544,-21.2750596021509],\n",
    "    [24.4768291376862,-15.9592080959207],\n",
    "    [18.2230748567433,-14.6541444069985],\n",
    "    [4.1902148367447,-20.6144032528762],\n",
    "    [12.4332594022086,-16.6079789231489],\n",
    "    [20.5483758651873,-18.8512560786321],\n",
    "    [17.8180560451358,-12.5451990696752],\n",
    "    [11.0071081078049,-20.3938092335862],\n",
    "    [8.30560561422449,-22.9503944138682],\n",
    "    [33.9857852657284,-4.8371294974382],\n",
    "    [17.4376502239652,-14.5095976075022],\n",
    "    [29.0379635148943,-14.8461553663227],\n",
    "    [29.1344666599319,-7.70862921632672],\n",
    "    [32.9730697624544,-15.5839178785654],\n",
    "    [13.4211493998212,-20.150199857584],\n",
    "    [11.380538260355,-12.8619410359766],\n",
    "    [28.672631499186,-8.51866271785711],\n",
    "    [16.4296061111902,-23.3326051279759],\n",
    "    [25.7168371582585,-13.8899296143829],\n",
    "    [13.3185154732595,-17.8959160024249],\n",
    "    [3.60832478605376,-25.4023343597712],\n",
    "    [39.5445949652652,-11.466377647931],\n",
    "    [25.1693484426101,-12.2752652925707],\n",
    "    [25.2884257196471,-7.06710309184533],\n",
    "    [6.77665715793125,-22.3947299635571],\n",
    "    [20.1844223778907,-16.0427471125407],\n",
    "    [25.5506805272535,-9.33856532270204],\n",
    "    [25.1495682602477,-7.17350567090738],\n",
    "    [15.6978431006492,-17.5979197162642],\n",
    "    [37.42780451491,-10.843637288504],\n",
    "    [22.974620174842,-10.6171162611686],\n",
    "    [34.6327117468934,-9.26182440487384],\n",
    "    [34.7042513789061,-6.9630753351114],\n",
    "    [15.6563953929008,-17.2196961218915],\n",
    "    [25.2049825789225,-14.1592086208169]\n",
    "]\n",
    "np_X= np.array(X)\n",
    "plt.plot(np_X[:,0], np_X[:,1], 'ro', color='salmon')\n",
    "plt.show()"
   ]
  },
  {
   "cell_type": "code",
   "execution_count": 10,
   "id": "58c428c9",
   "metadata": {},
   "outputs": [],
   "source": [
    "def de_mean_matrix(A):\n",
    "    '''A의 모든 값에서 각 열의 평균을 빼준 행렬을 반환\n",
    "    반환된 행렬의 모든 열의 평균은 0'''\n",
    "    nr, nc = shape(A)\n",
    "    column_means, _ = scale(A)\n",
    "    return make_matrix(nr, nc, lambda i, j: A[i][j] - column_means[j])"
   ]
  },
  {
   "cell_type": "code",
   "execution_count": 12,
   "id": "83305349",
   "metadata": {},
   "outputs": [
    {
     "ename": "NameError",
     "evalue": "name 'shape' is not defined",
     "output_type": "error",
     "traceback": [
      "\u001b[1;31m---------------------------------------------------------------------------\u001b[0m",
      "\u001b[1;31mNameError\u001b[0m                                 Traceback (most recent call last)",
      "Cell \u001b[1;32mIn[12], line 1\u001b[0m\n\u001b[1;32m----> 1\u001b[0m np_mean_X \u001b[38;5;241m=\u001b[39m np\u001b[38;5;241m.\u001b[39marray(\u001b[43mde_mean_matrix\u001b[49m\u001b[43m(\u001b[49m\u001b[43mX\u001b[49m\u001b[43m)\u001b[49m)\n\u001b[0;32m      3\u001b[0m plt\u001b[38;5;241m.\u001b[39mplot(np_mean_X[:,\u001b[38;5;241m0\u001b[39m], np_mean_X[:,\u001b[38;5;241m1\u001b[39m], \u001b[38;5;124m'\u001b[39m\u001b[38;5;124mro\u001b[39m\u001b[38;5;124m'\u001b[39m, color\u001b[38;5;241m=\u001b[39m\u001b[38;5;124m'\u001b[39m\u001b[38;5;124mcrimson\u001b[39m\u001b[38;5;124m'\u001b[39m)\n\u001b[0;32m      4\u001b[0m plt\u001b[38;5;241m.\u001b[39mshow()\n",
      "Cell \u001b[1;32mIn[10], line 4\u001b[0m, in \u001b[0;36mde_mean_matrix\u001b[1;34m(A)\u001b[0m\n\u001b[0;32m      1\u001b[0m \u001b[38;5;28;01mdef\u001b[39;00m \u001b[38;5;21mde_mean_matrix\u001b[39m(A):\n\u001b[0;32m      2\u001b[0m     \u001b[38;5;124;03m'''A의 모든 값에서 각 열의 평균을 빼준 행렬을 반환\u001b[39;00m\n\u001b[0;32m      3\u001b[0m \u001b[38;5;124;03m    반환된 행렬의 모든 열의 평균은 0'''\u001b[39;00m\n\u001b[1;32m----> 4\u001b[0m     nr, nc \u001b[38;5;241m=\u001b[39m \u001b[43mshape\u001b[49m(A)\n\u001b[0;32m      5\u001b[0m     column_means, _ \u001b[38;5;241m=\u001b[39m scale(A)\n\u001b[0;32m      6\u001b[0m     \u001b[38;5;28;01mreturn\u001b[39;00m make_matrix(nr, nc, \u001b[38;5;28;01mlambda\u001b[39;00m i, j: A[i][j] \u001b[38;5;241m-\u001b[39m column_means[j])\n",
      "\u001b[1;31mNameError\u001b[0m: name 'shape' is not defined"
     ]
    }
   ],
   "source": [
    "np_mean_X = np.array(de_mean_matrix(X))\n",
    "\n",
    "plt.plot(np_mean_X[:,0], np_mean_X[:,1], 'ro', color='crimson')\n",
    "plt.show()"
   ]
  },
  {
   "cell_type": "code",
   "execution_count": 14,
   "id": "21fa87f8",
   "metadata": {},
   "outputs": [
    {
     "data": {
      "text/plain": [
       "[[20.9666776351559, -13.1138080189357],\n",
       " [22.7719907680008, -19.8890894944696],\n",
       " [25.6687103160153, -11.9956004517219],\n",
       " [18.0019794950564, -18.1989191165133],\n",
       " [21.3967402102156, -10.8893126308196],\n",
       " [0.443696899177716, -19.7221132386308],\n",
       " [29.9198322142127, -14.0958668502427],\n",
       " [19.0805843080126, -13.7888747608312],\n",
       " [16.4685063521314, -11.2612927034291],\n",
       " [21.4597664701884, -12.4740034586705],\n",
       " [3.87655283720532, -17.575162461771],\n",
       " [34.5713920556787, -10.705185165378],\n",
       " [13.3732115747722, -16.7270274494424],\n",
       " [20.7281704141919, -8.81165591556553],\n",
       " [24.839851437942, -12.1240962157419],\n",
       " [20.3019544741252, -12.8725060780898],\n",
       " [21.9021426929599, -17.3225432396452],\n",
       " [23.2285885715486, -12.2676568419045],\n",
       " [28.5749111681851, -13.2616470619453],\n",
       " [29.2957424128701, -14.6299928678996],\n",
       " [15.2495527798625, -18.4649714274207],\n",
       " [26.5567257400476, -9.19794350561966],\n",
       " [30.1934232346361, -12.6272709845971],\n",
       " [36.8267446011057, -7.25409849336718],\n",
       " [32.157416823084, -10.4729534347553],\n",
       " [5.85964365291694, -22.6573731626132],\n",
       " [25.7426190674693, -14.8055803854566],\n",
       " [16.237602636139, -16.5920595763719],\n",
       " [14.7408608850568, -20.0537715298403],\n",
       " [6.85907008242544, -18.3965586884781],\n",
       " [26.5918329233128, -8.92664811750842],\n",
       " [-11.2216019958228, -27.0519081982856],\n",
       " [8.93593745011035, -20.8261235122575],\n",
       " [24.4481258671796, -18.0324012215159],\n",
       " [2.82048515404903, -22.4208457598703],\n",
       " [30.8803004755948, -11.455358009593],\n",
       " [15.4586738236098, -11.1242825084309],\n",
       " [28.5332537090494, -14.7898744423126],\n",
       " [40.4830293441052, -2.41946428697183],\n",
       " [15.7563759125684, -13.5771266003795],\n",
       " [19.3635588851727, -20.6224770470434],\n",
       " [13.4212840786467, -19.0238227375766],\n",
       " [7.77570680426702, -16.6385739839089],\n",
       " [21.4865983854408, -15.290799330002],\n",
       " [12.6392705930724, -23.6433305964301],\n",
       " [12.4746151388128, -17.9720169566614],\n",
       " [23.4572410437998, -14.602080545086],\n",
       " [13.6878189833565, -18.9687408182414],\n",
       " [15.4077465943441, -14.5352487124086],\n",
       " [20.3356581548895, -10.0883159703702],\n",
       " [20.7093833689359, -12.6939091236766],\n",
       " [11.1032293684441, -14.1383848928755],\n",
       " [17.5048321498308, -9.2338593361801],\n",
       " [16.3303688220188, -15.1054735529158],\n",
       " [26.6929062710726, -13.306030567991],\n",
       " [34.4985678099711, -9.86199941278607],\n",
       " [39.1374291499406, -10.5621430853401],\n",
       " [21.9088956482146, -9.95198845621849],\n",
       " [22.2367457578087, -17.2200123442707],\n",
       " [10.0032784145577, -19.3557700653426],\n",
       " [14.045833906665, -15.871937521131],\n",
       " [15.5640911917607, -18.3396956121887],\n",
       " [24.4771926581586, -14.8715313479137],\n",
       " [26.533415556629, -14.693883922494],\n",
       " [12.8722580202544, -21.2750596021509],\n",
       " [24.4768291376862, -15.9592080959207],\n",
       " [18.2230748567433, -14.6541444069985],\n",
       " [4.1902148367447, -20.6144032528762],\n",
       " [12.4332594022086, -16.6079789231489],\n",
       " [20.5483758651873, -18.8512560786321],\n",
       " [17.8180560451358, -12.5451990696752],\n",
       " [11.0071081078049, -20.3938092335862],\n",
       " [8.30560561422449, -22.9503944138682],\n",
       " [33.9857852657284, -4.8371294974382],\n",
       " [17.4376502239652, -14.5095976075022],\n",
       " [29.0379635148943, -14.8461553663227],\n",
       " [29.1344666599319, -7.70862921632672],\n",
       " [32.9730697624544, -15.5839178785654],\n",
       " [13.4211493998212, -20.150199857584],\n",
       " [11.380538260355, -12.8619410359766],\n",
       " [28.672631499186, -8.51866271785711],\n",
       " [16.4296061111902, -23.3326051279759],\n",
       " [25.7168371582585, -13.8899296143829],\n",
       " [13.3185154732595, -17.8959160024249],\n",
       " [3.60832478605376, -25.4023343597712],\n",
       " [39.5445949652652, -11.466377647931],\n",
       " [25.1693484426101, -12.2752652925707],\n",
       " [25.2884257196471, -7.06710309184533],\n",
       " [6.77665715793125, -22.3947299635571],\n",
       " [20.1844223778907, -16.0427471125407],\n",
       " [25.5506805272535, -9.33856532270204],\n",
       " [25.1495682602477, -7.17350567090738],\n",
       " [15.6978431006492, -17.5979197162642],\n",
       " [37.42780451491, -10.843637288504],\n",
       " [22.974620174842, -10.6171162611686],\n",
       " [34.6327117468934, -9.26182440487384],\n",
       " [34.7042513789061, -6.9630753351114],\n",
       " [15.6563953929008, -17.2196961218915],\n",
       " [25.2049825789225, -14.1592086208169]]"
      ]
     },
     "execution_count": 14,
     "metadata": {},
     "output_type": "execute_result"
    }
   ],
   "source": [
    "X"
   ]
  },
  {
   "cell_type": "code",
   "execution_count": null,
   "id": "65ecf548",
   "metadata": {},
   "outputs": [],
   "source": []
  },
  {
   "cell_type": "code",
   "execution_count": null,
   "id": "8c7b2f29",
   "metadata": {},
   "outputs": [],
   "source": []
  }
 ],
 "metadata": {
  "kernelspec": {
   "display_name": "Python 3 (ipykernel)",
   "language": "python",
   "name": "python3"
  },
  "language_info": {
   "codemirror_mode": {
    "name": "ipython",
    "version": 3
   },
   "file_extension": ".py",
   "mimetype": "text/x-python",
   "name": "python",
   "nbconvert_exporter": "python",
   "pygments_lexer": "ipython3",
   "version": "3.9.16"
  }
 },
 "nbformat": 4,
 "nbformat_minor": 5
}
