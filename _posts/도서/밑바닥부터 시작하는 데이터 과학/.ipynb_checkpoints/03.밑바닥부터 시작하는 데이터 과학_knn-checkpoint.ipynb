{
 "cells": [
  {
   "cell_type": "markdown",
   "metadata": {},
   "source": [
    "## 12.1. 모델\n",
    "- k-NN(k-Nearest Neighbors, k-근접이웃)\n",
    ">- 거리를 재는 방법  \n",
    ">- 서로 가까운 점들은 유사하다는 가정"
   ]
  },
  {
   "cell_type": "code",
   "execution_count": 42,
   "metadata": {
    "scrolled": true
   },
   "outputs": [],
   "source": [
    "from collections import Counter\n",
    "import statsmodels.api as sm\n",
    "#from linear_algebra import distance #해당 라이브러리를 받을 수 없음. \n",
    "from scipy import stats\n",
    "#from stats import mean\n",
    "import math, random\n",
    "import matplotlib.pyplot as plt"
   ]
  },
  {
   "cell_type": "code",
   "execution_count": 43,
   "metadata": {},
   "outputs": [],
   "source": [
    "def raw_majority_vote(labels):\n",
    "    votes = Counter(labels)\n",
    "    winner, _ = votes.most_common(1)[0]\n",
    "    #most_common은 counter형 데이터에서 최빈값인 것들을 ()안의 숫자만큼 반환한다.\n",
    "    #ex)[(1, 5), (2, 3), (3, 3)] #(숫자, n번)\n",
    "    #winner로 가장 먼저 나온 숫자를 받는다. \n",
    "    return winner"
   ]
  },
  {
   "cell_type": "code",
   "execution_count": null,
   "metadata": {},
   "outputs": [],
   "source": [
    "#여러 1등 중 임의로 하나를 설정한다.\n",
    "#거리를 가중치로 사용해 거리 기반 투표를 한다. \n",
    "#단독 1등이 생길 대까지 k를 하나씩 줄인다."
   ]
  },
  {
   "cell_type": "code",
   "execution_count": 44,
   "metadata": {},
   "outputs": [],
   "source": [
    "def majority_vote(labels):\n",
    "    '''labels는 가장 가까운 데이터부터 가장 먼 데이터 순서로 정렬되어 있다고 가정'''\n",
    "    vote_counts = Counter(labels)\n",
    "    winner, winner_count = vote_counts.most_common(1)[0]\n",
    "    #winner count = 최빈값\n",
    "    num_winners = len([count\n",
    "                      for count in vote_counts.values()\n",
    "                      if count == winner_count])\n",
    "    if num_winners == 1:\n",
    "        return winner  # 1등이 하나이기 때문에 반환\n",
    "    else:\n",
    "        return majority_vote(labels[:-1])  # 가장 먼 데이터를 제외하고 다시 찾아봄"
   ]
  },
  {
   "cell_type": "code",
   "execution_count": null,
   "metadata": {},
   "outputs": [],
   "source": [
    "test=[1,2,3,5,6]\n",
    "test[:-1]"
   ]
  },
  {
   "cell_type": "code",
   "execution_count": 45,
   "metadata": {},
   "outputs": [],
   "source": [
    "def knn_classify(k, labeled_points, new_point):\n",
    "    '''각 labeled_points는 (데이터 포인트, 레이블) 쌍으로 구성되어 있음'''\n",
    "    \n",
    "    # labeled_points를 가장 가까운 데이터부터 가장 먼 데이터 순서로 정렬\n",
    "    #distance함수 작성된 부분 없음\n",
    "    by_distance = sorted(labeled_points, \n",
    "                         key=lambda point_label: distance(point_label[0], new_point))\n",
    "    \n",
    "    # 가장 가까운 k 데이터 포인트의 레이블을 살펴보고\n",
    "    k_nearest_labels = [label for _, label in by_distance[:k]]\n",
    "    \n",
    "    # 투표를 함\n",
    "    return majority_vote(k_nearest_labels)"
   ]
  },
  {
   "cell_type": "code",
   "execution_count": 22,
   "metadata": {
    "scrolled": true
   },
   "outputs": [
    {
     "data": {
      "text/plain": [
       "[2, 3, 4, 5, 6]"
      ]
     },
     "execution_count": 22,
     "metadata": {},
     "output_type": "execute_result"
    }
   ],
   "source": [
    "sorted([4,3,5,6,2])#오름차순 정렬"
   ]
  },
  {
   "cell_type": "code",
   "execution_count": 23,
   "metadata": {},
   "outputs": [
    {
     "data": {
      "text/plain": [
       "3"
      ]
     },
     "execution_count": 23,
     "metadata": {},
     "output_type": "execute_result"
    }
   ],
   "source": [
    "def hap(x,y):\n",
    "    return x+y  \n",
    "hap(1,2)"
   ]
  },
  {
   "cell_type": "code",
   "execution_count": 24,
   "metadata": {},
   "outputs": [
    {
     "data": {
      "text/plain": [
       "3"
      ]
     },
     "execution_count": 24,
     "metadata": {},
     "output_type": "execute_result"
    }
   ],
   "source": [
    "(lambda x,y:x+y)(1,2)"
   ]
  },
  {
   "cell_type": "markdown",
   "metadata": {},
   "source": [
    "## 12.2. 예시: 가장 인기 있는 프로그래밍 언어"
   ]
  },
  {
   "cell_type": "code",
   "execution_count": 25,
   "metadata": {},
   "outputs": [],
   "source": [
    "# 각 데이터는 ([경도, 위도], 선호하는 프로그래밍 언어) 형태로 구성되어 있음\n",
    "\n",
    "cities = [(-86.75,33.5666666666667,'Python'),(-88.25,30.6833333333333,'Python'),(-112.016666666667,33.4333333333333,'Java'),(-110.933333333333,32.1166666666667,'Java'),(-92.2333333333333,34.7333333333333,'R'),(-121.95,37.7,'R'),(-118.15,33.8166666666667,'Python'),(-118.233333333333,34.05,'Java'),(-122.316666666667,37.8166666666667,'R'),(-117.6,34.05,'Python'),(-116.533333333333,33.8166666666667,'Python'),(-121.5,38.5166666666667,'R'),(-117.166666666667,32.7333333333333,'R'),(-122.383333333333,37.6166666666667,'R'),(-121.933333333333,37.3666666666667,'R'),(-122.016666666667,36.9833333333333,'Python'),(-104.716666666667,38.8166666666667,'Python'),(-104.866666666667,39.75,'Python'),(-72.65,41.7333333333333,'R'),(-75.6,39.6666666666667,'Python'),(-77.0333333333333,38.85,'Python'),(-80.2666666666667,25.8,'Java'),(-81.3833333333333,28.55,'Java'),(-82.5333333333333,27.9666666666667,'Java'),(-84.4333333333333,33.65,'Python'),(-116.216666666667,43.5666666666667,'Python'),(-87.75,41.7833333333333,'Java'),(-86.2833333333333,39.7333333333333,'Java'),(-93.65,41.5333333333333,'Java'),(-97.4166666666667,37.65,'Java'),(-85.7333333333333,38.1833333333333,'Python'),(-90.25,29.9833333333333,'Java'),(-70.3166666666667,43.65,'R'),(-76.6666666666667,39.1833333333333,'R'),(-71.0333333333333,42.3666666666667,'R'),(-72.5333333333333,42.2,'R'),(-83.0166666666667,42.4166666666667,'Python'),(-84.6,42.7833333333333,'Python'),(-93.2166666666667,44.8833333333333,'Python'),(-90.0833333333333,32.3166666666667,'Java'),(-94.5833333333333,39.1166666666667,'Java'),(-90.3833333333333,38.75,'Python'),(-108.533333333333,45.8,'Python'),(-95.9,41.3,'Python'),(-115.166666666667,36.0833333333333,'Java'),(-71.4333333333333,42.9333333333333,'R'),(-74.1666666666667,40.7,'R'),(-106.616666666667,35.05,'Python'),(-78.7333333333333,42.9333333333333,'R'),(-73.9666666666667,40.7833333333333,'R'),(-80.9333333333333,35.2166666666667,'Python'),(-78.7833333333333,35.8666666666667,'Python'),(-100.75,46.7666666666667,'Java'),(-84.5166666666667,39.15,'Java'),(-81.85,41.4,'Java'),(-82.8833333333333,40,'Java'),(-97.6,35.4,'Python'),(-122.666666666667,45.5333333333333,'Python'),(-75.25,39.8833333333333,'Python'),(-80.2166666666667,40.5,'Python'),(-71.4333333333333,41.7333333333333,'R'),(-81.1166666666667,33.95,'R'),(-96.7333333333333,43.5666666666667,'Python'),(-90,35.05,'R'),(-86.6833333333333,36.1166666666667,'R'),(-97.7,30.3,'Python'),(-96.85,32.85,'Java'),(-95.35,29.9666666666667,'Java'),(-98.4666666666667,29.5333333333333,'Java'),(-111.966666666667,40.7666666666667,'Python'),(-73.15,44.4666666666667,'R'),(-77.3333333333333,37.5,'Python'),(-122.3,47.5333333333333,'Python'),(-89.3333333333333,43.1333333333333,'R'),(-104.816666666667,41.15,'Java')]\n",
    "cities = [([longitude, latitude], language) for longitude, latitude, language in cities]"
   ]
  },
  {
   "cell_type": "code",
   "execution_count": 26,
   "metadata": {},
   "outputs": [
    {
     "data": {
      "text/plain": [
       "[([-86.75, 33.5666666666667], 'Python'),\n",
       " ([-88.25, 30.6833333333333], 'Python'),\n",
       " ([-112.016666666667, 33.4333333333333], 'Java'),\n",
       " ([-110.933333333333, 32.1166666666667], 'Java'),\n",
       " ([-92.2333333333333, 34.7333333333333], 'R')]"
      ]
     },
     "execution_count": 26,
     "metadata": {},
     "output_type": "execute_result"
    }
   ],
   "source": [
    "cities[:5]"
   ]
  },
  {
   "cell_type": "code",
   "execution_count": 27,
   "metadata": {},
   "outputs": [],
   "source": [
    "def plot_state_borders(plt, color='0.8'):\n",
    "    pass"
   ]
  },
  {
   "cell_type": "code",
   "execution_count": null,
   "metadata": {},
   "outputs": [],
   "source": [
    "#plot_state_borders\n",
    "#불가 states.txt파일 없음 \n",
    "\"\"\"\n",
    "1.검색엔진에서 state boundaries latitude longitude(미국 주 경계 위경도)같은 쿼리로 검색\n",
    "2.가지고 있는 데이터를 [(경도1,위도1),(경도2,위도2)]등의 형태로 변환한다.\n",
    "3.plt.plot(을 이용해 지도를 그린다.)\n",
    "\"\"\"\n",
    "import re\n",
    "import matplotlib.pyplot as plt\n",
    "\n",
    "segments = []\n",
    "points = []\n",
    "\n",
    "lat_long_regex = r\"<point lat=\\\"(.*)\\\" lng=\\\"(.*)\\\"\"\n",
    "\n",
    "with open(\"states.txt\", \"r\") as f:\n",
    "    lines = [line for line in f]\n",
    "\n",
    "for line in lines:\n",
    "    if line.startswith(\"</state>\"):\n",
    "        for p1, p2 in zip(points, points[1:]):\n",
    "            segments.append((p1, p2))\n",
    "        points = []\n",
    "    s = re.search(lat_long_regex, line)\n",
    "    if s:\n",
    "        lat, lon = s.groups()\n",
    "        points.append((float(lon), float(lat)))\n",
    "\n",
    "def plot_state_borders(color='0.8'):\n",
    "    for (lon1, lat1), (lon2, lat2) in segments:\n",
    "        plt.plot([lon1, lon2], [lat1, lat2], color=color)\n",
    "    "
   ]
  },
  {
   "cell_type": "code",
   "execution_count": 38,
   "metadata": {},
   "outputs": [
    {
     "data": {
      "image/png": "[encoded data removed]",
      "text/plain": [
       "<Figure size 640x480 with 1 Axes>"
      ]
     },
     "metadata": {},
     "output_type": "display_data"
    }
   ],
   "source": [
    "# 프로그래밍 언어가 키(key), (경도, 위도) 쌍이 값\n",
    "plots = {'Java' : ([], []), 'Python' : ([], []), 'R' : ([], [])}\n",
    "\n",
    "# 각 프로그래밍 언어마다 색깔과 마커(marker)가 다름\n",
    "markers = {'Java' : 'o', 'Python' : 's', 'R' : '^'}\n",
    "colors = {'Java' : 'r', 'Python' : 'b', 'R' : 'g'}\n",
    "\n",
    "for(longitude, latitude), language in cities:\n",
    "    plots[language][0].append(longitude)\n",
    "    plots[language][1].append(latitude)\n",
    "\n",
    "# 각 프로그래밍 언어마다 데이터 포인트를 뿌림\n",
    "for language, (x, y) in plots.items():\n",
    "    plt.scatter(x, y, color=colors[language], marker=markers[language],\n",
    "                label=language, zorder=10)\n",
    "    \n",
    "plot_state_borders(plt)  # 주 경계선을 그려 주는 함수가 있다고 하자\n",
    "\n",
    "plt.legend(loc=0)  # matplotlib가 알아서 위치를 설정\n",
    "plt.axis([-130, -60, 20, 55])  # 축 설정\n",
    "\n",
    "plt.title('Favorite Programming Languages')\n",
    "plt.show()\n",
    "#현재 데이터는 미국 지도를 두고 그려져야 한다. \n",
    "#현재 데이터를 기준으로 인접한 지역기리 비슷한 언어를 좋아하는 경향을 보인다고 함."
   ]
  },
  {
   "cell_type": "code",
   "execution_count": 35,
   "metadata": {},
   "outputs": [
    {
     "name": "stdout",
     "output_type": "stream",
     "text": [
      "(-86.75, 33.5666666666667) Python\n"
     ]
    }
   ],
   "source": [
    "for(longitude, latitude), language in cities:\n",
    "    print((longitude, latitude), language)\n",
    "    break"
   ]
  },
  {
   "cell_type": "code",
   "execution_count": 33,
   "metadata": {
    "scrolled": true
   },
   "outputs": [
    {
     "data": {
      "text/plain": [
       "([-112.016666666667,\n",
       "  -110.933333333333,\n",
       "  -118.233333333333,\n",
       "  -80.2666666666667,\n",
       "  -81.3833333333333,\n",
       "  -82.5333333333333,\n",
       "  -87.75,\n",
       "  -86.2833333333333,\n",
       "  -93.65,\n",
       "  -97.4166666666667,\n",
       "  -90.25,\n",
       "  -90.0833333333333,\n",
       "  -94.5833333333333,\n",
       "  -115.166666666667,\n",
       "  -100.75,\n",
       "  -84.5166666666667,\n",
       "  -81.85,\n",
       "  -82.8833333333333,\n",
       "  -96.85,\n",
       "  -95.35,\n",
       "  -98.4666666666667,\n",
       "  -104.816666666667],\n",
       " [33.4333333333333,\n",
       "  32.1166666666667,\n",
       "  34.05,\n",
       "  25.8,\n",
       "  28.55,\n",
       "  27.9666666666667,\n",
       "  41.7833333333333,\n",
       "  39.7333333333333,\n",
       "  41.5333333333333,\n",
       "  37.65,\n",
       "  29.9833333333333,\n",
       "  32.3166666666667,\n",
       "  39.1166666666667,\n",
       "  36.0833333333333,\n",
       "  46.7666666666667,\n",
       "  39.15,\n",
       "  41.4,\n",
       "  40,\n",
       "  32.85,\n",
       "  29.9666666666667,\n",
       "  29.5333333333333,\n",
       "  41.15])"
      ]
     },
     "execution_count": 33,
     "metadata": {},
     "output_type": "execute_result"
    }
   ],
   "source": [
    "plots['Java']"
   ]
  },
  {
   "cell_type": "code",
   "execution_count": null,
   "metadata": {},
   "outputs": [],
   "source": [
    "#현재 기준 knn_classify함수에서 distance 메소드를 사용할 수 없어 오류남"
   ]
  },
  {
   "cell_type": "code",
   "execution_count": 24,
   "metadata": {},
   "outputs": [
    {
     "name": "stdout",
     "output_type": "stream",
     "text": [
      "1 neighbor[s]: 40 correct out of 75\n",
      "3 neighbor[s]: 44 correct out of 75\n",
      "5 neighbor[s]: 41 correct out of 75\n",
      "7 neighbor[s]: 35 correct out of 75\n",
      "1 7.947421226228712e-06 0.3310009902894413 2.4010264196729895e-05\n",
      "6 0.18647467260473205 0.9677679968196268 0.19268530600055306\n",
      "11 0.315888574043911 1.3334395796543002 0.23689755341281116\n",
      "16 0.7209190490469604 1.6154152410436047 0.4462747600308797\n",
      "21 0.9694045860570238 1.8574960773724116 0.5218878240800003\n",
      "26 1.1698067560262715 2.0632214700056446 0.5669807013122402\n",
      "31 1.2930748713962408 2.257299829279505 0.5728414340991512\n",
      "36 1.5123637311959328 2.437670913316559 0.620413413038717\n",
      "41 1.5514668006745476 2.6039686964057926 0.5958085451703037\n",
      "46 1.6688006850159558 2.756796053135482 0.6053406392242623\n",
      "51 2.0135369208019926 2.902997336534375 0.6936061895274667\n",
      "56 2.1422705294432887 3.0461953095695335 0.7032610557548324\n",
      "61 2.2891825062886793 3.1783717877656223 0.720237486092828\n",
      "66 2.3805561409678484 3.305579571524835 0.7201630121006946\n",
      "71 2.428355816745725 3.4329484139337785 0.7073674066552892\n",
      "76 2.5356413086431617 3.558475062222762 0.7125640237195596\n",
      "81 2.682272988673655 3.669873368578009 0.7308897935388364\n",
      "86 2.8348947533212074 3.779672772114365 0.7500370863415659\n",
      "91 3.015796748953059 3.888554628876585 0.7755572537306314\n",
      "96 2.976216447967502 3.9912782735625743 0.7456800162698157\n"
     ]
    }
   ],
   "source": [
    "def random_point(dim):\n",
    "    return [random.random() for _ in range(dim)]\n",
    "\n",
    "def random_distances(dim, num_pairs):\n",
    "    return [distance(random_point(dim), random_point(dim))\n",
    "            for _ in range(num_pairs)]\n",
    "\n",
    "\n",
    "if __name__ == \"__main__\":\n",
    "#이웃 도시들을 통해 해당 도시의 선호 언어를 추정하는 방법이 얼마나 좋은지 확인\n",
    "#다양한 k값에 대해 시도\n",
    "    # try several different values for k\n",
    "    for k in [1, 3, 5, 7]:\n",
    "        num_correct = 0\n",
    "\n",
    "        for location, actual_language in cities:\n",
    "\n",
    "            other_cities = [other_city\n",
    "                            for other_city in cities\n",
    "                            if other_city != (location, actual_language)]\n",
    "\n",
    "            predicted_language = knn_classify(k, other_cities, location)\n",
    "\n",
    "            if predicted_language == actual_language:\n",
    "                num_correct += 1\n",
    "\n",
    "        print(k, \"neighbor[s]:\", num_correct, \"correct out of\", len(cities))\n",
    "\n",
    "    dimensions = range(1, 101, 5)\n",
    "\n",
    "    avg_distances = []\n",
    "    min_distances = []\n",
    "\n",
    "    random.seed(0)\n",
    "    for dim in dimensions:\n",
    "        distances = random_distances(dim, 10000)  # 10,000 random pairs\n",
    "        avg_distances.append(mean(distances))     # track the average\n",
    "        min_distances.append(min(distances))      # track the minimum\n",
    "        print(dim, min(distances), mean(distances), min(distances) / mean(distances))"
   ]
  },
  {
   "cell_type": "code",
   "execution_count": 48,
   "metadata": {},
   "outputs": [
    {
     "data": {
      "text/plain": [
       "0.5866666666666667"
      ]
     },
     "execution_count": 48,
     "metadata": {},
     "output_type": "execute_result"
    }
   ],
   "source": [
    "#3개의 근접이웃을 봤을 때 (k=3)일 때 성능이 59%로 가장 좋다.\n",
    "44/75"
   ]
  },
  {
   "cell_type": "markdown",
   "metadata": {},
   "source": [
    "## 12.3. 차원의 저주\n",
    "- k-NN은 '차원의 저주(curse of dimensionality)'라는 것 때문에 고차원에서 문제가 생긴다. 이것은 데이터가 고차원이라는 것은 다루는 공간이 엄청나게 크다는 것을 의미하며, 그 때문에 데이터 포인트들은 서로 '근접'하지 않게 된다."
   ]
  },
  {
   "cell_type": "code",
   "execution_count": 2,
   "metadata": {},
   "outputs": [],
   "source": [
    "def random_point(dim):\n",
    "    return [random.random() for _ in range(dim)]"
   ]
  },
  {
   "cell_type": "code",
   "execution_count": 3,
   "metadata": {},
   "outputs": [],
   "source": [
    "#두 점 사이의 거리 재기\n",
    "def random_distances(dim, num_pairs):\n",
    "    return [distance(random_point(dim), random_point(dim))\n",
    "           for _ in range(num_pairs)]"
   ]
  },
  {
   "cell_type": "code",
   "execution_count": null,
   "metadata": {},
   "outputs": [],
   "source": [
    "#1차원부터 100차원까지 각 차원에 대해 총 10000개의 거리를 계산한 뒤 \n",
    "#각 점들간 평균거리와 최소거리를 구한다.\n",
    "dimensions=range(1,101)\n",
    "\n",
    "avg_distances=[]\n",
    "min_distances=[]\n",
    "random.seed(0)\n",
    "for dim in dimensions:\n",
    "    distances = random_distances(dim, 10000)#10000개의 임의의 쌍\n",
    "    avg_distances.append(mean(distances)) #평균거리와\n",
    "    min_distances.append(min(distances)) #최소거리 저장"
   ]
  },
  {
   "cell_type": "code",
   "execution_count": null,
   "metadata": {},
   "outputs": [],
   "source": [
    "#차원이 증가할수록 점들 간 평균 거리도 증가하지만 더 큰 문제는 최근접거리와 평균 거리의 비율이다. "
   ]
  },
  {
   "cell_type": "markdown",
   "metadata": {},
   "source": [
    "## 12.4. 더 공부해 보고 싶다면\n",
    "- scikit-learn은 다양한 근접이웃 모델을 확인할 수 있다."
   ]
  },
  {
   "cell_type": "code",
   "execution_count": null,
   "metadata": {},
   "outputs": [],
   "source": []
  }
 ],
 "metadata": {
  "kernelspec": {
   "display_name": "Python 3 (ipykernel)",
   "language": "python",
   "name": "python3"
  },
  "language_info": {
   "codemirror_mode": {
    "name": "ipython",
    "version": 3
   },
   "file_extension": ".py",
   "mimetype": "text/x-python",
   "name": "python",
   "nbconvert_exporter": "python",
   "pygments_lexer": "ipython3",
   "version": "3.9.16"
  }
 },
 "nbformat": 4,
 "nbformat_minor": 2
}
