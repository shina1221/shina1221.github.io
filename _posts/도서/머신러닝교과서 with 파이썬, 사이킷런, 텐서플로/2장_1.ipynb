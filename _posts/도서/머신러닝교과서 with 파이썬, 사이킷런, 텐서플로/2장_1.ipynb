{
 "cells": [
  {
   "cell_type": "code",
   "execution_count": null,
   "metadata": {},
   "outputs": [],
   "source": [
    "#퍼셉트론 \n",
    "import numpy as np\n",
    "\n",
    "class perceptron(object):\n",
    "    \"\"\"\n",
    "    퍼셉트론 분류기\n",
    "\n",
    "    매개변수\n",
    "    ----------------\n",
    "    eta: float\n",
    "    학습률 (0.0과 1.0사이)\n",
    "    n_iter: int\n",
    "    훈련 데이터셋 반복 횟수\n",
    "    random_state: int\n",
    "    가중치 무작위 초기화를 위한 난수 생성기 시드\n",
    "\n",
    "    속성\n",
    "    -----------------\n",
    "    w_ = 1d_array\n",
    "    학습된 가중치\n",
    "    errors_: list\n",
    "    에포크마다 누적된 분류 오류\n",
    "    \"\"\"\n",
    "    def __init__(self, eta=0.01, n_iter=50, random_state=1):\n",
    "        self.eta=eta\n",
    "        self.n_iter= n_iter\n",
    "        self.random_state = random_state\n",
    "\n",
    "    def fit(self, X, y):\n",
    "        \"\"\"\n",
    "        훈련 데이터 학습\n",
    "\n",
    "        매개변수 \n",
    "        -----------------\n",
    "        ㅌ: \n",
    "        \"\"\""
   ]
  }
 ],
 "metadata": {
  "kernelspec": {
   "display_name": "Python 3.9.7 ('base')",
   "language": "python",
   "name": "python3"
  },
  "language_info": {
   "name": "python",
   "version": "3.9.7"
  },
  "orig_nbformat": 4,
  "vscode": {
   "interpreter": {
    "hash": "610a6f344c2137faf927ea819c63f6cee33a2c04455044b28099f39fe9722347"
   }
  }
 },
 "nbformat": 4,
 "nbformat_minor": 2
}
